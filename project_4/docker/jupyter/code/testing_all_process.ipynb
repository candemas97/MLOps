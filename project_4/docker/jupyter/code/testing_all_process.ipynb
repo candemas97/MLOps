{
 "cells": [
  {
   "cell_type": "markdown",
   "id": "fb399c1f-0ef8-4340-b22c-8f881d82b97f",
   "metadata": {
    "tags": []
   },
   "source": [
    "# **Libraries**"
   ]
  },
  {
   "cell_type": "code",
   "execution_count": 1,
   "id": "fc6f20dd-76b7-46a4-a870-a57a8eed5c59",
   "metadata": {
    "tags": []
   },
   "outputs": [
    {
     "name": "stdout",
     "output_type": "stream",
     "text": [
      "\u001b[33mWARNING: Running pip as the 'root' user can result in broken permissions and conflicting behaviour with the system package manager. It is recommended to use a virtual environment instead: https://pip.pypa.io/warnings/venv\u001b[0m\u001b[33m\n",
      "\u001b[0m"
     ]
    }
   ],
   "source": [
    "!pip install seaborn matplotlib --quiet # This lines are only used in the jupyter, that's why we do not include it in the requirements.txt\n",
    "\n",
    "import seaborn as sns\n",
    "import matplotlib.pyplot as plt"
   ]
  },
  {
   "cell_type": "code",
   "execution_count": 15,
   "id": "67679508-495d-43bd-bfc0-c2dcb5da9daa",
   "metadata": {
    "tags": []
   },
   "outputs": [],
   "source": [
    "import os\n",
    "\n",
    "import pandas as pd\n",
    "import numpy as np\n",
    "import sqlalchemy\n",
    "import pymysql\n",
    "import mlflow\n",
    "\n",
    "from sklearn.model_selection import train_test_split\n",
    "from sklearn.preprocessing import StandardScaler\n",
    "from sklearn.preprocessing import OneHotEncoder\n",
    "from sklearn.compose import make_column_transformer # for dummies\n",
    "from sklearn.pipeline import Pipeline # creating a pipeline\n",
    "from sklearn.model_selection import GridSearchCV\n",
    "\n",
    "from sklearn.ensemble import RandomForestClassifier\n",
    "from sklearn.ensemble import RandomForestRegressor"
   ]
  },
  {
   "cell_type": "markdown",
   "id": "3b4f88da-aa41-49df-8b8a-691cd8dda106",
   "metadata": {
    "jp-MarkdownHeadingCollapsed": true,
    "tags": []
   },
   "source": [
    "# **Reading Data**"
   ]
  },
  {
   "cell_type": "markdown",
   "id": "4f194df6-c1d0-48da-9391-affe6ba5b04a",
   "metadata": {},
   "source": [
    "Conection details"
   ]
  },
  {
   "cell_type": "code",
   "execution_count": 13,
   "id": "7c46e1ec-3604-4e3f-b637-6fef060fa58b",
   "metadata": {
    "tags": []
   },
   "outputs": [],
   "source": [
    "DB_HOST = \"mysql\" # \"10.43.101.158\" # \"localhost\" \"10.43.101.158\"  # Using INTERNET!\n",
    "DB_USER = \"root\"\n",
    "DB_PASSWORD = \"airflow\" \n",
    "DB_NAME = \"project_4\"\n",
    "PORT= 3306"
   ]
  },
  {
   "cell_type": "markdown",
   "id": "9145c60e-19ce-4e6c-9d87-13d594ff96cc",
   "metadata": {},
   "source": [
    "Read table from MySQL"
   ]
  },
  {
   "cell_type": "code",
   "execution_count": 14,
   "id": "d88dacc3-9492-4c68-bf85-2d53b6bf0bce",
   "metadata": {
    "tags": []
   },
   "outputs": [
    {
     "name": "stdout",
     "output_type": "stream",
     "text": [
      "The dataframe has 73784 rows\n"
     ]
    },
    {
     "data": {
      "text/html": [
       "<div>\n",
       "<style scoped>\n",
       "    .dataframe tbody tr th:only-of-type {\n",
       "        vertical-align: middle;\n",
       "    }\n",
       "\n",
       "    .dataframe tbody tr th {\n",
       "        vertical-align: top;\n",
       "    }\n",
       "\n",
       "    .dataframe thead th {\n",
       "        text-align: right;\n",
       "    }\n",
       "</style>\n",
       "<table border=\"1\" class=\"dataframe\">\n",
       "  <thead>\n",
       "    <tr style=\"text-align: right;\">\n",
       "      <th></th>\n",
       "      <th>brokered_by</th>\n",
       "      <th>status</th>\n",
       "      <th>price</th>\n",
       "      <th>bed</th>\n",
       "      <th>bath</th>\n",
       "      <th>acre_lot</th>\n",
       "      <th>street</th>\n",
       "      <th>city</th>\n",
       "      <th>state</th>\n",
       "      <th>zip_code</th>\n",
       "      <th>house_size</th>\n",
       "      <th>prev_sold_date</th>\n",
       "    </tr>\n",
       "  </thead>\n",
       "  <tbody>\n",
       "    <tr>\n",
       "      <th>0</th>\n",
       "      <td>101640.0</td>\n",
       "      <td>for_sale</td>\n",
       "      <td>289900.0</td>\n",
       "      <td>4.0</td>\n",
       "      <td>2.0</td>\n",
       "      <td>0.38</td>\n",
       "      <td>1758218.0</td>\n",
       "      <td>East Windsor</td>\n",
       "      <td>Connecticut</td>\n",
       "      <td>6016.0</td>\n",
       "      <td>1617.0</td>\n",
       "      <td>1999-09-30</td>\n",
       "    </tr>\n",
       "    <tr>\n",
       "      <th>1</th>\n",
       "      <td>107951.0</td>\n",
       "      <td>for_sale</td>\n",
       "      <td>299900.0</td>\n",
       "      <td>3.0</td>\n",
       "      <td>2.0</td>\n",
       "      <td>0.87</td>\n",
       "      <td>1336295.0</td>\n",
       "      <td>Vernon</td>\n",
       "      <td>Connecticut</td>\n",
       "      <td>6066.0</td>\n",
       "      <td>1850.0</td>\n",
       "      <td>2015-11-09</td>\n",
       "    </tr>\n",
       "    <tr>\n",
       "      <th>2</th>\n",
       "      <td>80935.0</td>\n",
       "      <td>for_sale</td>\n",
       "      <td>299000.0</td>\n",
       "      <td>3.0</td>\n",
       "      <td>2.0</td>\n",
       "      <td>0.35</td>\n",
       "      <td>920059.0</td>\n",
       "      <td>North Canaan</td>\n",
       "      <td>Connecticut</td>\n",
       "      <td>6018.0</td>\n",
       "      <td>1620.0</td>\n",
       "      <td>2011-08-23</td>\n",
       "    </tr>\n",
       "    <tr>\n",
       "      <th>3</th>\n",
       "      <td>33714.0</td>\n",
       "      <td>for_sale</td>\n",
       "      <td>221000.0</td>\n",
       "      <td>4.0</td>\n",
       "      <td>2.0</td>\n",
       "      <td>0.32</td>\n",
       "      <td>731702.0</td>\n",
       "      <td>Windsor Locks</td>\n",
       "      <td>Connecticut</td>\n",
       "      <td>6096.0</td>\n",
       "      <td>1735.0</td>\n",
       "      <td>2014-03-03</td>\n",
       "    </tr>\n",
       "    <tr>\n",
       "      <th>4</th>\n",
       "      <td>29997.0</td>\n",
       "      <td>for_sale</td>\n",
       "      <td>175000.0</td>\n",
       "      <td>3.0</td>\n",
       "      <td>2.0</td>\n",
       "      <td>0.19</td>\n",
       "      <td>1382878.0</td>\n",
       "      <td>Winchester</td>\n",
       "      <td>Connecticut</td>\n",
       "      <td>6098.0</td>\n",
       "      <td>2005.0</td>\n",
       "      <td>2007-07-19</td>\n",
       "    </tr>\n",
       "  </tbody>\n",
       "</table>\n",
       "</div>"
      ],
      "text/plain": [
       "   brokered_by    status     price  bed  bath  acre_lot     street  \\\n",
       "0     101640.0  for_sale  289900.0  4.0   2.0      0.38  1758218.0   \n",
       "1     107951.0  for_sale  299900.0  3.0   2.0      0.87  1336295.0   \n",
       "2      80935.0  for_sale  299000.0  3.0   2.0      0.35   920059.0   \n",
       "3      33714.0  for_sale  221000.0  4.0   2.0      0.32   731702.0   \n",
       "4      29997.0  for_sale  175000.0  3.0   2.0      0.19  1382878.0   \n",
       "\n",
       "            city        state  zip_code  house_size prev_sold_date  \n",
       "0   East Windsor  Connecticut    6016.0      1617.0     1999-09-30  \n",
       "1         Vernon  Connecticut    6066.0      1850.0     2015-11-09  \n",
       "2   North Canaan  Connecticut    6018.0      1620.0     2011-08-23  \n",
       "3  Windsor Locks  Connecticut    6096.0      1735.0     2014-03-03  \n",
       "4     Winchester  Connecticut    6098.0      2005.0     2007-07-19  "
      ]
     },
     "execution_count": 14,
     "metadata": {},
     "output_type": "execute_result"
    }
   ],
   "source": [
    "connection = pymysql.connect(host=DB_HOST,\n",
    "                             user=DB_USER,\n",
    "                             password=DB_PASSWORD,\n",
    "                             db=DB_NAME,\n",
    "                             cursorclass=pymysql.cursors.DictCursor)  # Using DictCursos to obtain results as dictionaries\n",
    "try:\n",
    "    with connection.cursor() as cursor:\n",
    "        # Query the database\n",
    "        cursor.execute(\"SELECT * FROM project_4.raw_data;\")\n",
    "        result = cursor.fetchall()\n",
    "    # Convert into a pd.DataFrame\n",
    "    df = pd.DataFrame(result)\n",
    "except Exception as e:\n",
    "    # If error returns the exact error\n",
    "    raise HTTPException(status_code=500, detail=str(e))\n",
    "finally:\n",
    "    connection.close()\n",
    "# Show df\n",
    "print(f\"The dataframe has {len(df)} rows\")\n",
    "df.head()"
   ]
  },
  {
   "cell_type": "markdown",
   "id": "dca295a1-7c89-4fc2-81a8-6593748f676a",
   "metadata": {
    "jp-MarkdownHeadingCollapsed": true,
    "tags": []
   },
   "source": [
    "# **Data Understanding**"
   ]
  },
  {
   "cell_type": "code",
   "execution_count": 8,
   "id": "e3f4d148-182d-4d55-b951-4bcfa114fd20",
   "metadata": {
    "tags": []
   },
   "outputs": [
    {
     "data": {
      "text/plain": [
       "brokered_by       float64\n",
       "status             object\n",
       "price             float64\n",
       "bed               float64\n",
       "bath              float64\n",
       "acre_lot          float64\n",
       "street            float64\n",
       "city               object\n",
       "state              object\n",
       "zip_code          float64\n",
       "house_size        float64\n",
       "prev_sold_date     object\n",
       "dtype: object"
      ]
     },
     "execution_count": 8,
     "metadata": {},
     "output_type": "execute_result"
    }
   ],
   "source": [
    "df.dtypes"
   ]
  },
  {
   "cell_type": "code",
   "execution_count": 9,
   "id": "575eb92a-c9fa-4853-a31d-b18757a6e51a",
   "metadata": {
    "tags": []
   },
   "outputs": [
    {
     "data": {
      "text/plain": [
       "array([289900., 299900., 299000., ..., 212400., 189200., 241750.])"
      ]
     },
     "execution_count": 9,
     "metadata": {},
     "output_type": "execute_result"
    }
   ],
   "source": [
    "df[\"price\"].unique()"
   ]
  },
  {
   "cell_type": "code",
   "execution_count": 10,
   "id": "853c39e9-233b-42a1-b2a4-74e6c2d3ad0f",
   "metadata": {
    "tags": []
   },
   "outputs": [
    {
     "data": {
      "text/plain": [
       "array(['for_sale'], dtype=object)"
      ]
     },
     "execution_count": 10,
     "metadata": {},
     "output_type": "execute_result"
    }
   ],
   "source": [
    "df[\"status\"].unique()"
   ]
  },
  {
   "cell_type": "code",
   "execution_count": 11,
   "id": "c1ae44da-541f-4f5e-b3dd-c1b22b6b2cc8",
   "metadata": {
    "tags": []
   },
   "outputs": [
    {
     "data": {
      "text/plain": [
       "array(['East Windsor', 'Vernon', 'North Canaan', ..., 'Soldotna',\n",
       "       'Fairbanks', 'Ketchikan'], dtype=object)"
      ]
     },
     "execution_count": 11,
     "metadata": {},
     "output_type": "execute_result"
    }
   ],
   "source": [
    "df[\"city\"].unique()"
   ]
  },
  {
   "cell_type": "code",
   "execution_count": 12,
   "id": "764cd795-9388-4516-a983-57fa4d9275e6",
   "metadata": {
    "tags": []
   },
   "outputs": [
    {
     "data": {
      "text/plain": [
       "array(['Connecticut', 'Vermont', 'New Hampshire', 'New York',\n",
       "       'Rhode Island', 'Maine', 'New Jersey', 'Pennsylvania', 'Delaware',\n",
       "       'West Virginia', 'Ohio', 'Maryland', 'Virginia',\n",
       "       'District of Columbia', 'North Carolina', 'Kentucky', 'Tennessee',\n",
       "       'South Carolina', 'Georgia', 'Alabama', 'Florida', 'Mississippi',\n",
       "       'Arkansas', 'Missouri', 'Louisiana', 'Indiana', 'Illinois',\n",
       "       'Michigan', 'Wisconsin', 'Iowa', 'Minnesota', 'Nebraska',\n",
       "       'South Dakota', 'North Dakota', 'Montana', 'Idaho', 'Kansas',\n",
       "       'Oklahoma', 'Colorado', 'Wyoming', 'Texas', 'New Mexico', 'Utah',\n",
       "       'Washington', 'Oregon', 'Arizona', 'California', 'Nevada',\n",
       "       'Hawaii', 'Alaska'], dtype=object)"
      ]
     },
     "execution_count": 12,
     "metadata": {},
     "output_type": "execute_result"
    }
   ],
   "source": [
    "df[\"state\"].unique()"
   ]
  },
  {
   "cell_type": "markdown",
   "id": "4b83ea5b-566f-46a3-9743-edd248a37b4c",
   "metadata": {
    "tags": []
   },
   "source": [
    "Reviewing if the is any null value"
   ]
  },
  {
   "cell_type": "code",
   "execution_count": 29,
   "id": "b5b4f5f6-8ae2-4a18-85be-13d385f9fa52",
   "metadata": {
    "tags": []
   },
   "outputs": [],
   "source": [
    "# Putting \"\" as null \n",
    "df.replace(\"\", np.nan, inplace=True)\n",
    "df.replace(\"?\", np.nan, inplace=True)"
   ]
  },
  {
   "cell_type": "code",
   "execution_count": 30,
   "id": "fd0cd76e-78c7-4a10-90bb-a5258dad86a2",
   "metadata": {
    "tags": []
   },
   "outputs": [
    {
     "data": {
      "text/html": [
       "<div>\n",
       "<style scoped>\n",
       "    .dataframe tbody tr th:only-of-type {\n",
       "        vertical-align: middle;\n",
       "    }\n",
       "\n",
       "    .dataframe tbody tr th {\n",
       "        vertical-align: top;\n",
       "    }\n",
       "\n",
       "    .dataframe thead th {\n",
       "        text-align: right;\n",
       "    }\n",
       "</style>\n",
       "<table border=\"1\" class=\"dataframe\">\n",
       "  <thead>\n",
       "    <tr style=\"text-align: right;\">\n",
       "      <th></th>\n",
       "      <th>0</th>\n",
       "    </tr>\n",
       "  </thead>\n",
       "  <tbody>\n",
       "    <tr>\n",
       "      <th>brokered_by</th>\n",
       "      <td>0.0</td>\n",
       "    </tr>\n",
       "    <tr>\n",
       "      <th>status</th>\n",
       "      <td>0.0</td>\n",
       "    </tr>\n",
       "    <tr>\n",
       "      <th>price</th>\n",
       "      <td>0.0</td>\n",
       "    </tr>\n",
       "    <tr>\n",
       "      <th>bed</th>\n",
       "      <td>0.0</td>\n",
       "    </tr>\n",
       "    <tr>\n",
       "      <th>bath</th>\n",
       "      <td>0.0</td>\n",
       "    </tr>\n",
       "    <tr>\n",
       "      <th>acre_lot</th>\n",
       "      <td>0.0</td>\n",
       "    </tr>\n",
       "    <tr>\n",
       "      <th>street</th>\n",
       "      <td>0.0</td>\n",
       "    </tr>\n",
       "    <tr>\n",
       "      <th>city</th>\n",
       "      <td>0.0</td>\n",
       "    </tr>\n",
       "    <tr>\n",
       "      <th>state</th>\n",
       "      <td>0.0</td>\n",
       "    </tr>\n",
       "    <tr>\n",
       "      <th>zip_code</th>\n",
       "      <td>0.0</td>\n",
       "    </tr>\n",
       "    <tr>\n",
       "      <th>house_size</th>\n",
       "      <td>0.0</td>\n",
       "    </tr>\n",
       "    <tr>\n",
       "      <th>prev_sold_date</th>\n",
       "      <td>0.0</td>\n",
       "    </tr>\n",
       "  </tbody>\n",
       "</table>\n",
       "</div>"
      ],
      "text/plain": [
       "                  0\n",
       "brokered_by     0.0\n",
       "status          0.0\n",
       "price           0.0\n",
       "bed             0.0\n",
       "bath            0.0\n",
       "acre_lot        0.0\n",
       "street          0.0\n",
       "city            0.0\n",
       "state           0.0\n",
       "zip_code        0.0\n",
       "house_size      0.0\n",
       "prev_sold_date  0.0"
      ]
     },
     "execution_count": 30,
     "metadata": {},
     "output_type": "execute_result"
    }
   ],
   "source": [
    "pd.DataFrame(df.isna().sum()) / len(df)"
   ]
  },
  {
   "cell_type": "markdown",
   "id": "ffda5b22-98c1-484a-93fd-240ab999d07a",
   "metadata": {},
   "source": [
    "Reviewing duplicated values"
   ]
  },
  {
   "cell_type": "code",
   "execution_count": 16,
   "id": "4e46268f-bfcd-41ef-8ea3-95b989bd5b23",
   "metadata": {
    "tags": []
   },
   "outputs": [
    {
     "data": {
      "text/plain": [
       "0"
      ]
     },
     "execution_count": 16,
     "metadata": {},
     "output_type": "execute_result"
    }
   ],
   "source": [
    "df.duplicated().sum()"
   ]
  },
  {
   "cell_type": "markdown",
   "id": "77a4eed4-87c1-420b-9f0d-f1b0f3702dcd",
   "metadata": {
    "jp-MarkdownHeadingCollapsed": true,
    "tags": []
   },
   "source": [
    "# **Data Procesing**"
   ]
  },
  {
   "cell_type": "markdown",
   "id": "48fcec75-43c8-4029-ae95-3c7c9942d200",
   "metadata": {},
   "source": [
    "## _Removing not needed files_"
   ]
  },
  {
   "cell_type": "markdown",
   "id": "f1161036-e57e-4338-8241-a671b0b3cadc",
   "metadata": {},
   "source": [
    "Converting 10 first columns and the result variable into numeric"
   ]
  },
  {
   "cell_type": "code",
   "execution_count": 15,
   "id": "6ce03422-cf97-461c-892e-23ac63a07caa",
   "metadata": {
    "tags": []
   },
   "outputs": [],
   "source": [
    "unique_columns_to_use = [\"price\", \"bed\", \"bath\", \"acre_lot\", \"street\", \"city\", \"state\", \"house_size\"]\n",
    "df = df[unique_columns_to_use]"
   ]
  },
  {
   "cell_type": "code",
   "execution_count": 16,
   "id": "ff183a01-9eaf-4e58-8d22-965ab1359fed",
   "metadata": {
    "tags": []
   },
   "outputs": [
    {
     "data": {
      "text/plain": [
       "price         float64\n",
       "bed           float64\n",
       "bath          float64\n",
       "acre_lot      float64\n",
       "street        float64\n",
       "city           object\n",
       "state          object\n",
       "house_size    float64\n",
       "dtype: object"
      ]
     },
     "execution_count": 16,
     "metadata": {},
     "output_type": "execute_result"
    }
   ],
   "source": [
    "df.dtypes"
   ]
  },
  {
   "cell_type": "markdown",
   "id": "b3b80798-cc3b-4f4c-9c3f-a3c2b0f4cd3f",
   "metadata": {},
   "source": [
    "## _Delete Nulls_"
   ]
  },
  {
   "cell_type": "code",
   "execution_count": 17,
   "id": "618d4f7b-eec9-48c2-913b-eae15ffc4bf9",
   "metadata": {
    "tags": []
   },
   "outputs": [],
   "source": [
    "# Putting \"\" as null \n",
    "df.replace(\"\", np.nan, inplace=True)\n",
    "df.replace(\"?\", np.nan, inplace=True)\n",
    "df = df.dropna()"
   ]
  },
  {
   "cell_type": "markdown",
   "id": "756ba1bc-831d-49bd-8aa5-c266633c9ddd",
   "metadata": {},
   "source": [
    "## _Split data into train and test_"
   ]
  },
  {
   "cell_type": "code",
   "execution_count": 18,
   "id": "61222838-d8f9-45c6-a48c-d158e4f48c41",
   "metadata": {
    "tags": []
   },
   "outputs": [],
   "source": [
    "# Division between y and the rest of variables\n",
    "\n",
    "y = df[\"price\"]\n",
    "X = df.drop(columns=\"price\")\n",
    "\n",
    "# Split train and test (80% train, 20% test)\n",
    "X_train, X_test_val, y_train, y_test_val = train_test_split(X, y, test_size=0.20, random_state=42)\n",
    "X_val, X_test, y_val, y_test = train_test_split(X_test_val, y_test_val, test_size=0.50, random_state=42)"
   ]
  },
  {
   "cell_type": "markdown",
   "id": "2aa13988-cb5d-4056-9cd9-7db321aee135",
   "metadata": {},
   "source": [
    "## __Save Data to Clean Data__"
   ]
  },
  {
   "cell_type": "code",
   "execution_count": 21,
   "id": "d114c179-aef3-453a-85ac-521c5a05432c",
   "metadata": {
    "tags": []
   },
   "outputs": [],
   "source": [
    "DB_HOST = \"mysql\" # \"10.43.101.158\" # \"localhost\" \"10.43.101.158\"  # Using INTERNET!\n",
    "DB_USER = \"root\"\n",
    "DB_PASSWORD = \"airflow\" \n",
    "DB_NAME = \"project_4\"\n",
    "PORT= 3306"
   ]
  },
  {
   "cell_type": "code",
   "execution_count": 22,
   "id": "b6d68455-5284-4567-a091-a877580eec2f",
   "metadata": {
    "tags": []
   },
   "outputs": [
    {
     "name": "stdout",
     "output_type": "stream",
     "text": [
      "Saved into MySQL!\n"
     ]
    }
   ],
   "source": [
    "# Creating final DataFrame to Upload\n",
    "df_train_final = pd.concat([X_train, pd.DataFrame(y_train)], axis=1)\n",
    "df_val_final = pd.concat([X_val, pd.DataFrame(y_val)], axis=1)\n",
    "df_test_final = pd.concat([X_test, pd.DataFrame(y_test)], axis=1)\n",
    "\n",
    "# Connect to MySQL\n",
    "engine = sqlalchemy.create_engine(f'mysql://{DB_USER}:{DB_PASSWORD}@{DB_HOST}:3306/{DB_NAME}')\n",
    "\n",
    "# Save data, if exits append into the current table (TRAIN)\n",
    "df_train_final.to_sql('clean_data_train', con=engine, if_exists='replace', index=False)\n",
    "df_val_final.to_sql('clean_data_val', con=engine, if_exists='replace', index=False)\n",
    "df_test_final.to_sql('clean_data_test', con=engine, if_exists='replace', index=False)\n",
    "print(\"Saved into MySQL!\")"
   ]
  },
  {
   "cell_type": "markdown",
   "id": "fb5e47ea-3186-4d2d-ac3b-500f4a137ac0",
   "metadata": {},
   "source": [
    "# **Read Data from Clean Data**"
   ]
  },
  {
   "cell_type": "markdown",
   "id": "8ecf0e2b-6b9c-4752-a833-65c1a3aad713",
   "metadata": {},
   "source": [
    "Reading data from **train**"
   ]
  },
  {
   "cell_type": "code",
   "execution_count": 2,
   "id": "ceafe4f7-553a-4e66-9ed6-d498a23823ec",
   "metadata": {
    "tags": []
   },
   "outputs": [],
   "source": [
    "DB_HOST = \"mysql\" # \"10.43.101.158\" # \"localhost\" \"10.43.101.158\"  # Using INTERNET!\n",
    "DB_USER = \"root\"\n",
    "DB_PASSWORD = \"airflow\" \n",
    "DB_NAME = \"project_4\"\n",
    "PORT= 3306"
   ]
  },
  {
   "cell_type": "code",
   "execution_count": 3,
   "id": "67f6f730-8a1f-4108-b7a9-121dcfea5c79",
   "metadata": {
    "tags": []
   },
   "outputs": [
    {
     "name": "stdout",
     "output_type": "stream",
     "text": [
      "The dataframe has 59027 rows\n"
     ]
    },
    {
     "data": {
      "text/html": [
       "<div>\n",
       "<style scoped>\n",
       "    .dataframe tbody tr th:only-of-type {\n",
       "        vertical-align: middle;\n",
       "    }\n",
       "\n",
       "    .dataframe tbody tr th {\n",
       "        vertical-align: top;\n",
       "    }\n",
       "\n",
       "    .dataframe thead th {\n",
       "        text-align: right;\n",
       "    }\n",
       "</style>\n",
       "<table border=\"1\" class=\"dataframe\">\n",
       "  <thead>\n",
       "    <tr style=\"text-align: right;\">\n",
       "      <th></th>\n",
       "      <th>bed</th>\n",
       "      <th>bath</th>\n",
       "      <th>acre_lot</th>\n",
       "      <th>street</th>\n",
       "      <th>city</th>\n",
       "      <th>state</th>\n",
       "      <th>house_size</th>\n",
       "      <th>price</th>\n",
       "    </tr>\n",
       "  </thead>\n",
       "  <tbody>\n",
       "    <tr>\n",
       "      <th>0</th>\n",
       "      <td>5.0</td>\n",
       "      <td>5.0</td>\n",
       "      <td>12.83</td>\n",
       "      <td>839259.0</td>\n",
       "      <td>Elizabeth</td>\n",
       "      <td>Pennsylvania</td>\n",
       "      <td>1564.0</td>\n",
       "      <td>219900.0</td>\n",
       "    </tr>\n",
       "    <tr>\n",
       "      <th>1</th>\n",
       "      <td>3.0</td>\n",
       "      <td>2.0</td>\n",
       "      <td>0.13</td>\n",
       "      <td>836897.0</td>\n",
       "      <td>Millersburg</td>\n",
       "      <td>Pennsylvania</td>\n",
       "      <td>2502.0</td>\n",
       "      <td>239900.0</td>\n",
       "    </tr>\n",
       "    <tr>\n",
       "      <th>2</th>\n",
       "      <td>3.0</td>\n",
       "      <td>2.0</td>\n",
       "      <td>0.33</td>\n",
       "      <td>186361.0</td>\n",
       "      <td>Erwin</td>\n",
       "      <td>Tennessee</td>\n",
       "      <td>1625.0</td>\n",
       "      <td>218000.0</td>\n",
       "    </tr>\n",
       "    <tr>\n",
       "      <th>3</th>\n",
       "      <td>3.0</td>\n",
       "      <td>3.0</td>\n",
       "      <td>0.12</td>\n",
       "      <td>142885.0</td>\n",
       "      <td>Macon</td>\n",
       "      <td>Georgia</td>\n",
       "      <td>1566.0</td>\n",
       "      <td>219990.0</td>\n",
       "    </tr>\n",
       "    <tr>\n",
       "      <th>4</th>\n",
       "      <td>3.0</td>\n",
       "      <td>2.0</td>\n",
       "      <td>0.55</td>\n",
       "      <td>1509210.0</td>\n",
       "      <td>Saint Augustine</td>\n",
       "      <td>Florida</td>\n",
       "      <td>1620.0</td>\n",
       "      <td>240000.0</td>\n",
       "    </tr>\n",
       "  </tbody>\n",
       "</table>\n",
       "</div>"
      ],
      "text/plain": [
       "   bed  bath  acre_lot     street             city         state  house_size  \\\n",
       "0  5.0   5.0     12.83   839259.0        Elizabeth  Pennsylvania      1564.0   \n",
       "1  3.0   2.0      0.13   836897.0      Millersburg  Pennsylvania      2502.0   \n",
       "2  3.0   2.0      0.33   186361.0            Erwin     Tennessee      1625.0   \n",
       "3  3.0   3.0      0.12   142885.0            Macon       Georgia      1566.0   \n",
       "4  3.0   2.0      0.55  1509210.0  Saint Augustine       Florida      1620.0   \n",
       "\n",
       "      price  \n",
       "0  219900.0  \n",
       "1  239900.0  \n",
       "2  218000.0  \n",
       "3  219990.0  \n",
       "4  240000.0  "
      ]
     },
     "execution_count": 3,
     "metadata": {},
     "output_type": "execute_result"
    }
   ],
   "source": [
    "connection = pymysql.connect(host=DB_HOST,\n",
    "                             user=DB_USER,\n",
    "                             password=DB_PASSWORD,\n",
    "                             db=DB_NAME,\n",
    "                             port=PORT,\n",
    "                             cursorclass=pymysql.cursors.DictCursor)  # Using DictCursos to obtain results as dictionaries\n",
    "try:\n",
    "    with connection.cursor() as cursor:\n",
    "        # Query the database\n",
    "        cursor.execute(\"SELECT * FROM project_4.clean_data_train;\")\n",
    "        result = cursor.fetchall()\n",
    "    # Convert into a pd.DataFrame\n",
    "    df_train_clean = pd.DataFrame(result)\n",
    "except Exception as e:\n",
    "    # If error returns the exact error\n",
    "    raise HTTPException(status_code=500, detail=str(e))\n",
    "finally:\n",
    "    connection.close()\n",
    "# Show df\n",
    "print(f\"The dataframe has {len(df_train_clean)} rows\")\n",
    "df_train_clean.head()"
   ]
  },
  {
   "cell_type": "markdown",
   "id": "e9bb4b24-fd7b-44b3-a90e-df8dde37cb1b",
   "metadata": {},
   "source": [
    "Reading data from **validation**"
   ]
  },
  {
   "cell_type": "code",
   "execution_count": 4,
   "id": "e4255e42-3349-429b-b19e-ced65d14693a",
   "metadata": {
    "tags": []
   },
   "outputs": [
    {
     "name": "stdout",
     "output_type": "stream",
     "text": [
      "The dataframe has 7378 rows\n"
     ]
    },
    {
     "data": {
      "text/html": [
       "<div>\n",
       "<style scoped>\n",
       "    .dataframe tbody tr th:only-of-type {\n",
       "        vertical-align: middle;\n",
       "    }\n",
       "\n",
       "    .dataframe tbody tr th {\n",
       "        vertical-align: top;\n",
       "    }\n",
       "\n",
       "    .dataframe thead th {\n",
       "        text-align: right;\n",
       "    }\n",
       "</style>\n",
       "<table border=\"1\" class=\"dataframe\">\n",
       "  <thead>\n",
       "    <tr style=\"text-align: right;\">\n",
       "      <th></th>\n",
       "      <th>bed</th>\n",
       "      <th>bath</th>\n",
       "      <th>acre_lot</th>\n",
       "      <th>street</th>\n",
       "      <th>city</th>\n",
       "      <th>state</th>\n",
       "      <th>house_size</th>\n",
       "      <th>price</th>\n",
       "    </tr>\n",
       "  </thead>\n",
       "  <tbody>\n",
       "    <tr>\n",
       "      <th>0</th>\n",
       "      <td>3.0</td>\n",
       "      <td>2.0</td>\n",
       "      <td>0.75</td>\n",
       "      <td>730015.0</td>\n",
       "      <td>Guthrie</td>\n",
       "      <td>Kentucky</td>\n",
       "      <td>1600.0</td>\n",
       "      <td>199900.0</td>\n",
       "    </tr>\n",
       "    <tr>\n",
       "      <th>1</th>\n",
       "      <td>3.0</td>\n",
       "      <td>2.0</td>\n",
       "      <td>0.46</td>\n",
       "      <td>167629.0</td>\n",
       "      <td>Granite City</td>\n",
       "      <td>Illinois</td>\n",
       "      <td>2092.0</td>\n",
       "      <td>165000.0</td>\n",
       "    </tr>\n",
       "    <tr>\n",
       "      <th>2</th>\n",
       "      <td>3.0</td>\n",
       "      <td>2.0</td>\n",
       "      <td>0.35</td>\n",
       "      <td>1398953.0</td>\n",
       "      <td>Alexandria</td>\n",
       "      <td>Louisiana</td>\n",
       "      <td>1906.0</td>\n",
       "      <td>240000.0</td>\n",
       "    </tr>\n",
       "    <tr>\n",
       "      <th>3</th>\n",
       "      <td>5.0</td>\n",
       "      <td>3.0</td>\n",
       "      <td>0.14</td>\n",
       "      <td>181978.0</td>\n",
       "      <td>Cleveland</td>\n",
       "      <td>Ohio</td>\n",
       "      <td>2557.0</td>\n",
       "      <td>80000.0</td>\n",
       "    </tr>\n",
       "    <tr>\n",
       "      <th>4</th>\n",
       "      <td>3.0</td>\n",
       "      <td>2.0</td>\n",
       "      <td>0.56</td>\n",
       "      <td>361606.0</td>\n",
       "      <td>Carrollton</td>\n",
       "      <td>Georgia</td>\n",
       "      <td>1886.0</td>\n",
       "      <td>299900.0</td>\n",
       "    </tr>\n",
       "  </tbody>\n",
       "</table>\n",
       "</div>"
      ],
      "text/plain": [
       "   bed  bath  acre_lot     street          city      state  house_size  \\\n",
       "0  3.0   2.0      0.75   730015.0       Guthrie   Kentucky      1600.0   \n",
       "1  3.0   2.0      0.46   167629.0  Granite City   Illinois      2092.0   \n",
       "2  3.0   2.0      0.35  1398953.0    Alexandria  Louisiana      1906.0   \n",
       "3  5.0   3.0      0.14   181978.0     Cleveland       Ohio      2557.0   \n",
       "4  3.0   2.0      0.56   361606.0    Carrollton    Georgia      1886.0   \n",
       "\n",
       "      price  \n",
       "0  199900.0  \n",
       "1  165000.0  \n",
       "2  240000.0  \n",
       "3   80000.0  \n",
       "4  299900.0  "
      ]
     },
     "execution_count": 4,
     "metadata": {},
     "output_type": "execute_result"
    }
   ],
   "source": [
    "connection = pymysql.connect(host=DB_HOST,\n",
    "                             user=DB_USER,\n",
    "                             password=DB_PASSWORD,\n",
    "                             db=DB_NAME,\n",
    "                             port=PORT,\n",
    "                             cursorclass=pymysql.cursors.DictCursor)  # Using DictCursos to obtain results as dictionaries\n",
    "try:\n",
    "    with connection.cursor() as cursor:\n",
    "        # Query the database\n",
    "        cursor.execute(\"SELECT * FROM project_4.clean_data_val;\")\n",
    "        result = cursor.fetchall()\n",
    "    # Convert into a pd.DataFrame\n",
    "    df_validation_clean = pd.DataFrame(result)\n",
    "except Exception as e:\n",
    "    # If error returns the exact error\n",
    "    raise HTTPException(status_code=500, detail=str(e))\n",
    "finally:\n",
    "    connection.close()\n",
    "# Show df\n",
    "print(f\"The dataframe has {len(df_validation_clean)} rows\")\n",
    "df_validation_clean.head()"
   ]
  },
  {
   "cell_type": "markdown",
   "id": "08ac796e-6338-436a-a0e5-993bf2687e0d",
   "metadata": {},
   "source": [
    "Reading data from **test**"
   ]
  },
  {
   "cell_type": "code",
   "execution_count": 5,
   "id": "1cc8d2f9-7194-414f-ae23-1c5b88b447e2",
   "metadata": {
    "tags": []
   },
   "outputs": [
    {
     "name": "stdout",
     "output_type": "stream",
     "text": [
      "The dataframe has 7379 rows\n"
     ]
    },
    {
     "data": {
      "text/html": [
       "<div>\n",
       "<style scoped>\n",
       "    .dataframe tbody tr th:only-of-type {\n",
       "        vertical-align: middle;\n",
       "    }\n",
       "\n",
       "    .dataframe tbody tr th {\n",
       "        vertical-align: top;\n",
       "    }\n",
       "\n",
       "    .dataframe thead th {\n",
       "        text-align: right;\n",
       "    }\n",
       "</style>\n",
       "<table border=\"1\" class=\"dataframe\">\n",
       "  <thead>\n",
       "    <tr style=\"text-align: right;\">\n",
       "      <th></th>\n",
       "      <th>bed</th>\n",
       "      <th>bath</th>\n",
       "      <th>acre_lot</th>\n",
       "      <th>street</th>\n",
       "      <th>city</th>\n",
       "      <th>state</th>\n",
       "      <th>house_size</th>\n",
       "      <th>price</th>\n",
       "    </tr>\n",
       "  </thead>\n",
       "  <tbody>\n",
       "    <tr>\n",
       "      <th>0</th>\n",
       "      <td>3.0</td>\n",
       "      <td>1.0</td>\n",
       "      <td>0.46</td>\n",
       "      <td>1218523.0</td>\n",
       "      <td>Graysville</td>\n",
       "      <td>Alabama</td>\n",
       "      <td>1519.0</td>\n",
       "      <td>165000.0</td>\n",
       "    </tr>\n",
       "    <tr>\n",
       "      <th>1</th>\n",
       "      <td>4.0</td>\n",
       "      <td>1.0</td>\n",
       "      <td>0.20</td>\n",
       "      <td>649858.0</td>\n",
       "      <td>New Hampton</td>\n",
       "      <td>Iowa</td>\n",
       "      <td>1718.0</td>\n",
       "      <td>49900.0</td>\n",
       "    </tr>\n",
       "    <tr>\n",
       "      <th>2</th>\n",
       "      <td>3.0</td>\n",
       "      <td>2.0</td>\n",
       "      <td>0.19</td>\n",
       "      <td>1777223.0</td>\n",
       "      <td>Indianapolis</td>\n",
       "      <td>Indiana</td>\n",
       "      <td>1826.0</td>\n",
       "      <td>265000.0</td>\n",
       "    </tr>\n",
       "    <tr>\n",
       "      <th>3</th>\n",
       "      <td>3.0</td>\n",
       "      <td>2.0</td>\n",
       "      <td>0.30</td>\n",
       "      <td>623098.0</td>\n",
       "      <td>New Bern</td>\n",
       "      <td>North Carolina</td>\n",
       "      <td>1520.0</td>\n",
       "      <td>250000.0</td>\n",
       "    </tr>\n",
       "    <tr>\n",
       "      <th>4</th>\n",
       "      <td>3.0</td>\n",
       "      <td>2.0</td>\n",
       "      <td>0.24</td>\n",
       "      <td>848478.0</td>\n",
       "      <td>Ocala</td>\n",
       "      <td>Florida</td>\n",
       "      <td>2060.0</td>\n",
       "      <td>267000.0</td>\n",
       "    </tr>\n",
       "  </tbody>\n",
       "</table>\n",
       "</div>"
      ],
      "text/plain": [
       "   bed  bath  acre_lot     street          city           state  house_size  \\\n",
       "0  3.0   1.0      0.46  1218523.0    Graysville         Alabama      1519.0   \n",
       "1  4.0   1.0      0.20   649858.0   New Hampton            Iowa      1718.0   \n",
       "2  3.0   2.0      0.19  1777223.0  Indianapolis         Indiana      1826.0   \n",
       "3  3.0   2.0      0.30   623098.0      New Bern  North Carolina      1520.0   \n",
       "4  3.0   2.0      0.24   848478.0         Ocala         Florida      2060.0   \n",
       "\n",
       "      price  \n",
       "0  165000.0  \n",
       "1   49900.0  \n",
       "2  265000.0  \n",
       "3  250000.0  \n",
       "4  267000.0  "
      ]
     },
     "execution_count": 5,
     "metadata": {},
     "output_type": "execute_result"
    }
   ],
   "source": [
    "connection = pymysql.connect(host=DB_HOST,\n",
    "                             user=DB_USER,\n",
    "                             password=DB_PASSWORD,\n",
    "                             db=DB_NAME,\n",
    "                             port=PORT,\n",
    "                             cursorclass=pymysql.cursors.DictCursor)  # Using DictCursos to obtain results as dictionaries\n",
    "try:\n",
    "    with connection.cursor() as cursor:\n",
    "        # Query the database\n",
    "        cursor.execute(\"SELECT * FROM project_4.clean_data_test;\")\n",
    "        result = cursor.fetchall()\n",
    "    # Convert into a pd.DataFrame\n",
    "    df_test_clean = pd.DataFrame(result)\n",
    "except Exception as e:\n",
    "    # If error returns the exact error\n",
    "    raise HTTPException(status_code=500, detail=str(e))\n",
    "finally:\n",
    "    connection.close()\n",
    "# Show df\n",
    "print(f\"The dataframe has {len(df_test_clean)} rows\")\n",
    "df_test_clean.head()"
   ]
  },
  {
   "cell_type": "markdown",
   "id": "ffc89a0a-b2f2-4b4c-ae53-b0fc95d8166f",
   "metadata": {
    "tags": []
   },
   "source": [
    "# **Modeling with MLFlow**"
   ]
  },
  {
   "cell_type": "code",
   "execution_count": 11,
   "id": "5cf81236-46a0-4f15-97a6-e1d4b376a4a8",
   "metadata": {
    "tags": []
   },
   "outputs": [],
   "source": [
    "y_train = df_train_clean['price']\n",
    "X_train = df_train_clean.drop(columns = 'price')\n",
    "\n",
    "y_val = df_validation_clean['price']\n",
    "X_val = df_validation_clean.drop(columns = 'price')\n",
    "\n",
    "y_test = df_test_clean['price']\n",
    "X_test = df_test_clean.drop(columns = 'price')"
   ]
  },
  {
   "cell_type": "markdown",
   "id": "9bb22404-519e-4100-9563-e41c324dace4",
   "metadata": {},
   "source": [
    "## _Dummy_"
   ]
  },
  {
   "cell_type": "markdown",
   "id": "8a6785d3-f195-4cdf-a6da-123e93e52370",
   "metadata": {},
   "source": [
    "Dummy variables for categorical features"
   ]
  },
  {
   "cell_type": "code",
   "execution_count": 12,
   "id": "bd0c9374-42e7-463b-807a-2bfad6acca75",
   "metadata": {
    "tags": []
   },
   "outputs": [
    {
     "data": {
      "text/html": [
       "<style>#sk-container-id-4 {color: black;background-color: white;}#sk-container-id-4 pre{padding: 0;}#sk-container-id-4 div.sk-toggleable {background-color: white;}#sk-container-id-4 label.sk-toggleable__label {cursor: pointer;display: block;width: 100%;margin-bottom: 0;padding: 0.3em;box-sizing: border-box;text-align: center;}#sk-container-id-4 label.sk-toggleable__label-arrow:before {content: \"▸\";float: left;margin-right: 0.25em;color: #696969;}#sk-container-id-4 label.sk-toggleable__label-arrow:hover:before {color: black;}#sk-container-id-4 div.sk-estimator:hover label.sk-toggleable__label-arrow:before {color: black;}#sk-container-id-4 div.sk-toggleable__content {max-height: 0;max-width: 0;overflow: hidden;text-align: left;background-color: #f0f8ff;}#sk-container-id-4 div.sk-toggleable__content pre {margin: 0.2em;color: black;border-radius: 0.25em;background-color: #f0f8ff;}#sk-container-id-4 input.sk-toggleable__control:checked~div.sk-toggleable__content {max-height: 200px;max-width: 100%;overflow: auto;}#sk-container-id-4 input.sk-toggleable__control:checked~label.sk-toggleable__label-arrow:before {content: \"▾\";}#sk-container-id-4 div.sk-estimator input.sk-toggleable__control:checked~label.sk-toggleable__label {background-color: #d4ebff;}#sk-container-id-4 div.sk-label input.sk-toggleable__control:checked~label.sk-toggleable__label {background-color: #d4ebff;}#sk-container-id-4 input.sk-hidden--visually {border: 0;clip: rect(1px 1px 1px 1px);clip: rect(1px, 1px, 1px, 1px);height: 1px;margin: -1px;overflow: hidden;padding: 0;position: absolute;width: 1px;}#sk-container-id-4 div.sk-estimator {font-family: monospace;background-color: #f0f8ff;border: 1px dotted black;border-radius: 0.25em;box-sizing: border-box;margin-bottom: 0.5em;}#sk-container-id-4 div.sk-estimator:hover {background-color: #d4ebff;}#sk-container-id-4 div.sk-parallel-item::after {content: \"\";width: 100%;border-bottom: 1px solid gray;flex-grow: 1;}#sk-container-id-4 div.sk-label:hover label.sk-toggleable__label {background-color: #d4ebff;}#sk-container-id-4 div.sk-serial::before {content: \"\";position: absolute;border-left: 1px solid gray;box-sizing: border-box;top: 0;bottom: 0;left: 50%;z-index: 0;}#sk-container-id-4 div.sk-serial {display: flex;flex-direction: column;align-items: center;background-color: white;padding-right: 0.2em;padding-left: 0.2em;position: relative;}#sk-container-id-4 div.sk-item {position: relative;z-index: 1;}#sk-container-id-4 div.sk-parallel {display: flex;align-items: stretch;justify-content: center;background-color: white;position: relative;}#sk-container-id-4 div.sk-item::before, #sk-container-id-4 div.sk-parallel-item::before {content: \"\";position: absolute;border-left: 1px solid gray;box-sizing: border-box;top: 0;bottom: 0;left: 50%;z-index: -1;}#sk-container-id-4 div.sk-parallel-item {display: flex;flex-direction: column;z-index: 1;position: relative;background-color: white;}#sk-container-id-4 div.sk-parallel-item:first-child::after {align-self: flex-end;width: 50%;}#sk-container-id-4 div.sk-parallel-item:last-child::after {align-self: flex-start;width: 50%;}#sk-container-id-4 div.sk-parallel-item:only-child::after {width: 0;}#sk-container-id-4 div.sk-dashed-wrapped {border: 1px dashed gray;margin: 0 0.4em 0.5em 0.4em;box-sizing: border-box;padding-bottom: 0.4em;background-color: white;}#sk-container-id-4 div.sk-label label {font-family: monospace;font-weight: bold;display: inline-block;line-height: 1.2em;}#sk-container-id-4 div.sk-label-container {text-align: center;}#sk-container-id-4 div.sk-container {/* jupyter's `normalize.less` sets `[hidden] { display: none; }` but bootstrap.min.css set `[hidden] { display: none !important; }` so we also need the `!important` here to be able to override the default hidden behavior on the sphinx rendered scikit-learn.org. See: https://github.com/scikit-learn/scikit-learn/issues/21755 */display: inline-block !important;position: relative;}#sk-container-id-4 div.sk-text-repr-fallback {display: none;}</style><div id=\"sk-container-id-4\" class=\"sk-top-container\"><div class=\"sk-text-repr-fallback\"><pre>ColumnTransformer(remainder=&#x27;passthrough&#x27;,\n",
       "                  transformers=[(&#x27;onehotencoder&#x27;,\n",
       "                                 OneHotEncoder(handle_unknown=&#x27;ignore&#x27;),\n",
       "                                 [&#x27;city&#x27;, &#x27;state&#x27;])])</pre><b>In a Jupyter environment, please rerun this cell to show the HTML representation or trust the notebook. <br />On GitHub, the HTML representation is unable to render, please try loading this page with nbviewer.org.</b></div><div class=\"sk-container\" hidden><div class=\"sk-item sk-dashed-wrapped\"><div class=\"sk-label-container\"><div class=\"sk-label sk-toggleable\"><input class=\"sk-toggleable__control sk-hidden--visually\" id=\"sk-estimator-id-23\" type=\"checkbox\" ><label for=\"sk-estimator-id-23\" class=\"sk-toggleable__label sk-toggleable__label-arrow\">ColumnTransformer</label><div class=\"sk-toggleable__content\"><pre>ColumnTransformer(remainder=&#x27;passthrough&#x27;,\n",
       "                  transformers=[(&#x27;onehotencoder&#x27;,\n",
       "                                 OneHotEncoder(handle_unknown=&#x27;ignore&#x27;),\n",
       "                                 [&#x27;city&#x27;, &#x27;state&#x27;])])</pre></div></div></div><div class=\"sk-parallel\"><div class=\"sk-parallel-item\"><div class=\"sk-item\"><div class=\"sk-label-container\"><div class=\"sk-label sk-toggleable\"><input class=\"sk-toggleable__control sk-hidden--visually\" id=\"sk-estimator-id-24\" type=\"checkbox\" ><label for=\"sk-estimator-id-24\" class=\"sk-toggleable__label sk-toggleable__label-arrow\">onehotencoder</label><div class=\"sk-toggleable__content\"><pre>[&#x27;city&#x27;, &#x27;state&#x27;]</pre></div></div></div><div class=\"sk-serial\"><div class=\"sk-item\"><div class=\"sk-estimator sk-toggleable\"><input class=\"sk-toggleable__control sk-hidden--visually\" id=\"sk-estimator-id-25\" type=\"checkbox\" ><label for=\"sk-estimator-id-25\" class=\"sk-toggleable__label sk-toggleable__label-arrow\">OneHotEncoder</label><div class=\"sk-toggleable__content\"><pre>OneHotEncoder(handle_unknown=&#x27;ignore&#x27;)</pre></div></div></div></div></div></div><div class=\"sk-parallel-item\"><div class=\"sk-item\"><div class=\"sk-label-container\"><div class=\"sk-label sk-toggleable\"><input class=\"sk-toggleable__control sk-hidden--visually\" id=\"sk-estimator-id-26\" type=\"checkbox\" ><label for=\"sk-estimator-id-26\" class=\"sk-toggleable__label sk-toggleable__label-arrow\">remainder</label><div class=\"sk-toggleable__content\"><pre></pre></div></div></div><div class=\"sk-serial\"><div class=\"sk-item\"><div class=\"sk-estimator sk-toggleable\"><input class=\"sk-toggleable__control sk-hidden--visually\" id=\"sk-estimator-id-27\" type=\"checkbox\" ><label for=\"sk-estimator-id-27\" class=\"sk-toggleable__label sk-toggleable__label-arrow\">passthrough</label><div class=\"sk-toggleable__content\"><pre>passthrough</pre></div></div></div></div></div></div></div></div></div></div>"
      ],
      "text/plain": [
       "ColumnTransformer(remainder='passthrough',\n",
       "                  transformers=[('onehotencoder',\n",
       "                                 OneHotEncoder(handle_unknown='ignore'),\n",
       "                                 ['city', 'state'])])"
      ]
     },
     "execution_count": 12,
     "metadata": {},
     "output_type": "execute_result"
    }
   ],
   "source": [
    "column_trans = make_column_transformer((OneHotEncoder(handle_unknown='ignore'),\n",
    "                                        [\"city\", \"state\"]),\n",
    "                                      remainder='passthrough') # pass all the numeric values through the pipeline without any changes.\n",
    "\n",
    "column_trans"
   ]
  },
  {
   "cell_type": "markdown",
   "id": "618c12c7-e825-4042-80a1-6f1d0f84f007",
   "metadata": {},
   "source": [
    "## _Standarization_"
   ]
  },
  {
   "cell_type": "code",
   "execution_count": 23,
   "id": "6e9a4a18-ef94-429e-afcd-2e66963e256f",
   "metadata": {
    "tags": []
   },
   "outputs": [
    {
     "data": {
      "text/html": [
       "<style>#sk-container-id-10 {color: black;background-color: white;}#sk-container-id-10 pre{padding: 0;}#sk-container-id-10 div.sk-toggleable {background-color: white;}#sk-container-id-10 label.sk-toggleable__label {cursor: pointer;display: block;width: 100%;margin-bottom: 0;padding: 0.3em;box-sizing: border-box;text-align: center;}#sk-container-id-10 label.sk-toggleable__label-arrow:before {content: \"▸\";float: left;margin-right: 0.25em;color: #696969;}#sk-container-id-10 label.sk-toggleable__label-arrow:hover:before {color: black;}#sk-container-id-10 div.sk-estimator:hover label.sk-toggleable__label-arrow:before {color: black;}#sk-container-id-10 div.sk-toggleable__content {max-height: 0;max-width: 0;overflow: hidden;text-align: left;background-color: #f0f8ff;}#sk-container-id-10 div.sk-toggleable__content pre {margin: 0.2em;color: black;border-radius: 0.25em;background-color: #f0f8ff;}#sk-container-id-10 input.sk-toggleable__control:checked~div.sk-toggleable__content {max-height: 200px;max-width: 100%;overflow: auto;}#sk-container-id-10 input.sk-toggleable__control:checked~label.sk-toggleable__label-arrow:before {content: \"▾\";}#sk-container-id-10 div.sk-estimator input.sk-toggleable__control:checked~label.sk-toggleable__label {background-color: #d4ebff;}#sk-container-id-10 div.sk-label input.sk-toggleable__control:checked~label.sk-toggleable__label {background-color: #d4ebff;}#sk-container-id-10 input.sk-hidden--visually {border: 0;clip: rect(1px 1px 1px 1px);clip: rect(1px, 1px, 1px, 1px);height: 1px;margin: -1px;overflow: hidden;padding: 0;position: absolute;width: 1px;}#sk-container-id-10 div.sk-estimator {font-family: monospace;background-color: #f0f8ff;border: 1px dotted black;border-radius: 0.25em;box-sizing: border-box;margin-bottom: 0.5em;}#sk-container-id-10 div.sk-estimator:hover {background-color: #d4ebff;}#sk-container-id-10 div.sk-parallel-item::after {content: \"\";width: 100%;border-bottom: 1px solid gray;flex-grow: 1;}#sk-container-id-10 div.sk-label:hover label.sk-toggleable__label {background-color: #d4ebff;}#sk-container-id-10 div.sk-serial::before {content: \"\";position: absolute;border-left: 1px solid gray;box-sizing: border-box;top: 0;bottom: 0;left: 50%;z-index: 0;}#sk-container-id-10 div.sk-serial {display: flex;flex-direction: column;align-items: center;background-color: white;padding-right: 0.2em;padding-left: 0.2em;position: relative;}#sk-container-id-10 div.sk-item {position: relative;z-index: 1;}#sk-container-id-10 div.sk-parallel {display: flex;align-items: stretch;justify-content: center;background-color: white;position: relative;}#sk-container-id-10 div.sk-item::before, #sk-container-id-10 div.sk-parallel-item::before {content: \"\";position: absolute;border-left: 1px solid gray;box-sizing: border-box;top: 0;bottom: 0;left: 50%;z-index: -1;}#sk-container-id-10 div.sk-parallel-item {display: flex;flex-direction: column;z-index: 1;position: relative;background-color: white;}#sk-container-id-10 div.sk-parallel-item:first-child::after {align-self: flex-end;width: 50%;}#sk-container-id-10 div.sk-parallel-item:last-child::after {align-self: flex-start;width: 50%;}#sk-container-id-10 div.sk-parallel-item:only-child::after {width: 0;}#sk-container-id-10 div.sk-dashed-wrapped {border: 1px dashed gray;margin: 0 0.4em 0.5em 0.4em;box-sizing: border-box;padding-bottom: 0.4em;background-color: white;}#sk-container-id-10 div.sk-label label {font-family: monospace;font-weight: bold;display: inline-block;line-height: 1.2em;}#sk-container-id-10 div.sk-label-container {text-align: center;}#sk-container-id-10 div.sk-container {/* jupyter's `normalize.less` sets `[hidden] { display: none; }` but bootstrap.min.css set `[hidden] { display: none !important; }` so we also need the `!important` here to be able to override the default hidden behavior on the sphinx rendered scikit-learn.org. See: https://github.com/scikit-learn/scikit-learn/issues/21755 */display: inline-block !important;position: relative;}#sk-container-id-10 div.sk-text-repr-fallback {display: none;}</style><div id=\"sk-container-id-10\" class=\"sk-top-container\"><div class=\"sk-text-repr-fallback\"><pre>Pipeline(steps=[(&#x27;column_trans&#x27;,\n",
       "                 ColumnTransformer(remainder=&#x27;passthrough&#x27;,\n",
       "                                   transformers=[(&#x27;onehotencoder&#x27;,\n",
       "                                                  OneHotEncoder(handle_unknown=&#x27;ignore&#x27;),\n",
       "                                                  [&#x27;city&#x27;, &#x27;state&#x27;])])),\n",
       "                (&#x27;scaler&#x27;, StandardScaler(with_mean=False)),\n",
       "                (&#x27;RandomForestRegressor&#x27;, RandomForestRegressor())])</pre><b>In a Jupyter environment, please rerun this cell to show the HTML representation or trust the notebook. <br />On GitHub, the HTML representation is unable to render, please try loading this page with nbviewer.org.</b></div><div class=\"sk-container\" hidden><div class=\"sk-item sk-dashed-wrapped\"><div class=\"sk-label-container\"><div class=\"sk-label sk-toggleable\"><input class=\"sk-toggleable__control sk-hidden--visually\" id=\"sk-estimator-id-70\" type=\"checkbox\" ><label for=\"sk-estimator-id-70\" class=\"sk-toggleable__label sk-toggleable__label-arrow\">Pipeline</label><div class=\"sk-toggleable__content\"><pre>Pipeline(steps=[(&#x27;column_trans&#x27;,\n",
       "                 ColumnTransformer(remainder=&#x27;passthrough&#x27;,\n",
       "                                   transformers=[(&#x27;onehotencoder&#x27;,\n",
       "                                                  OneHotEncoder(handle_unknown=&#x27;ignore&#x27;),\n",
       "                                                  [&#x27;city&#x27;, &#x27;state&#x27;])])),\n",
       "                (&#x27;scaler&#x27;, StandardScaler(with_mean=False)),\n",
       "                (&#x27;RandomForestRegressor&#x27;, RandomForestRegressor())])</pre></div></div></div><div class=\"sk-serial\"><div class=\"sk-item sk-dashed-wrapped\"><div class=\"sk-label-container\"><div class=\"sk-label sk-toggleable\"><input class=\"sk-toggleable__control sk-hidden--visually\" id=\"sk-estimator-id-71\" type=\"checkbox\" ><label for=\"sk-estimator-id-71\" class=\"sk-toggleable__label sk-toggleable__label-arrow\">column_trans: ColumnTransformer</label><div class=\"sk-toggleable__content\"><pre>ColumnTransformer(remainder=&#x27;passthrough&#x27;,\n",
       "                  transformers=[(&#x27;onehotencoder&#x27;,\n",
       "                                 OneHotEncoder(handle_unknown=&#x27;ignore&#x27;),\n",
       "                                 [&#x27;city&#x27;, &#x27;state&#x27;])])</pre></div></div></div><div class=\"sk-parallel\"><div class=\"sk-parallel-item\"><div class=\"sk-item\"><div class=\"sk-label-container\"><div class=\"sk-label sk-toggleable\"><input class=\"sk-toggleable__control sk-hidden--visually\" id=\"sk-estimator-id-72\" type=\"checkbox\" ><label for=\"sk-estimator-id-72\" class=\"sk-toggleable__label sk-toggleable__label-arrow\">onehotencoder</label><div class=\"sk-toggleable__content\"><pre>[&#x27;city&#x27;, &#x27;state&#x27;]</pre></div></div></div><div class=\"sk-serial\"><div class=\"sk-item\"><div class=\"sk-estimator sk-toggleable\"><input class=\"sk-toggleable__control sk-hidden--visually\" id=\"sk-estimator-id-73\" type=\"checkbox\" ><label for=\"sk-estimator-id-73\" class=\"sk-toggleable__label sk-toggleable__label-arrow\">OneHotEncoder</label><div class=\"sk-toggleable__content\"><pre>OneHotEncoder(handle_unknown=&#x27;ignore&#x27;)</pre></div></div></div></div></div></div><div class=\"sk-parallel-item\"><div class=\"sk-item\"><div class=\"sk-label-container\"><div class=\"sk-label sk-toggleable\"><input class=\"sk-toggleable__control sk-hidden--visually\" id=\"sk-estimator-id-74\" type=\"checkbox\" ><label for=\"sk-estimator-id-74\" class=\"sk-toggleable__label sk-toggleable__label-arrow\">remainder</label><div class=\"sk-toggleable__content\"><pre></pre></div></div></div><div class=\"sk-serial\"><div class=\"sk-item\"><div class=\"sk-estimator sk-toggleable\"><input class=\"sk-toggleable__control sk-hidden--visually\" id=\"sk-estimator-id-75\" type=\"checkbox\" ><label for=\"sk-estimator-id-75\" class=\"sk-toggleable__label sk-toggleable__label-arrow\">passthrough</label><div class=\"sk-toggleable__content\"><pre>passthrough</pre></div></div></div></div></div></div></div></div><div class=\"sk-item\"><div class=\"sk-estimator sk-toggleable\"><input class=\"sk-toggleable__control sk-hidden--visually\" id=\"sk-estimator-id-76\" type=\"checkbox\" ><label for=\"sk-estimator-id-76\" class=\"sk-toggleable__label sk-toggleable__label-arrow\">StandardScaler</label><div class=\"sk-toggleable__content\"><pre>StandardScaler(with_mean=False)</pre></div></div></div><div class=\"sk-item\"><div class=\"sk-estimator sk-toggleable\"><input class=\"sk-toggleable__control sk-hidden--visually\" id=\"sk-estimator-id-77\" type=\"checkbox\" ><label for=\"sk-estimator-id-77\" class=\"sk-toggleable__label sk-toggleable__label-arrow\">RandomForestRegressor</label><div class=\"sk-toggleable__content\"><pre>RandomForestRegressor()</pre></div></div></div></div></div></div></div>"
      ],
      "text/plain": [
       "Pipeline(steps=[('column_trans',\n",
       "                 ColumnTransformer(remainder='passthrough',\n",
       "                                   transformers=[('onehotencoder',\n",
       "                                                  OneHotEncoder(handle_unknown='ignore'),\n",
       "                                                  ['city', 'state'])])),\n",
       "                ('scaler', StandardScaler(with_mean=False)),\n",
       "                ('RandomForestRegressor', RandomForestRegressor())])"
      ]
     },
     "execution_count": 23,
     "metadata": {},
     "output_type": "execute_result"
    }
   ],
   "source": [
    "pipe = Pipeline(steps=[\n",
    "    (\"column_trans\", column_trans),\n",
    "    (\"scaler\", StandardScaler(with_mean=False)),\n",
    "    (\"RandomForestRegressor\", RandomForestRegressor())\n",
    "])\n",
    "\n",
    "pipe"
   ]
  },
  {
   "cell_type": "markdown",
   "id": "57ce1aa1-646c-4067-a09b-aae7dac8b459",
   "metadata": {},
   "source": [
    "Hyperparameters"
   ]
  },
  {
   "cell_type": "code",
   "execution_count": 24,
   "id": "9b251bed-066c-4c17-8d66-79d1db0aa9d9",
   "metadata": {
    "tags": []
   },
   "outputs": [
    {
     "data": {
      "text/html": [
       "<style>#sk-container-id-11 {color: black;background-color: white;}#sk-container-id-11 pre{padding: 0;}#sk-container-id-11 div.sk-toggleable {background-color: white;}#sk-container-id-11 label.sk-toggleable__label {cursor: pointer;display: block;width: 100%;margin-bottom: 0;padding: 0.3em;box-sizing: border-box;text-align: center;}#sk-container-id-11 label.sk-toggleable__label-arrow:before {content: \"▸\";float: left;margin-right: 0.25em;color: #696969;}#sk-container-id-11 label.sk-toggleable__label-arrow:hover:before {color: black;}#sk-container-id-11 div.sk-estimator:hover label.sk-toggleable__label-arrow:before {color: black;}#sk-container-id-11 div.sk-toggleable__content {max-height: 0;max-width: 0;overflow: hidden;text-align: left;background-color: #f0f8ff;}#sk-container-id-11 div.sk-toggleable__content pre {margin: 0.2em;color: black;border-radius: 0.25em;background-color: #f0f8ff;}#sk-container-id-11 input.sk-toggleable__control:checked~div.sk-toggleable__content {max-height: 200px;max-width: 100%;overflow: auto;}#sk-container-id-11 input.sk-toggleable__control:checked~label.sk-toggleable__label-arrow:before {content: \"▾\";}#sk-container-id-11 div.sk-estimator input.sk-toggleable__control:checked~label.sk-toggleable__label {background-color: #d4ebff;}#sk-container-id-11 div.sk-label input.sk-toggleable__control:checked~label.sk-toggleable__label {background-color: #d4ebff;}#sk-container-id-11 input.sk-hidden--visually {border: 0;clip: rect(1px 1px 1px 1px);clip: rect(1px, 1px, 1px, 1px);height: 1px;margin: -1px;overflow: hidden;padding: 0;position: absolute;width: 1px;}#sk-container-id-11 div.sk-estimator {font-family: monospace;background-color: #f0f8ff;border: 1px dotted black;border-radius: 0.25em;box-sizing: border-box;margin-bottom: 0.5em;}#sk-container-id-11 div.sk-estimator:hover {background-color: #d4ebff;}#sk-container-id-11 div.sk-parallel-item::after {content: \"\";width: 100%;border-bottom: 1px solid gray;flex-grow: 1;}#sk-container-id-11 div.sk-label:hover label.sk-toggleable__label {background-color: #d4ebff;}#sk-container-id-11 div.sk-serial::before {content: \"\";position: absolute;border-left: 1px solid gray;box-sizing: border-box;top: 0;bottom: 0;left: 50%;z-index: 0;}#sk-container-id-11 div.sk-serial {display: flex;flex-direction: column;align-items: center;background-color: white;padding-right: 0.2em;padding-left: 0.2em;position: relative;}#sk-container-id-11 div.sk-item {position: relative;z-index: 1;}#sk-container-id-11 div.sk-parallel {display: flex;align-items: stretch;justify-content: center;background-color: white;position: relative;}#sk-container-id-11 div.sk-item::before, #sk-container-id-11 div.sk-parallel-item::before {content: \"\";position: absolute;border-left: 1px solid gray;box-sizing: border-box;top: 0;bottom: 0;left: 50%;z-index: -1;}#sk-container-id-11 div.sk-parallel-item {display: flex;flex-direction: column;z-index: 1;position: relative;background-color: white;}#sk-container-id-11 div.sk-parallel-item:first-child::after {align-self: flex-end;width: 50%;}#sk-container-id-11 div.sk-parallel-item:last-child::after {align-self: flex-start;width: 50%;}#sk-container-id-11 div.sk-parallel-item:only-child::after {width: 0;}#sk-container-id-11 div.sk-dashed-wrapped {border: 1px dashed gray;margin: 0 0.4em 0.5em 0.4em;box-sizing: border-box;padding-bottom: 0.4em;background-color: white;}#sk-container-id-11 div.sk-label label {font-family: monospace;font-weight: bold;display: inline-block;line-height: 1.2em;}#sk-container-id-11 div.sk-label-container {text-align: center;}#sk-container-id-11 div.sk-container {/* jupyter's `normalize.less` sets `[hidden] { display: none; }` but bootstrap.min.css set `[hidden] { display: none !important; }` so we also need the `!important` here to be able to override the default hidden behavior on the sphinx rendered scikit-learn.org. See: https://github.com/scikit-learn/scikit-learn/issues/21755 */display: inline-block !important;position: relative;}#sk-container-id-11 div.sk-text-repr-fallback {display: none;}</style><div id=\"sk-container-id-11\" class=\"sk-top-container\"><div class=\"sk-text-repr-fallback\"><pre>GridSearchCV(cv=10,\n",
       "             estimator=Pipeline(steps=[(&#x27;column_trans&#x27;,\n",
       "                                        ColumnTransformer(remainder=&#x27;passthrough&#x27;,\n",
       "                                                          transformers=[(&#x27;onehotencoder&#x27;,\n",
       "                                                                         OneHotEncoder(handle_unknown=&#x27;ignore&#x27;),\n",
       "                                                                         [&#x27;city&#x27;,\n",
       "                                                                          &#x27;state&#x27;])])),\n",
       "                                       (&#x27;scaler&#x27;,\n",
       "                                        StandardScaler(with_mean=False)),\n",
       "                                       (&#x27;RandomForestRegressor&#x27;,\n",
       "                                        RandomForestRegressor())]),\n",
       "             n_jobs=2,\n",
       "             param_grid={&#x27;RandomForestRegressor__max_depth&#x27;: [1, 2, 3, 10],\n",
       "                         &#x27;RandomForestRegressor__n_estimators&#x27;: [10, 11]})</pre><b>In a Jupyter environment, please rerun this cell to show the HTML representation or trust the notebook. <br />On GitHub, the HTML representation is unable to render, please try loading this page with nbviewer.org.</b></div><div class=\"sk-container\" hidden><div class=\"sk-item sk-dashed-wrapped\"><div class=\"sk-label-container\"><div class=\"sk-label sk-toggleable\"><input class=\"sk-toggleable__control sk-hidden--visually\" id=\"sk-estimator-id-78\" type=\"checkbox\" ><label for=\"sk-estimator-id-78\" class=\"sk-toggleable__label sk-toggleable__label-arrow\">GridSearchCV</label><div class=\"sk-toggleable__content\"><pre>GridSearchCV(cv=10,\n",
       "             estimator=Pipeline(steps=[(&#x27;column_trans&#x27;,\n",
       "                                        ColumnTransformer(remainder=&#x27;passthrough&#x27;,\n",
       "                                                          transformers=[(&#x27;onehotencoder&#x27;,\n",
       "                                                                         OneHotEncoder(handle_unknown=&#x27;ignore&#x27;),\n",
       "                                                                         [&#x27;city&#x27;,\n",
       "                                                                          &#x27;state&#x27;])])),\n",
       "                                       (&#x27;scaler&#x27;,\n",
       "                                        StandardScaler(with_mean=False)),\n",
       "                                       (&#x27;RandomForestRegressor&#x27;,\n",
       "                                        RandomForestRegressor())]),\n",
       "             n_jobs=2,\n",
       "             param_grid={&#x27;RandomForestRegressor__max_depth&#x27;: [1, 2, 3, 10],\n",
       "                         &#x27;RandomForestRegressor__n_estimators&#x27;: [10, 11]})</pre></div></div></div><div class=\"sk-parallel\"><div class=\"sk-parallel-item\"><div class=\"sk-item\"><div class=\"sk-label-container\"><div class=\"sk-label sk-toggleable\"><input class=\"sk-toggleable__control sk-hidden--visually\" id=\"sk-estimator-id-79\" type=\"checkbox\" ><label for=\"sk-estimator-id-79\" class=\"sk-toggleable__label sk-toggleable__label-arrow\">estimator: Pipeline</label><div class=\"sk-toggleable__content\"><pre>Pipeline(steps=[(&#x27;column_trans&#x27;,\n",
       "                 ColumnTransformer(remainder=&#x27;passthrough&#x27;,\n",
       "                                   transformers=[(&#x27;onehotencoder&#x27;,\n",
       "                                                  OneHotEncoder(handle_unknown=&#x27;ignore&#x27;),\n",
       "                                                  [&#x27;city&#x27;, &#x27;state&#x27;])])),\n",
       "                (&#x27;scaler&#x27;, StandardScaler(with_mean=False)),\n",
       "                (&#x27;RandomForestRegressor&#x27;, RandomForestRegressor())])</pre></div></div></div><div class=\"sk-serial\"><div class=\"sk-item\"><div class=\"sk-serial\"><div class=\"sk-item sk-dashed-wrapped\"><div class=\"sk-label-container\"><div class=\"sk-label sk-toggleable\"><input class=\"sk-toggleable__control sk-hidden--visually\" id=\"sk-estimator-id-80\" type=\"checkbox\" ><label for=\"sk-estimator-id-80\" class=\"sk-toggleable__label sk-toggleable__label-arrow\">column_trans: ColumnTransformer</label><div class=\"sk-toggleable__content\"><pre>ColumnTransformer(remainder=&#x27;passthrough&#x27;,\n",
       "                  transformers=[(&#x27;onehotencoder&#x27;,\n",
       "                                 OneHotEncoder(handle_unknown=&#x27;ignore&#x27;),\n",
       "                                 [&#x27;city&#x27;, &#x27;state&#x27;])])</pre></div></div></div><div class=\"sk-parallel\"><div class=\"sk-parallel-item\"><div class=\"sk-item\"><div class=\"sk-label-container\"><div class=\"sk-label sk-toggleable\"><input class=\"sk-toggleable__control sk-hidden--visually\" id=\"sk-estimator-id-81\" type=\"checkbox\" ><label for=\"sk-estimator-id-81\" class=\"sk-toggleable__label sk-toggleable__label-arrow\">onehotencoder</label><div class=\"sk-toggleable__content\"><pre>[&#x27;city&#x27;, &#x27;state&#x27;]</pre></div></div></div><div class=\"sk-serial\"><div class=\"sk-item\"><div class=\"sk-estimator sk-toggleable\"><input class=\"sk-toggleable__control sk-hidden--visually\" id=\"sk-estimator-id-82\" type=\"checkbox\" ><label for=\"sk-estimator-id-82\" class=\"sk-toggleable__label sk-toggleable__label-arrow\">OneHotEncoder</label><div class=\"sk-toggleable__content\"><pre>OneHotEncoder(handle_unknown=&#x27;ignore&#x27;)</pre></div></div></div></div></div></div><div class=\"sk-parallel-item\"><div class=\"sk-item\"><div class=\"sk-label-container\"><div class=\"sk-label sk-toggleable\"><input class=\"sk-toggleable__control sk-hidden--visually\" id=\"sk-estimator-id-83\" type=\"checkbox\" ><label for=\"sk-estimator-id-83\" class=\"sk-toggleable__label sk-toggleable__label-arrow\">remainder</label><div class=\"sk-toggleable__content\"><pre></pre></div></div></div><div class=\"sk-serial\"><div class=\"sk-item\"><div class=\"sk-estimator sk-toggleable\"><input class=\"sk-toggleable__control sk-hidden--visually\" id=\"sk-estimator-id-84\" type=\"checkbox\" ><label for=\"sk-estimator-id-84\" class=\"sk-toggleable__label sk-toggleable__label-arrow\">passthrough</label><div class=\"sk-toggleable__content\"><pre>passthrough</pre></div></div></div></div></div></div></div></div><div class=\"sk-item\"><div class=\"sk-estimator sk-toggleable\"><input class=\"sk-toggleable__control sk-hidden--visually\" id=\"sk-estimator-id-85\" type=\"checkbox\" ><label for=\"sk-estimator-id-85\" class=\"sk-toggleable__label sk-toggleable__label-arrow\">StandardScaler</label><div class=\"sk-toggleable__content\"><pre>StandardScaler(with_mean=False)</pre></div></div></div><div class=\"sk-item\"><div class=\"sk-estimator sk-toggleable\"><input class=\"sk-toggleable__control sk-hidden--visually\" id=\"sk-estimator-id-86\" type=\"checkbox\" ><label for=\"sk-estimator-id-86\" class=\"sk-toggleable__label sk-toggleable__label-arrow\">RandomForestRegressor</label><div class=\"sk-toggleable__content\"><pre>RandomForestRegressor()</pre></div></div></div></div></div></div></div></div></div></div></div></div>"
      ],
      "text/plain": [
       "GridSearchCV(cv=10,\n",
       "             estimator=Pipeline(steps=[('column_trans',\n",
       "                                        ColumnTransformer(remainder='passthrough',\n",
       "                                                          transformers=[('onehotencoder',\n",
       "                                                                         OneHotEncoder(handle_unknown='ignore'),\n",
       "                                                                         ['city',\n",
       "                                                                          'state'])])),\n",
       "                                       ('scaler',\n",
       "                                        StandardScaler(with_mean=False)),\n",
       "                                       ('RandomForestRegressor',\n",
       "                                        RandomForestRegressor())]),\n",
       "             n_jobs=2,\n",
       "             param_grid={'RandomForestRegressor__max_depth': [1, 2, 3, 10],\n",
       "                         'RandomForestRegressor__n_estimators': [10, 11]})"
      ]
     },
     "execution_count": 24,
     "metadata": {},
     "output_type": "execute_result"
    }
   ],
   "source": [
    "param_grid =  dict()\n",
    "param_grid[\"RandomForestRegressor__max_depth\"] = [1,2,3,10] \n",
    "param_grid['RandomForestRegressor__n_estimators'] = [10,11]\n",
    "\n",
    "search = GridSearchCV(pipe, param_grid, cv=10, n_jobs=2)\n",
    "search"
   ]
  },
  {
   "cell_type": "code",
   "execution_count": 25,
   "id": "8eebc6d5-a130-4abf-80fd-e376ff386bcf",
   "metadata": {
    "tags": []
   },
   "outputs": [
    {
     "name": "stderr",
     "output_type": "stream",
     "text": [
      "Successfully registered model 'modelo1'.\n",
      "2024/05/17 02:39:52 INFO mlflow.tracking._model_registry.client: Waiting up to 300 seconds for model version to finish creation. Model name: modelo1, version 1\n",
      "Created version '1' of model 'modelo1'.\n",
      "2024/05/17 02:39:53 INFO mlflow.sklearn.utils: Logging the 5 best runs, 3 runs will be omitted.\n"
     ]
    },
    {
     "name": "stdout",
     "output_type": "stream",
     "text": [
      "fin\n"
     ]
    }
   ],
   "source": [
    "# YOU MUST TAKE THE API NOT THE WEBAPP IN MY CASE IT WAS \"http://0.0.0.0:8083\" BUT API \"9000\"\n",
    "# WE ARE ALSO TAKING THE NETWORK VALUE NEVERTHELESS YOU CAN USE THE CONTEINER NAME (IN OUR CASE S3)\n",
    "\n",
    "os.environ['MLFLOW_S3_ENDPOINT_URL'] = \"http://s3:8084\" \n",
    "os.environ['AWS_ACCESS_KEY_ID'] = 'admin'\n",
    "os.environ['AWS_SECRET_ACCESS_KEY'] = 'supersecret'\n",
    "\n",
    "# connect to mlflow\n",
    "mlflow.set_tracking_uri(\"http://mlflow:8087\") # \"http://0.0.0.0:8087\")\n",
    "mlflow.set_experiment(\"mlflow_project_4\")\n",
    "\n",
    "mlflow.sklearn.autolog(log_model_signatures=True, log_input_examples=True, registered_model_name=\"modelo1\")\n",
    "\n",
    "with mlflow.start_run(run_name=\"autolog_pipe_model_reg\") as run:\n",
    "    search.fit(X_train, y_train)\n",
    "print(\"fin\")"
   ]
  },
  {
   "cell_type": "code",
   "execution_count": 18,
   "id": "bf2ce3c7-5245-43e7-9f1f-ffc074e720db",
   "metadata": {
    "tags": []
   },
   "outputs": [
    {
     "name": "stdout",
     "output_type": "stream",
     "text": [
      "tracking uri: http://mlflow:8087\n",
      "artifact uri: s3://project2bucket/1/c86c4bc824d54852a28907acd1b89bfc/artifacts\n"
     ]
    }
   ],
   "source": [
    "print('tracking uri:', mlflow.get_tracking_uri())\n",
    "print('artifact uri:', mlflow.get_artifact_uri())"
   ]
  },
  {
   "cell_type": "code",
   "execution_count": 31,
   "id": "a8cbe1bb-90ef-4519-a8d8-f79a7cf8e83e",
   "metadata": {
    "tags": []
   },
   "outputs": [
    {
     "name": "stdout",
     "output_type": "stream",
     "text": [
      "models:/modelo1/production\n",
      "real:  2042    6\n",
      "157     1\n",
      "Name: 12, dtype: int64\n",
      "prediction:  [6 1]\n"
     ]
    }
   ],
   "source": [
    "# YOU MUST TAKE THE API NOT THE WEBAPP IN MY CASE IT WAS \"http://0.0.0.0:8083\" BUT API \"9000\"\n",
    "# WE ARE ALSO TAKING THE NETWORK VALUE NEVERTHELESS YOU CAN USE THE CONTEINER NAME (IN OUR CASE S3)\n",
    "\n",
    "os.environ['MLFLOW_S3_ENDPOINT_URL'] = \"http://10.56.1.22:9000\" # YOU MUST TAKE THE API NOT THE WEBAPP IN MY CASE IT WAS \"http://0.0.0.0:8083\" BUT API \"9000\"\n",
    "os.environ['AWS_ACCESS_KEY_ID'] = 'admin'\n",
    "os.environ['AWS_SECRET_ACCESS_KEY'] = 'supersecret'\n",
    "\n",
    "# connect to mlflow\n",
    "mlflow.set_tracking_uri(\"http://mlflow:8087\") # \"http://0.0.0.0:8087\")\n",
    "\n",
    "model_name = \"modelo1\"\n",
    "\n",
    "# logged_model = 'runs:/71428bebed2b4feb9635714ea3cdb562/model'\n",
    "model_production_uri = \"models:/{model_name}/production\".format(model_name=model_name)\n",
    "\n",
    "print(model_production_uri)\n",
    "\n",
    "# Load model as a PyFuncModel.\n",
    "loaded_model = mlflow.pyfunc.load_model(model_uri=model_production_uri)\n",
    "loaded_model\n",
    "example_test = X_test.iloc[0:2]#.to_frame().T\n",
    "#print(example_test)\n",
    "print('real: ', y_test.iloc[0:2])\n",
    "print('prediction: ', loaded_model.predict(example_test))\n",
    "\n",
    "a = loaded_model.predict(example_test)\n",
    "\n"
   ]
  },
  {
   "cell_type": "code",
   "execution_count": 20,
   "id": "c4716b12-51a4-45ad-b9b4-d64815dbc052",
   "metadata": {
    "tags": []
   },
   "outputs": [
    {
     "data": {
      "text/html": [
       "<div>\n",
       "<style scoped>\n",
       "    .dataframe tbody tr th:only-of-type {\n",
       "        vertical-align: middle;\n",
       "    }\n",
       "\n",
       "    .dataframe tbody tr th {\n",
       "        vertical-align: top;\n",
       "    }\n",
       "\n",
       "    .dataframe thead th {\n",
       "        text-align: right;\n",
       "    }\n",
       "</style>\n",
       "<table border=\"1\" class=\"dataframe\">\n",
       "  <thead>\n",
       "    <tr style=\"text-align: right;\">\n",
       "      <th></th>\n",
       "      <th>0</th>\n",
       "      <th>1</th>\n",
       "      <th>2</th>\n",
       "      <th>3</th>\n",
       "      <th>4</th>\n",
       "      <th>5</th>\n",
       "      <th>6</th>\n",
       "      <th>7</th>\n",
       "      <th>8</th>\n",
       "      <th>9</th>\n",
       "      <th>10</th>\n",
       "      <th>11</th>\n",
       "    </tr>\n",
       "  </thead>\n",
       "  <tbody>\n",
       "    <tr>\n",
       "      <th>2042</th>\n",
       "      <td>3448</td>\n",
       "      <td>311</td>\n",
       "      <td>25</td>\n",
       "      <td>127</td>\n",
       "      <td>1</td>\n",
       "      <td>1518</td>\n",
       "      <td>146</td>\n",
       "      <td>214</td>\n",
       "      <td>204</td>\n",
       "      <td>1869</td>\n",
       "      <td>Neota</td>\n",
       "      <td>C8772</td>\n",
       "    </tr>\n",
       "    <tr>\n",
       "      <th>157</th>\n",
       "      <td>2693</td>\n",
       "      <td>68</td>\n",
       "      <td>14</td>\n",
       "      <td>256</td>\n",
       "      <td>76</td>\n",
       "      <td>2391</td>\n",
       "      <td>234</td>\n",
       "      <td>210</td>\n",
       "      <td>105</td>\n",
       "      <td>883</td>\n",
       "      <td>Commanche</td>\n",
       "      <td>C2703</td>\n",
       "    </tr>\n",
       "  </tbody>\n",
       "</table>\n",
       "</div>"
      ],
      "text/plain": [
       "         0    1   2    3   4     5    6    7    8     9         10     11\n",
       "2042  3448  311  25  127   1  1518  146  214  204  1869      Neota  C8772\n",
       "157   2693   68  14  256  76  2391  234  210  105   883  Commanche  C2703"
      ]
     },
     "execution_count": 20,
     "metadata": {},
     "output_type": "execute_result"
    }
   ],
   "source": [
    "X_test.iloc[0:2]"
   ]
  },
  {
   "cell_type": "code",
   "execution_count": 35,
   "id": "4928b9cc-5c29-4e74-be15-69b2cd70a287",
   "metadata": {
    "tags": []
   },
   "outputs": [
    {
     "data": {
      "text/plain": [
       "2"
      ]
     },
     "execution_count": 35,
     "metadata": {},
     "output_type": "execute_result"
    }
   ],
   "source": [
    "len(a)"
   ]
  },
  {
   "cell_type": "code",
   "execution_count": 39,
   "id": "6bc32bd6-1f1b-4906-8c8c-9f941e188240",
   "metadata": {
    "tags": []
   },
   "outputs": [
    {
     "data": {
      "text/plain": [
       "[6, 1]"
      ]
     },
     "execution_count": 39,
     "metadata": {},
     "output_type": "execute_result"
    }
   ],
   "source": [
    "final_response = [a[i].item() for i, _ in enumerate(a)]\n",
    "final_response"
   ]
  }
 ],
 "metadata": {
  "kernelspec": {
   "display_name": "Python 3 (ipykernel)",
   "language": "python",
   "name": "python3"
  },
  "language_info": {
   "codemirror_mode": {
    "name": "ipython",
    "version": 3
   },
   "file_extension": ".py",
   "mimetype": "text/x-python",
   "name": "python",
   "nbconvert_exporter": "python",
   "pygments_lexer": "ipython3",
   "version": "3.9.19"
  }
 },
 "nbformat": 4,
 "nbformat_minor": 5
}
