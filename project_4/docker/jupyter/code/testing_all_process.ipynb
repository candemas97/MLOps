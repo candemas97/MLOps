{
 "cells": [
  {
   "cell_type": "markdown",
   "id": "fb399c1f-0ef8-4340-b22c-8f881d82b97f",
   "metadata": {
    "tags": []
   },
   "source": [
    "# **Libraries**"
   ]
  },
  {
   "cell_type": "code",
   "execution_count": 2,
   "id": "fc6f20dd-76b7-46a4-a870-a57a8eed5c59",
   "metadata": {
    "tags": []
   },
   "outputs": [
    {
     "name": "stdout",
     "output_type": "stream",
     "text": [
      "\u001b[33mWARNING: Running pip as the 'root' user can result in broken permissions and conflicting behaviour with the system package manager. It is recommended to use a virtual environment instead: https://pip.pypa.io/warnings/venv\u001b[0m\u001b[33m\n",
      "\u001b[0m"
     ]
    }
   ],
   "source": [
    "!pip install seaborn matplotlib --quiet # This lines are only used in the jupyter, that's why we do not include it in the requirements.txt\n",
    "\n",
    "import seaborn as sns\n",
    "import matplotlib.pyplot as plt"
   ]
  },
  {
   "cell_type": "code",
   "execution_count": 1,
   "id": "67679508-495d-43bd-bfc0-c2dcb5da9daa",
   "metadata": {
    "tags": []
   },
   "outputs": [],
   "source": [
    "import os\n",
    "\n",
    "import pandas as pd\n",
    "import numpy as np\n",
    "import sqlalchemy\n",
    "import pymysql\n",
    "import mlflow\n",
    "\n",
    "from sklearn.model_selection import train_test_split\n",
    "from sklearn.preprocessing import StandardScaler\n",
    "from sklearn.preprocessing import OneHotEncoder\n",
    "from sklearn.compose import make_column_transformer # for dummies\n",
    "from sklearn.pipeline import Pipeline # creating a pipeline\n",
    "from sklearn.model_selection import GridSearchCV\n",
    "\n",
    "from sklearn.ensemble import RandomForestRegressor\n",
    "\n",
    "# Metrics\n",
    "from sklearn.metrics import mean_squared_error\n",
    "from sklearn.metrics import mean_absolute_error"
   ]
  },
  {
   "cell_type": "markdown",
   "id": "3b4f88da-aa41-49df-8b8a-691cd8dda106",
   "metadata": {
    "tags": []
   },
   "source": [
    "# **Reading Data**"
   ]
  },
  {
   "cell_type": "markdown",
   "id": "4f194df6-c1d0-48da-9391-affe6ba5b04a",
   "metadata": {},
   "source": [
    "Conection details"
   ]
  },
  {
   "cell_type": "code",
   "execution_count": 2,
   "id": "7c46e1ec-3604-4e3f-b637-6fef060fa58b",
   "metadata": {
    "tags": []
   },
   "outputs": [],
   "source": [
    "DB_HOST = \"mysql\" # \"10.43.101.158\" # \"localhost\" \"10.43.101.158\"  # Using INTERNET!\n",
    "DB_USER = \"root\"\n",
    "DB_PASSWORD = \"airflow\" \n",
    "DB_NAME = \"project_4\"\n",
    "PORT= 3306"
   ]
  },
  {
   "cell_type": "markdown",
   "id": "9145c60e-19ce-4e6c-9d87-13d594ff96cc",
   "metadata": {},
   "source": [
    "Read table from MySQL"
   ]
  },
  {
   "cell_type": "code",
   "execution_count": 3,
   "id": "d88dacc3-9492-4c68-bf85-2d53b6bf0bce",
   "metadata": {
    "tags": []
   },
   "outputs": [
    {
     "name": "stdout",
     "output_type": "stream",
     "text": [
      "The dataframe has 402756 rows\n"
     ]
    },
    {
     "data": {
      "text/html": [
       "<div>\n",
       "<style scoped>\n",
       "    .dataframe tbody tr th:only-of-type {\n",
       "        vertical-align: middle;\n",
       "    }\n",
       "\n",
       "    .dataframe tbody tr th {\n",
       "        vertical-align: top;\n",
       "    }\n",
       "\n",
       "    .dataframe thead th {\n",
       "        text-align: right;\n",
       "    }\n",
       "</style>\n",
       "<table border=\"1\" class=\"dataframe\">\n",
       "  <thead>\n",
       "    <tr style=\"text-align: right;\">\n",
       "      <th></th>\n",
       "      <th>brokered_by</th>\n",
       "      <th>status</th>\n",
       "      <th>price</th>\n",
       "      <th>bed</th>\n",
       "      <th>bath</th>\n",
       "      <th>acre_lot</th>\n",
       "      <th>street</th>\n",
       "      <th>city</th>\n",
       "      <th>state</th>\n",
       "      <th>zip_code</th>\n",
       "      <th>house_size</th>\n",
       "      <th>prev_sold_date</th>\n",
       "    </tr>\n",
       "  </thead>\n",
       "  <tbody>\n",
       "    <tr>\n",
       "      <th>0</th>\n",
       "      <td>101640.0</td>\n",
       "      <td>for_sale</td>\n",
       "      <td>289900.0</td>\n",
       "      <td>4.0</td>\n",
       "      <td>2.0</td>\n",
       "      <td>0.38</td>\n",
       "      <td>1758218.0</td>\n",
       "      <td>East Windsor</td>\n",
       "      <td>Connecticut</td>\n",
       "      <td>6016.0</td>\n",
       "      <td>1617.0</td>\n",
       "      <td>1999-09-30</td>\n",
       "    </tr>\n",
       "    <tr>\n",
       "      <th>1</th>\n",
       "      <td>107951.0</td>\n",
       "      <td>for_sale</td>\n",
       "      <td>299900.0</td>\n",
       "      <td>3.0</td>\n",
       "      <td>2.0</td>\n",
       "      <td>0.87</td>\n",
       "      <td>1336295.0</td>\n",
       "      <td>Vernon</td>\n",
       "      <td>Connecticut</td>\n",
       "      <td>6066.0</td>\n",
       "      <td>1850.0</td>\n",
       "      <td>2015-11-09</td>\n",
       "    </tr>\n",
       "    <tr>\n",
       "      <th>2</th>\n",
       "      <td>80935.0</td>\n",
       "      <td>for_sale</td>\n",
       "      <td>299000.0</td>\n",
       "      <td>3.0</td>\n",
       "      <td>2.0</td>\n",
       "      <td>0.35</td>\n",
       "      <td>920059.0</td>\n",
       "      <td>North Canaan</td>\n",
       "      <td>Connecticut</td>\n",
       "      <td>6018.0</td>\n",
       "      <td>1620.0</td>\n",
       "      <td>2011-08-23</td>\n",
       "    </tr>\n",
       "    <tr>\n",
       "      <th>3</th>\n",
       "      <td>33714.0</td>\n",
       "      <td>for_sale</td>\n",
       "      <td>221000.0</td>\n",
       "      <td>4.0</td>\n",
       "      <td>2.0</td>\n",
       "      <td>0.32</td>\n",
       "      <td>731702.0</td>\n",
       "      <td>Windsor Locks</td>\n",
       "      <td>Connecticut</td>\n",
       "      <td>6096.0</td>\n",
       "      <td>1735.0</td>\n",
       "      <td>2014-03-03</td>\n",
       "    </tr>\n",
       "    <tr>\n",
       "      <th>4</th>\n",
       "      <td>29997.0</td>\n",
       "      <td>for_sale</td>\n",
       "      <td>175000.0</td>\n",
       "      <td>3.0</td>\n",
       "      <td>2.0</td>\n",
       "      <td>0.19</td>\n",
       "      <td>1382878.0</td>\n",
       "      <td>Winchester</td>\n",
       "      <td>Connecticut</td>\n",
       "      <td>6098.0</td>\n",
       "      <td>2005.0</td>\n",
       "      <td>2007-07-19</td>\n",
       "    </tr>\n",
       "  </tbody>\n",
       "</table>\n",
       "</div>"
      ],
      "text/plain": [
       "   brokered_by    status     price  bed  bath  acre_lot     street  \\\n",
       "0     101640.0  for_sale  289900.0  4.0   2.0      0.38  1758218.0   \n",
       "1     107951.0  for_sale  299900.0  3.0   2.0      0.87  1336295.0   \n",
       "2      80935.0  for_sale  299000.0  3.0   2.0      0.35   920059.0   \n",
       "3      33714.0  for_sale  221000.0  4.0   2.0      0.32   731702.0   \n",
       "4      29997.0  for_sale  175000.0  3.0   2.0      0.19  1382878.0   \n",
       "\n",
       "            city        state  zip_code  house_size prev_sold_date  \n",
       "0   East Windsor  Connecticut    6016.0      1617.0     1999-09-30  \n",
       "1         Vernon  Connecticut    6066.0      1850.0     2015-11-09  \n",
       "2   North Canaan  Connecticut    6018.0      1620.0     2011-08-23  \n",
       "3  Windsor Locks  Connecticut    6096.0      1735.0     2014-03-03  \n",
       "4     Winchester  Connecticut    6098.0      2005.0     2007-07-19  "
      ]
     },
     "execution_count": 3,
     "metadata": {},
     "output_type": "execute_result"
    }
   ],
   "source": [
    "connection = pymysql.connect(host=DB_HOST,\n",
    "                             user=DB_USER,\n",
    "                             password=DB_PASSWORD,\n",
    "                             db=DB_NAME,\n",
    "                             cursorclass=pymysql.cursors.DictCursor)  # Using DictCursos to obtain results as dictionaries\n",
    "try:\n",
    "    with connection.cursor() as cursor:\n",
    "        # Query the database\n",
    "        cursor.execute(\"SELECT * FROM project_4.raw_data;\")\n",
    "        result = cursor.fetchall()\n",
    "    # Convert into a pd.DataFrame\n",
    "    df = pd.DataFrame(result)\n",
    "except Exception as e:\n",
    "    # If error returns the exact error\n",
    "    raise HTTPException(status_code=500, detail=str(e))\n",
    "finally:\n",
    "    connection.close()\n",
    "# Show df\n",
    "print(f\"The dataframe has {len(df)} rows\")\n",
    "df.head()"
   ]
  },
  {
   "cell_type": "markdown",
   "id": "dca295a1-7c89-4fc2-81a8-6593748f676a",
   "metadata": {
    "jp-MarkdownHeadingCollapsed": true,
    "tags": []
   },
   "source": [
    "# **Data Understanding**"
   ]
  },
  {
   "cell_type": "code",
   "execution_count": 6,
   "id": "e3f4d148-182d-4d55-b951-4bcfa114fd20",
   "metadata": {
    "tags": []
   },
   "outputs": [
    {
     "data": {
      "text/plain": [
       "brokered_by       float64\n",
       "status             object\n",
       "price             float64\n",
       "bed               float64\n",
       "bath              float64\n",
       "acre_lot          float64\n",
       "street            float64\n",
       "city               object\n",
       "state              object\n",
       "zip_code          float64\n",
       "house_size        float64\n",
       "prev_sold_date     object\n",
       "dtype: object"
      ]
     },
     "execution_count": 6,
     "metadata": {},
     "output_type": "execute_result"
    }
   ],
   "source": [
    "df.dtypes"
   ]
  },
  {
   "cell_type": "code",
   "execution_count": 7,
   "id": "575eb92a-c9fa-4853-a31d-b18757a6e51a",
   "metadata": {
    "tags": []
   },
   "outputs": [
    {
     "data": {
      "text/plain": [
       "array([289900., 299900., 299000., ..., 212400., 189200., 241750.])"
      ]
     },
     "execution_count": 7,
     "metadata": {},
     "output_type": "execute_result"
    }
   ],
   "source": [
    "df[\"price\"].unique()"
   ]
  },
  {
   "cell_type": "code",
   "execution_count": 8,
   "id": "853c39e9-233b-42a1-b2a4-74e6c2d3ad0f",
   "metadata": {
    "tags": []
   },
   "outputs": [
    {
     "data": {
      "text/plain": [
       "array(['for_sale'], dtype=object)"
      ]
     },
     "execution_count": 8,
     "metadata": {},
     "output_type": "execute_result"
    }
   ],
   "source": [
    "df[\"status\"].unique()"
   ]
  },
  {
   "cell_type": "code",
   "execution_count": 9,
   "id": "c1ae44da-541f-4f5e-b3dd-c1b22b6b2cc8",
   "metadata": {
    "tags": []
   },
   "outputs": [
    {
     "data": {
      "text/plain": [
       "array(['East Windsor', 'Vernon', 'North Canaan', ..., 'Soldotna',\n",
       "       'Fairbanks', 'Ketchikan'], dtype=object)"
      ]
     },
     "execution_count": 9,
     "metadata": {},
     "output_type": "execute_result"
    }
   ],
   "source": [
    "df[\"city\"].unique()"
   ]
  },
  {
   "cell_type": "code",
   "execution_count": 10,
   "id": "764cd795-9388-4516-a983-57fa4d9275e6",
   "metadata": {
    "tags": []
   },
   "outputs": [
    {
     "data": {
      "text/plain": [
       "array(['Connecticut', 'Vermont', 'New Hampshire', 'New York',\n",
       "       'Rhode Island', 'Maine', 'New Jersey', 'Pennsylvania', 'Delaware',\n",
       "       'West Virginia', 'Ohio', 'Maryland', 'Virginia',\n",
       "       'District of Columbia', 'North Carolina', 'Kentucky', 'Tennessee',\n",
       "       'South Carolina', 'Georgia', 'Alabama', 'Florida', 'Mississippi',\n",
       "       'Arkansas', 'Missouri', 'Louisiana', 'Indiana', 'Illinois',\n",
       "       'Michigan', 'Wisconsin', 'Iowa', 'Minnesota', 'Nebraska',\n",
       "       'South Dakota', 'North Dakota', 'Montana', 'Idaho', 'Kansas',\n",
       "       'Oklahoma', 'Colorado', 'Wyoming', 'Texas', 'New Mexico', 'Utah',\n",
       "       'Washington', 'Oregon', 'Arizona', 'California', 'Nevada',\n",
       "       'Hawaii', 'Alaska'], dtype=object)"
      ]
     },
     "execution_count": 10,
     "metadata": {},
     "output_type": "execute_result"
    }
   ],
   "source": [
    "df[\"state\"].unique()"
   ]
  },
  {
   "cell_type": "markdown",
   "id": "4b83ea5b-566f-46a3-9743-edd248a37b4c",
   "metadata": {
    "tags": []
   },
   "source": [
    "Reviewing if the is any null value"
   ]
  },
  {
   "cell_type": "code",
   "execution_count": 11,
   "id": "b5b4f5f6-8ae2-4a18-85be-13d385f9fa52",
   "metadata": {
    "tags": []
   },
   "outputs": [],
   "source": [
    "# Putting \"\" as null \n",
    "df.replace(\"\", np.nan, inplace=True)\n",
    "df.replace(\"?\", np.nan, inplace=True)"
   ]
  },
  {
   "cell_type": "code",
   "execution_count": 12,
   "id": "fd0cd76e-78c7-4a10-90bb-a5258dad86a2",
   "metadata": {
    "tags": []
   },
   "outputs": [
    {
     "data": {
      "text/html": [
       "<div>\n",
       "<style scoped>\n",
       "    .dataframe tbody tr th:only-of-type {\n",
       "        vertical-align: middle;\n",
       "    }\n",
       "\n",
       "    .dataframe tbody tr th {\n",
       "        vertical-align: top;\n",
       "    }\n",
       "\n",
       "    .dataframe thead th {\n",
       "        text-align: right;\n",
       "    }\n",
       "</style>\n",
       "<table border=\"1\" class=\"dataframe\">\n",
       "  <thead>\n",
       "    <tr style=\"text-align: right;\">\n",
       "      <th></th>\n",
       "      <th>0</th>\n",
       "    </tr>\n",
       "  </thead>\n",
       "  <tbody>\n",
       "    <tr>\n",
       "      <th>brokered_by</th>\n",
       "      <td>0.0</td>\n",
       "    </tr>\n",
       "    <tr>\n",
       "      <th>status</th>\n",
       "      <td>0.0</td>\n",
       "    </tr>\n",
       "    <tr>\n",
       "      <th>price</th>\n",
       "      <td>0.0</td>\n",
       "    </tr>\n",
       "    <tr>\n",
       "      <th>bed</th>\n",
       "      <td>0.0</td>\n",
       "    </tr>\n",
       "    <tr>\n",
       "      <th>bath</th>\n",
       "      <td>0.0</td>\n",
       "    </tr>\n",
       "    <tr>\n",
       "      <th>acre_lot</th>\n",
       "      <td>0.0</td>\n",
       "    </tr>\n",
       "    <tr>\n",
       "      <th>street</th>\n",
       "      <td>0.0</td>\n",
       "    </tr>\n",
       "    <tr>\n",
       "      <th>city</th>\n",
       "      <td>0.0</td>\n",
       "    </tr>\n",
       "    <tr>\n",
       "      <th>state</th>\n",
       "      <td>0.0</td>\n",
       "    </tr>\n",
       "    <tr>\n",
       "      <th>zip_code</th>\n",
       "      <td>0.0</td>\n",
       "    </tr>\n",
       "    <tr>\n",
       "      <th>house_size</th>\n",
       "      <td>0.0</td>\n",
       "    </tr>\n",
       "    <tr>\n",
       "      <th>prev_sold_date</th>\n",
       "      <td>0.0</td>\n",
       "    </tr>\n",
       "  </tbody>\n",
       "</table>\n",
       "</div>"
      ],
      "text/plain": [
       "                  0\n",
       "brokered_by     0.0\n",
       "status          0.0\n",
       "price           0.0\n",
       "bed             0.0\n",
       "bath            0.0\n",
       "acre_lot        0.0\n",
       "street          0.0\n",
       "city            0.0\n",
       "state           0.0\n",
       "zip_code        0.0\n",
       "house_size      0.0\n",
       "prev_sold_date  0.0"
      ]
     },
     "execution_count": 12,
     "metadata": {},
     "output_type": "execute_result"
    }
   ],
   "source": [
    "pd.DataFrame(df.isna().sum()) / len(df)"
   ]
  },
  {
   "cell_type": "markdown",
   "id": "ffda5b22-98c1-484a-93fd-240ab999d07a",
   "metadata": {},
   "source": [
    "Reviewing duplicated values"
   ]
  },
  {
   "cell_type": "code",
   "execution_count": 13,
   "id": "4e46268f-bfcd-41ef-8ea3-95b989bd5b23",
   "metadata": {
    "tags": []
   },
   "outputs": [
    {
     "data": {
      "text/plain": [
       "0"
      ]
     },
     "execution_count": 13,
     "metadata": {},
     "output_type": "execute_result"
    }
   ],
   "source": [
    "df.duplicated().sum()"
   ]
  },
  {
   "cell_type": "markdown",
   "id": "77a4eed4-87c1-420b-9f0d-f1b0f3702dcd",
   "metadata": {
    "tags": []
   },
   "source": [
    "# **Data Procesing**"
   ]
  },
  {
   "cell_type": "markdown",
   "id": "48fcec75-43c8-4029-ae95-3c7c9942d200",
   "metadata": {},
   "source": [
    "## _Removing not needed files_"
   ]
  },
  {
   "cell_type": "markdown",
   "id": "f1161036-e57e-4338-8241-a671b0b3cadc",
   "metadata": {},
   "source": [
    "Converting 10 first columns and the result variable into numeric"
   ]
  },
  {
   "cell_type": "code",
   "execution_count": 4,
   "id": "6ce03422-cf97-461c-892e-23ac63a07caa",
   "metadata": {
    "tags": []
   },
   "outputs": [],
   "source": [
    "unique_columns_to_use = [\"price\", \"bed\", \"bath\", \"acre_lot\", \"street\", \"city\", \"state\", \"house_size\"]\n",
    "df = df[unique_columns_to_use]"
   ]
  },
  {
   "cell_type": "code",
   "execution_count": 189,
   "id": "ff183a01-9eaf-4e58-8d22-965ab1359fed",
   "metadata": {
    "tags": []
   },
   "outputs": [
    {
     "data": {
      "text/plain": [
       "price         float64\n",
       "bed           float64\n",
       "bath          float64\n",
       "acre_lot      float64\n",
       "street        float64\n",
       "city           object\n",
       "state          object\n",
       "house_size    float64\n",
       "dtype: object"
      ]
     },
     "execution_count": 189,
     "metadata": {},
     "output_type": "execute_result"
    }
   ],
   "source": [
    "df.dtypes"
   ]
  },
  {
   "cell_type": "markdown",
   "id": "b3b80798-cc3b-4f4c-9c3f-a3c2b0f4cd3f",
   "metadata": {},
   "source": [
    "## _Delete Nulls_"
   ]
  },
  {
   "cell_type": "code",
   "execution_count": 5,
   "id": "618d4f7b-eec9-48c2-913b-eae15ffc4bf9",
   "metadata": {
    "tags": []
   },
   "outputs": [],
   "source": [
    "# Putting \"\" as null \n",
    "df.replace(\"\", np.nan, inplace=True)\n",
    "df.replace(\"?\", np.nan, inplace=True)\n",
    "df = df.dropna()"
   ]
  },
  {
   "cell_type": "markdown",
   "id": "756ba1bc-831d-49bd-8aa5-c266633c9ddd",
   "metadata": {},
   "source": [
    "## _Split data into train and test_"
   ]
  },
  {
   "cell_type": "code",
   "execution_count": 6,
   "id": "61222838-d8f9-45c6-a48c-d158e4f48c41",
   "metadata": {
    "tags": []
   },
   "outputs": [],
   "source": [
    "# Division between y and the rest of variables\n",
    "\n",
    "y = df[\"price\"]\n",
    "X = df.drop(columns=\"price\")\n",
    "\n",
    "# Split train and test (80% train, 20% test)\n",
    "X_train, X_test_val, y_train, y_test_val = train_test_split(X, y, test_size=0.20, random_state=42)\n",
    "X_val, X_test, y_val, y_test = train_test_split(X_test_val, y_test_val, test_size=0.50, random_state=42)"
   ]
  },
  {
   "cell_type": "markdown",
   "id": "2aa13988-cb5d-4056-9cd9-7db321aee135",
   "metadata": {},
   "source": [
    "## __Save Data to Clean Data__"
   ]
  },
  {
   "cell_type": "code",
   "execution_count": 7,
   "id": "d114c179-aef3-453a-85ac-521c5a05432c",
   "metadata": {
    "tags": []
   },
   "outputs": [],
   "source": [
    "DB_HOST = \"mysql\" # \"10.43.101.158\" # \"localhost\" \"10.43.101.158\"  # Using INTERNET!\n",
    "DB_USER = \"root\"\n",
    "DB_PASSWORD = \"airflow\" \n",
    "DB_NAME = \"project_4\"\n",
    "PORT= 3306"
   ]
  },
  {
   "cell_type": "code",
   "execution_count": 8,
   "id": "b6d68455-5284-4567-a091-a877580eec2f",
   "metadata": {
    "tags": []
   },
   "outputs": [
    {
     "name": "stdout",
     "output_type": "stream",
     "text": [
      "Saved into MySQL!\n"
     ]
    }
   ],
   "source": [
    "# Creating final DataFrame to Upload\n",
    "df_train_final = pd.concat([X_train, pd.DataFrame(y_train)], axis=1)\n",
    "df_val_final = pd.concat([X_val, pd.DataFrame(y_val)], axis=1)\n",
    "df_test_final = pd.concat([X_test, pd.DataFrame(y_test)], axis=1)\n",
    "\n",
    "# Connect to MySQL\n",
    "engine = sqlalchemy.create_engine(f'mysql://{DB_USER}:{DB_PASSWORD}@{DB_HOST}:{PORT}/{DB_NAME}')\n",
    "\n",
    "# Save data, if exits append into the current table (TRAIN)\n",
    "df_train_final.to_sql('clean_data_train', con=engine, if_exists='replace', index=False)\n",
    "df_val_final.to_sql('clean_data_val', con=engine, if_exists='replace', index=False)\n",
    "df_test_final.to_sql('clean_data_test', con=engine, if_exists='replace', index=False)\n",
    "print(\"Saved into MySQL!\")"
   ]
  },
  {
   "cell_type": "markdown",
   "id": "fb5e47ea-3186-4d2d-ac3b-500f4a137ac0",
   "metadata": {
    "tags": []
   },
   "source": [
    "# **Read Data from Clean Data**"
   ]
  },
  {
   "cell_type": "markdown",
   "id": "8ecf0e2b-6b9c-4752-a833-65c1a3aad713",
   "metadata": {},
   "source": [
    "Reading data from **train**"
   ]
  },
  {
   "cell_type": "code",
   "execution_count": 9,
   "id": "ceafe4f7-553a-4e66-9ed6-d498a23823ec",
   "metadata": {
    "tags": []
   },
   "outputs": [],
   "source": [
    "DB_HOST = \"mysql\" # \"10.43.101.158\" # \"localhost\" \"10.43.101.158\"  # Using INTERNET!\n",
    "DB_USER = \"root\"\n",
    "DB_PASSWORD = \"airflow\" \n",
    "DB_NAME = \"project_4\"\n",
    "PORT= 3306"
   ]
  },
  {
   "cell_type": "code",
   "execution_count": 10,
   "id": "67f6f730-8a1f-4108-b7a9-121dcfea5c79",
   "metadata": {
    "tags": []
   },
   "outputs": [
    {
     "name": "stdout",
     "output_type": "stream",
     "text": [
      "The dataframe has 322204 rows\n"
     ]
    },
    {
     "data": {
      "text/html": [
       "<div>\n",
       "<style scoped>\n",
       "    .dataframe tbody tr th:only-of-type {\n",
       "        vertical-align: middle;\n",
       "    }\n",
       "\n",
       "    .dataframe tbody tr th {\n",
       "        vertical-align: top;\n",
       "    }\n",
       "\n",
       "    .dataframe thead th {\n",
       "        text-align: right;\n",
       "    }\n",
       "</style>\n",
       "<table border=\"1\" class=\"dataframe\">\n",
       "  <thead>\n",
       "    <tr style=\"text-align: right;\">\n",
       "      <th></th>\n",
       "      <th>bed</th>\n",
       "      <th>bath</th>\n",
       "      <th>acre_lot</th>\n",
       "      <th>street</th>\n",
       "      <th>city</th>\n",
       "      <th>state</th>\n",
       "      <th>house_size</th>\n",
       "      <th>price</th>\n",
       "    </tr>\n",
       "  </thead>\n",
       "  <tbody>\n",
       "    <tr>\n",
       "      <th>0</th>\n",
       "      <td>3.0</td>\n",
       "      <td>2.0</td>\n",
       "      <td>0.24</td>\n",
       "      <td>46566.0</td>\n",
       "      <td>Savannah</td>\n",
       "      <td>Georgia</td>\n",
       "      <td>1312.0</td>\n",
       "      <td>195500.0</td>\n",
       "    </tr>\n",
       "    <tr>\n",
       "      <th>1</th>\n",
       "      <td>2.0</td>\n",
       "      <td>2.0</td>\n",
       "      <td>0.03</td>\n",
       "      <td>1585830.0</td>\n",
       "      <td>Caldwell</td>\n",
       "      <td>Idaho</td>\n",
       "      <td>1202.0</td>\n",
       "      <td>297000.0</td>\n",
       "    </tr>\n",
       "    <tr>\n",
       "      <th>2</th>\n",
       "      <td>2.0</td>\n",
       "      <td>1.0</td>\n",
       "      <td>0.14</td>\n",
       "      <td>50935.0</td>\n",
       "      <td>Waynesboro</td>\n",
       "      <td>Virginia</td>\n",
       "      <td>831.0</td>\n",
       "      <td>174900.0</td>\n",
       "    </tr>\n",
       "    <tr>\n",
       "      <th>3</th>\n",
       "      <td>2.0</td>\n",
       "      <td>1.0</td>\n",
       "      <td>0.27</td>\n",
       "      <td>799976.0</td>\n",
       "      <td>Caldwell</td>\n",
       "      <td>Idaho</td>\n",
       "      <td>909.0</td>\n",
       "      <td>281000.0</td>\n",
       "    </tr>\n",
       "    <tr>\n",
       "      <th>4</th>\n",
       "      <td>4.0</td>\n",
       "      <td>3.0</td>\n",
       "      <td>1.30</td>\n",
       "      <td>1811197.0</td>\n",
       "      <td>Negley</td>\n",
       "      <td>Ohio</td>\n",
       "      <td>2400.0</td>\n",
       "      <td>279900.0</td>\n",
       "    </tr>\n",
       "  </tbody>\n",
       "</table>\n",
       "</div>"
      ],
      "text/plain": [
       "   bed  bath  acre_lot     street        city     state  house_size     price\n",
       "0  3.0   2.0      0.24    46566.0    Savannah   Georgia      1312.0  195500.0\n",
       "1  2.0   2.0      0.03  1585830.0    Caldwell     Idaho      1202.0  297000.0\n",
       "2  2.0   1.0      0.14    50935.0  Waynesboro  Virginia       831.0  174900.0\n",
       "3  2.0   1.0      0.27   799976.0    Caldwell     Idaho       909.0  281000.0\n",
       "4  4.0   3.0      1.30  1811197.0      Negley      Ohio      2400.0  279900.0"
      ]
     },
     "execution_count": 10,
     "metadata": {},
     "output_type": "execute_result"
    }
   ],
   "source": [
    "connection = pymysql.connect(host=DB_HOST,\n",
    "                             user=DB_USER,\n",
    "                             password=DB_PASSWORD,\n",
    "                             db=DB_NAME,\n",
    "                             port=PORT,\n",
    "                             cursorclass=pymysql.cursors.DictCursor)  # Using DictCursos to obtain results as dictionaries\n",
    "try:\n",
    "    with connection.cursor() as cursor:\n",
    "        # Query the database\n",
    "        cursor.execute(\"SELECT * FROM project_4.clean_data_train;\")\n",
    "        result = cursor.fetchall()\n",
    "    # Convert into a pd.DataFrame\n",
    "    df_train_clean = pd.DataFrame(result)\n",
    "except Exception as e:\n",
    "    # If error returns the exact error\n",
    "    raise HTTPException(status_code=500, detail=str(e))\n",
    "finally:\n",
    "    connection.close()\n",
    "# Show df\n",
    "print(f\"The dataframe has {len(df_train_clean)} rows\")\n",
    "df_train_clean.head()"
   ]
  },
  {
   "cell_type": "markdown",
   "id": "e9bb4b24-fd7b-44b3-a90e-df8dde37cb1b",
   "metadata": {},
   "source": [
    "Reading data from **validation**"
   ]
  },
  {
   "cell_type": "code",
   "execution_count": 11,
   "id": "e4255e42-3349-429b-b19e-ced65d14693a",
   "metadata": {
    "tags": []
   },
   "outputs": [
    {
     "name": "stdout",
     "output_type": "stream",
     "text": [
      "The dataframe has 40276 rows\n"
     ]
    },
    {
     "data": {
      "text/html": [
       "<div>\n",
       "<style scoped>\n",
       "    .dataframe tbody tr th:only-of-type {\n",
       "        vertical-align: middle;\n",
       "    }\n",
       "\n",
       "    .dataframe tbody tr th {\n",
       "        vertical-align: top;\n",
       "    }\n",
       "\n",
       "    .dataframe thead th {\n",
       "        text-align: right;\n",
       "    }\n",
       "</style>\n",
       "<table border=\"1\" class=\"dataframe\">\n",
       "  <thead>\n",
       "    <tr style=\"text-align: right;\">\n",
       "      <th></th>\n",
       "      <th>bed</th>\n",
       "      <th>bath</th>\n",
       "      <th>acre_lot</th>\n",
       "      <th>street</th>\n",
       "      <th>city</th>\n",
       "      <th>state</th>\n",
       "      <th>house_size</th>\n",
       "      <th>price</th>\n",
       "    </tr>\n",
       "  </thead>\n",
       "  <tbody>\n",
       "    <tr>\n",
       "      <th>0</th>\n",
       "      <td>3.0</td>\n",
       "      <td>1.0</td>\n",
       "      <td>0.16</td>\n",
       "      <td>88224.0</td>\n",
       "      <td>Tulsa</td>\n",
       "      <td>Oklahoma</td>\n",
       "      <td>1206.0</td>\n",
       "      <td>50000.0</td>\n",
       "    </tr>\n",
       "    <tr>\n",
       "      <th>1</th>\n",
       "      <td>2.0</td>\n",
       "      <td>2.0</td>\n",
       "      <td>0.12</td>\n",
       "      <td>575822.0</td>\n",
       "      <td>Saint Paul</td>\n",
       "      <td>Minnesota</td>\n",
       "      <td>1008.0</td>\n",
       "      <td>169900.0</td>\n",
       "    </tr>\n",
       "    <tr>\n",
       "      <th>2</th>\n",
       "      <td>4.0</td>\n",
       "      <td>1.0</td>\n",
       "      <td>0.20</td>\n",
       "      <td>1581880.0</td>\n",
       "      <td>Saint Louis</td>\n",
       "      <td>Missouri</td>\n",
       "      <td>1156.0</td>\n",
       "      <td>139900.0</td>\n",
       "    </tr>\n",
       "    <tr>\n",
       "      <th>3</th>\n",
       "      <td>1.0</td>\n",
       "      <td>1.0</td>\n",
       "      <td>2.49</td>\n",
       "      <td>520408.0</td>\n",
       "      <td>Reseda</td>\n",
       "      <td>California</td>\n",
       "      <td>532.0</td>\n",
       "      <td>265000.0</td>\n",
       "    </tr>\n",
       "    <tr>\n",
       "      <th>4</th>\n",
       "      <td>2.0</td>\n",
       "      <td>2.0</td>\n",
       "      <td>0.56</td>\n",
       "      <td>871582.0</td>\n",
       "      <td>Cherokee Village</td>\n",
       "      <td>Arkansas</td>\n",
       "      <td>868.0</td>\n",
       "      <td>75000.0</td>\n",
       "    </tr>\n",
       "  </tbody>\n",
       "</table>\n",
       "</div>"
      ],
      "text/plain": [
       "   bed  bath  acre_lot     street              city       state  house_size  \\\n",
       "0  3.0   1.0      0.16    88224.0             Tulsa    Oklahoma      1206.0   \n",
       "1  2.0   2.0      0.12   575822.0        Saint Paul   Minnesota      1008.0   \n",
       "2  4.0   1.0      0.20  1581880.0       Saint Louis    Missouri      1156.0   \n",
       "3  1.0   1.0      2.49   520408.0            Reseda  California       532.0   \n",
       "4  2.0   2.0      0.56   871582.0  Cherokee Village    Arkansas       868.0   \n",
       "\n",
       "      price  \n",
       "0   50000.0  \n",
       "1  169900.0  \n",
       "2  139900.0  \n",
       "3  265000.0  \n",
       "4   75000.0  "
      ]
     },
     "execution_count": 11,
     "metadata": {},
     "output_type": "execute_result"
    }
   ],
   "source": [
    "connection = pymysql.connect(host=DB_HOST,\n",
    "                             user=DB_USER,\n",
    "                             password=DB_PASSWORD,\n",
    "                             db=DB_NAME,\n",
    "                             port=PORT,\n",
    "                             cursorclass=pymysql.cursors.DictCursor)  # Using DictCursos to obtain results as dictionaries\n",
    "try:\n",
    "    with connection.cursor() as cursor:\n",
    "        # Query the database\n",
    "        cursor.execute(\"SELECT * FROM project_4.clean_data_val;\")\n",
    "        result = cursor.fetchall()\n",
    "    # Convert into a pd.DataFrame\n",
    "    df_validation_clean = pd.DataFrame(result)\n",
    "except Exception as e:\n",
    "    # If error returns the exact error\n",
    "    raise HTTPException(status_code=500, detail=str(e))\n",
    "finally:\n",
    "    connection.close()\n",
    "# Show df\n",
    "print(f\"The dataframe has {len(df_validation_clean)} rows\")\n",
    "df_validation_clean.head()"
   ]
  },
  {
   "cell_type": "markdown",
   "id": "08ac796e-6338-436a-a0e5-993bf2687e0d",
   "metadata": {},
   "source": [
    "Reading data from **test**"
   ]
  },
  {
   "cell_type": "code",
   "execution_count": 12,
   "id": "1cc8d2f9-7194-414f-ae23-1c5b88b447e2",
   "metadata": {
    "tags": []
   },
   "outputs": [
    {
     "name": "stdout",
     "output_type": "stream",
     "text": [
      "The dataframe has 40276 rows\n"
     ]
    },
    {
     "data": {
      "text/html": [
       "<div>\n",
       "<style scoped>\n",
       "    .dataframe tbody tr th:only-of-type {\n",
       "        vertical-align: middle;\n",
       "    }\n",
       "\n",
       "    .dataframe tbody tr th {\n",
       "        vertical-align: top;\n",
       "    }\n",
       "\n",
       "    .dataframe thead th {\n",
       "        text-align: right;\n",
       "    }\n",
       "</style>\n",
       "<table border=\"1\" class=\"dataframe\">\n",
       "  <thead>\n",
       "    <tr style=\"text-align: right;\">\n",
       "      <th></th>\n",
       "      <th>bed</th>\n",
       "      <th>bath</th>\n",
       "      <th>acre_lot</th>\n",
       "      <th>street</th>\n",
       "      <th>city</th>\n",
       "      <th>state</th>\n",
       "      <th>house_size</th>\n",
       "      <th>price</th>\n",
       "    </tr>\n",
       "  </thead>\n",
       "  <tbody>\n",
       "    <tr>\n",
       "      <th>0</th>\n",
       "      <td>3.0</td>\n",
       "      <td>1.0</td>\n",
       "      <td>0.10</td>\n",
       "      <td>1110826.0</td>\n",
       "      <td>Chesapeake Beach</td>\n",
       "      <td>Maryland</td>\n",
       "      <td>1242.0</td>\n",
       "      <td>299000.0</td>\n",
       "    </tr>\n",
       "    <tr>\n",
       "      <th>1</th>\n",
       "      <td>3.0</td>\n",
       "      <td>3.0</td>\n",
       "      <td>1.11</td>\n",
       "      <td>1051918.0</td>\n",
       "      <td>Arnold</td>\n",
       "      <td>Missouri</td>\n",
       "      <td>1560.0</td>\n",
       "      <td>210000.0</td>\n",
       "    </tr>\n",
       "    <tr>\n",
       "      <th>2</th>\n",
       "      <td>2.0</td>\n",
       "      <td>3.0</td>\n",
       "      <td>0.06</td>\n",
       "      <td>1754963.0</td>\n",
       "      <td>Fayetteville</td>\n",
       "      <td>Arkansas</td>\n",
       "      <td>1416.0</td>\n",
       "      <td>200000.0</td>\n",
       "    </tr>\n",
       "    <tr>\n",
       "      <th>3</th>\n",
       "      <td>2.0</td>\n",
       "      <td>1.0</td>\n",
       "      <td>0.08</td>\n",
       "      <td>852795.0</td>\n",
       "      <td>Chico</td>\n",
       "      <td>California</td>\n",
       "      <td>808.0</td>\n",
       "      <td>279000.0</td>\n",
       "    </tr>\n",
       "    <tr>\n",
       "      <th>4</th>\n",
       "      <td>3.0</td>\n",
       "      <td>2.0</td>\n",
       "      <td>1.00</td>\n",
       "      <td>1079775.0</td>\n",
       "      <td>Alvin</td>\n",
       "      <td>Texas</td>\n",
       "      <td>1402.0</td>\n",
       "      <td>250000.0</td>\n",
       "    </tr>\n",
       "  </tbody>\n",
       "</table>\n",
       "</div>"
      ],
      "text/plain": [
       "   bed  bath  acre_lot     street              city       state  house_size  \\\n",
       "0  3.0   1.0      0.10  1110826.0  Chesapeake Beach    Maryland      1242.0   \n",
       "1  3.0   3.0      1.11  1051918.0            Arnold    Missouri      1560.0   \n",
       "2  2.0   3.0      0.06  1754963.0      Fayetteville    Arkansas      1416.0   \n",
       "3  2.0   1.0      0.08   852795.0             Chico  California       808.0   \n",
       "4  3.0   2.0      1.00  1079775.0             Alvin       Texas      1402.0   \n",
       "\n",
       "      price  \n",
       "0  299000.0  \n",
       "1  210000.0  \n",
       "2  200000.0  \n",
       "3  279000.0  \n",
       "4  250000.0  "
      ]
     },
     "execution_count": 12,
     "metadata": {},
     "output_type": "execute_result"
    }
   ],
   "source": [
    "connection = pymysql.connect(host=DB_HOST,\n",
    "                             user=DB_USER,\n",
    "                             password=DB_PASSWORD,\n",
    "                             db=DB_NAME,\n",
    "                             port=PORT,\n",
    "                             cursorclass=pymysql.cursors.DictCursor)  # Using DictCursos to obtain results as dictionaries\n",
    "try:\n",
    "    with connection.cursor() as cursor:\n",
    "        # Query the database\n",
    "        cursor.execute(\"SELECT * FROM project_4.clean_data_test;\")\n",
    "        result = cursor.fetchall()\n",
    "    # Convert into a pd.DataFrame\n",
    "    df_test_clean = pd.DataFrame(result)\n",
    "except Exception as e:\n",
    "    # If error returns the exact error\n",
    "    raise HTTPException(status_code=500, detail=str(e))\n",
    "finally:\n",
    "    connection.close()\n",
    "# Show df\n",
    "print(f\"The dataframe has {len(df_test_clean)} rows\")\n",
    "df_test_clean.head()"
   ]
  },
  {
   "cell_type": "markdown",
   "id": "6bc99d4b-eb58-4189-ad02-b4aec19f998c",
   "metadata": {},
   "source": [
    "**Creating stats (mean) to be store in SQL**"
   ]
  },
  {
   "cell_type": "code",
   "execution_count": 13,
   "id": "74d170e1-291f-47dc-bb4f-f2c11065f2b3",
   "metadata": {
    "tags": []
   },
   "outputs": [
    {
     "name": "stdout",
     "output_type": "stream",
     "text": [
      "['bed', 'bath', 'acre_lot', 'street', 'house_size', 'city', 'state', 'len_dataset']\n"
     ]
    }
   ],
   "source": [
    "numerical_columns = df_train_clean.select_dtypes(include=['int64', 'float64']).columns.drop(\"price\").to_list()\n",
    "mean_values = [df_train_clean[col].mean() for col in numerical_columns]\n",
    "categorical_columns = df_train_clean.select_dtypes(exclude=['int64', 'float64']).columns.to_list()\n",
    "count_values = [df_train_clean[col].nunique() for col in categorical_columns]\n",
    "mean_values.extend(count_values)\n",
    "numerical_columns.extend(categorical_columns)\n",
    "columns = numerical_columns.copy()\n",
    "mean_values.append(len(df_train_clean))\n",
    "columns.extend([\"len_dataset\"])\n",
    "print(columns)"
   ]
  },
  {
   "cell_type": "markdown",
   "id": "b4c3f599-4860-4f78-82a2-8b7c8337f9be",
   "metadata": {
    "jp-MarkdownHeadingCollapsed": true,
    "tags": []
   },
   "source": [
    "# **Delete Tables**"
   ]
  },
  {
   "cell_type": "markdown",
   "id": "73fa4a83-959f-4a7c-aada-7ac7e161b4ee",
   "metadata": {},
   "source": [
    "Verify which table are you going to delete"
   ]
  },
  {
   "cell_type": "code",
   "execution_count": 7,
   "id": "389ed564-69d7-4d84-972f-3edab3809955",
   "metadata": {
    "tags": []
   },
   "outputs": [],
   "source": [
    "# Parameters\n",
    "#DB_HOST = \"mysql\" # \"10.43.101.158\" # \"localhost\" \"10.43.101.158\"  # Using INTERNET!\n",
    "#DB_USER = \"root\"\n",
    "#DB_PASSWORD = \"airflow\" \n",
    "#DB_NAME = \"project_4\"\n",
    "#PORT= 3306\n",
    "\n",
    "# Connect to MySQL\n",
    "#engine = sqlalchemy.create_engine(f'mysql+pymysql://{DB_USER}:{DB_PASSWORD}@{DB_HOST}:{PORT}/{DB_NAME}')\n",
    "\n",
    "#inspector = sqlalchemy.inspect(engine)\n",
    "#inspector.get_table_names()"
   ]
  },
  {
   "cell_type": "code",
   "execution_count": 8,
   "id": "a8faaf6b-f137-455c-b3c9-56a3dfc055ae",
   "metadata": {
    "tags": []
   },
   "outputs": [],
   "source": [
    "############################\n",
    "## Delete tables\n",
    "############################\n",
    "\n",
    "\n",
    "# Parameters\n",
    "#DB_HOST = \"mysql\" # \"10.43.101.158\" # \"localhost\" \"10.43.101.158\"  # Using INTERNET!\n",
    "#DB_USER = \"root\"\n",
    "#DB_PASSWORD = \"airflow\" \n",
    "#DB_NAME = \"project_4\"\n",
    "#PORT= 3306\n",
    "\n",
    "# Connect to MySQL\n",
    "#engine = sqlalchemy.create_engine(f'mysql+pymysql://{DB_USER}:{DB_PASSWORD}@{DB_HOST}:{PORT}/{DB_NAME}')\n",
    "\n",
    "# Table name\n",
    "#table_name = 'raw_data' # 'metrics_retraining_to_be_saved'\n",
    "\n",
    "# Create MetaData\n",
    "#metadata = sqlalchemy.MetaData()\n",
    "#table = sqlalchemy.Table(table_name, metadata, autoload_with=engine)\n",
    "\n",
    "# Delete table\n",
    "#table.drop(engine)\n",
    "\n",
    "#print(f\"La tabla '{table_name}' ha sido borrada.\")"
   ]
  },
  {
   "cell_type": "markdown",
   "id": "a76ff70b-419d-4d7b-a75e-dee5c421ca38",
   "metadata": {
    "tags": []
   },
   "source": [
    "# **Reviewing if needed a new training**"
   ]
  },
  {
   "cell_type": "markdown",
   "id": "bd0f2ff0-03e7-47a6-ab87-900302d72d71",
   "metadata": {},
   "source": [
    "The way in which we are going to determine if it is needed to re-train a model corresponds to the following:\n",
    "\n",
    "1. MSE in test increase more than 15%\n",
    "2. MAE in test increase more than 15%\n",
    "3. Training Data has increased more than 50%\n",
    "4. Mean value for more or equals than 2 numerical variables is different +/- 10%\n",
    "5. There are more than 5% of distinct categorical variables"
   ]
  },
  {
   "cell_type": "code",
   "execution_count": 14,
   "id": "b05f0ca5-4a81-41ae-bd14-e845b1417932",
   "metadata": {
    "tags": []
   },
   "outputs": [],
   "source": [
    "def predict_mse_mae_actual_dataset():\n",
    "    # YOU MUST TAKE THE API NOT THE WEBAPP IN MY CASE IT WAS \"http://0.0.0.0:8083\" BUT API \"9000\"\n",
    "    # WE ARE ALSO TAKING THE NETWORK VALUE NEVERTHELESS YOU CAN USE THE CONTEINER NAME (IN OUR CASE S3)\n",
    "\n",
    "    os.environ['MLFLOW_S3_ENDPOINT_URL'] = \"http://s3:8084\" # YOU MUST TAKE THE API NOT THE WEBAPP IN MY CASE IT WAS \"http://0.0.0.0:8083\" BUT API \"9000\"\n",
    "    os.environ['AWS_ACCESS_KEY_ID'] = 'admin'\n",
    "    os.environ['AWS_SECRET_ACCESS_KEY'] = 'supersecret'\n",
    "\n",
    "    # connect to mlflow\n",
    "    mlflow.set_tracking_uri(\"http://mlflow:8087\") # \"http://0.0.0.0:8087\")\n",
    "\n",
    "    model_name = \"model_final_project\"\n",
    "\n",
    "    # logged_model = 'runs:/71428bebed2b4feb9635714ea3cdb562/model'\n",
    "    model_production_uri = \"models:/{model_name}/production\".format(model_name=model_name)\n",
    "\n",
    "    print(model_production_uri)\n",
    "\n",
    "    # Load model as a PyFuncModel.\n",
    "    loaded_model = mlflow.pyfunc.load_model(model_uri=model_production_uri)\n",
    "    y_pred = loaded_model.predict(X_test)\n",
    "\n",
    "    review_test_mse = mean_squared_error(y_test, y_pred)\n",
    "    review_test_mae = mean_absolute_error(y_test, y_pred)\n",
    "\n",
    "    print(f\"Best model has an mse of {review_test_mse} and mae of {review_test_mae} in test\")\n",
    "    return review_test_mse, review_test_mae\n",
    " "
   ]
  },
  {
   "cell_type": "code",
   "execution_count": 15,
   "id": "74e764c9-128a-4e8a-a553-6e1b9bdaf6cd",
   "metadata": {
    "tags": []
   },
   "outputs": [
    {
     "name": "stdout",
     "output_type": "stream",
     "text": [
      "models:/model_final_project/production\n",
      "Best model has an mse of 3965955273.854889 and mae of 51550.85504839996 in test\n"
     ]
    }
   ],
   "source": [
    "# Parameters\n",
    "DB_HOST = \"mysql\" # \"10.43.101.158\" # \"localhost\" \"10.43.101.158\"  # Using INTERNET!\n",
    "DB_USER = \"root\"\n",
    "DB_PASSWORD = \"airflow\" \n",
    "DB_NAME = \"project_4\"\n",
    "PORT= 3306\n",
    "\n",
    "# Connect to MySQL\n",
    "engine = sqlalchemy.create_engine(f'mysql+pymysql://{DB_USER}:{DB_PASSWORD}@{DB_HOST}:{PORT}/{DB_NAME}')\n",
    "\n",
    "inspector = sqlalchemy.inspect(engine)\n",
    "table_name = 'metrics_retraining_to_be_saved'\n",
    "if table_name in inspector.get_table_names():\n",
    "    # Search last element\n",
    "    review_test_mse, review_test_mae = predict_mse_mae_actual_dataset()\n",
    "    mean_values.append(review_test_mse)\n",
    "    mean_values.append(review_test_mae)\n",
    "    columns.extend([\"mse\", \"mae\"])\n",
    "    table_metrics = pd.DataFrame({key:mean_values[idx] for idx, key in enumerate(columns)}, index=[0])\n",
    "    # Save data, if exits append into the current table\n",
    "    table_metrics.to_sql(table_name, con=engine, if_exists='append', index=False)\n",
    "    train = False\n",
    "else:\n",
    "    mean_values.append(1000000000000000)\n",
    "    mean_values.append(1000000000000000)\n",
    "    columns.extend([\"mse\", \"mae\"])\n",
    "    table_metrics = pd.DataFrame({key:mean_values[idx] for idx, key in enumerate(columns)}, index=[0])\n",
    "    # Save data, if exits append into the current table\n",
    "    table_metrics.to_sql(\"metrics_retraining_to_be_saved\", con=engine, if_exists='append', index=False)\n",
    "    train = True"
   ]
  },
  {
   "cell_type": "markdown",
   "id": "e4deb915-1eb9-4a8d-a4b7-654bd8aa2a4f",
   "metadata": {},
   "source": [
    "**Current model Accuracy - with new data**"
   ]
  },
  {
   "cell_type": "code",
   "execution_count": 16,
   "id": "55b33e88-7ee9-4922-aed1-41f6a87f0d37",
   "metadata": {
    "tags": []
   },
   "outputs": [
    {
     "data": {
      "text/html": [
       "<div>\n",
       "<style scoped>\n",
       "    .dataframe tbody tr th:only-of-type {\n",
       "        vertical-align: middle;\n",
       "    }\n",
       "\n",
       "    .dataframe tbody tr th {\n",
       "        vertical-align: top;\n",
       "    }\n",
       "\n",
       "    .dataframe thead th {\n",
       "        text-align: right;\n",
       "    }\n",
       "</style>\n",
       "<table border=\"1\" class=\"dataframe\">\n",
       "  <thead>\n",
       "    <tr style=\"text-align: right;\">\n",
       "      <th></th>\n",
       "      <th>bed</th>\n",
       "      <th>bath</th>\n",
       "      <th>acre_lot</th>\n",
       "      <th>street</th>\n",
       "      <th>house_size</th>\n",
       "      <th>city</th>\n",
       "      <th>state</th>\n",
       "      <th>len_dataset</th>\n",
       "      <th>mse</th>\n",
       "      <th>mae</th>\n",
       "    </tr>\n",
       "  </thead>\n",
       "  <tbody>\n",
       "    <tr>\n",
       "      <th>0</th>\n",
       "      <td>2.961729</td>\n",
       "      <td>1.912729</td>\n",
       "      <td>14.474915</td>\n",
       "      <td>925707.504207</td>\n",
       "      <td>1527.862544</td>\n",
       "      <td>11689</td>\n",
       "      <td>51</td>\n",
       "      <td>318960</td>\n",
       "      <td>3975818620</td>\n",
       "      <td>51601</td>\n",
       "    </tr>\n",
       "    <tr>\n",
       "      <th>1</th>\n",
       "      <td>2.964526</td>\n",
       "      <td>1.910827</td>\n",
       "      <td>15.675379</td>\n",
       "      <td>925458.434290</td>\n",
       "      <td>1527.387267</td>\n",
       "      <td>11794</td>\n",
       "      <td>53</td>\n",
       "      <td>322204</td>\n",
       "      <td>3965955274</td>\n",
       "      <td>51551</td>\n",
       "    </tr>\n",
       "  </tbody>\n",
       "</table>\n",
       "</div>"
      ],
      "text/plain": [
       "        bed      bath   acre_lot         street   house_size   city  state  \\\n",
       "0  2.961729  1.912729  14.474915  925707.504207  1527.862544  11689     51   \n",
       "1  2.964526  1.910827  15.675379  925458.434290  1527.387267  11794     53   \n",
       "\n",
       "   len_dataset         mse    mae  \n",
       "0       318960  3975818620  51601  \n",
       "1       322204  3965955274  51551  "
      ]
     },
     "execution_count": 16,
     "metadata": {},
     "output_type": "execute_result"
    }
   ],
   "source": [
    "# Parameters\n",
    "DB_HOST = \"mysql\" # \"10.43.101.158\" # \"localhost\" \"10.43.101.158\"  # Using INTERNET!\n",
    "DB_USER = \"root\"\n",
    "DB_PASSWORD = \"airflow\" \n",
    "DB_NAME = \"project_4\"\n",
    "PORT= 3306\n",
    "\n",
    "# Connect to MySQL\n",
    "engine = sqlalchemy.create_engine(f'mysql+pymysql://{DB_USER}:{DB_PASSWORD}@{DB_HOST}:{PORT}/{DB_NAME}')\n",
    "\n",
    "# Table to be sorted\n",
    "table_name = 'metrics_retraining_to_be_saved'\n",
    "\n",
    "# Search last element\n",
    "with engine.begin() as conn:\n",
    "    query = sqlalchemy.text(f\"SELECT * FROM {DB_NAME}.{table_name};\") # ORDER BY {ordering_column} DESC LIMIT 1\")\n",
    "    last_element = pd.read_sql_query(query, conn)\n",
    "\n",
    "# Mostrar el último elemento\n",
    "save_last_element = last_element.tail(2).copy().reset_index(drop=True)\n",
    "save_last_element"
   ]
  },
  {
   "cell_type": "markdown",
   "id": "eb0cfca7-430e-42e2-a61b-4c10738a4de4",
   "metadata": {},
   "source": [
    "Verify"
   ]
  },
  {
   "cell_type": "code",
   "execution_count": 17,
   "id": "191ac287-9bf9-4cab-a0f8-9cef0f5614da",
   "metadata": {
    "tags": []
   },
   "outputs": [
    {
     "name": "stdout",
     "output_type": "stream",
     "text": [
      "False\n"
     ]
    }
   ],
   "source": [
    "print(train)"
   ]
  },
  {
   "cell_type": "code",
   "execution_count": 18,
   "id": "f042927a-9f60-49ee-834b-275a02a1f51b",
   "metadata": {
    "tags": []
   },
   "outputs": [],
   "source": [
    "## If it is the first time it will train\n",
    "if train == False:\n",
    "\n",
    "    # Verify restriction 1 and 2\n",
    "\n",
    "    if (save_last_element[\"mse\"][0] * 1.15) < (save_last_element[\"mse\"][1]) or (save_last_element[\"mae\"][0] * 1.15) < (save_last_element[\"mae\"][1]):\n",
    "        train = True\n",
    "        print(\"res 1 or res 2\")\n",
    "\n",
    "    # Verify restriction 3\n",
    "\n",
    "    if (save_last_element[\"len_dataset\"][0] * 1.5) < (save_last_element[\"len_dataset\"][1]):\n",
    "        train = True\n",
    "        print(\"res 3\")\n",
    "\n",
    "    # Verify restriction 4\n",
    "\n",
    "    r_bed = ((save_last_element[\"bed\"][0] * 0.9) < (save_last_element[\"bed\"][1]) and (save_last_element[\"bed\"][0] * 1.1) > (save_last_element[\"bed\"][1]))\n",
    "    r_bath = ((save_last_element[\"bath\"][0] * 0.9) < (save_last_element[\"bath\"][1]) and (save_last_element[\"bath\"][0] * 1.1) > (save_last_element[\"bath\"][1]))\n",
    "    r_acre_lot = ((save_last_element[\"acre_lot\"][0] * 0.9) < (save_last_element[\"acre_lot\"][1]) and (save_last_element[\"acre_lot\"][0] * 1.1) > (save_last_element[\"acre_lot\"][1]))\n",
    "    r_street = ((save_last_element[\"street\"][0] * 0.9) < (save_last_element[\"street\"][1]) and (save_last_element[\"street\"][0] * 1.1) > (save_last_element[\"street\"][1]))\n",
    "    r_house_size = ((save_last_element[\"house_size\"][0] * 0.9) < (save_last_element[\"house_size\"][1]) and (save_last_element[\"house_size\"][0] * 1.1) > (save_last_element[\"house_size\"][1]))\n",
    "\n",
    "    if  r_bed == False or r_bath == False or r_acre_lot == False or r_street == False or r_house_size == False:\n",
    "        train = True\n",
    "        print(\"res 4\")\n",
    "\n",
    "    # Verify restriction 5\n",
    "\n",
    "    r_city = (save_last_element[\"city\"][0] * 1.05) > (save_last_element[\"city\"][1])\n",
    "    r_state = (save_last_element[\"state\"][0] * 1.05) > (save_last_element[\"state\"][1])\n",
    "\n",
    "    if r_city == False and r_state == False:\n",
    "        train = True\n",
    "        print(\"res 5\")\n"
   ]
  },
  {
   "cell_type": "code",
   "execution_count": 19,
   "id": "6a968360-1754-40b3-badb-a0926e6fca38",
   "metadata": {
    "tags": []
   },
   "outputs": [
    {
     "data": {
      "text/plain": [
       "False"
      ]
     },
     "execution_count": 19,
     "metadata": {},
     "output_type": "execute_result"
    }
   ],
   "source": [
    "train"
   ]
  },
  {
   "cell_type": "markdown",
   "id": "ffc89a0a-b2f2-4b4c-ae53-b0fc95d8166f",
   "metadata": {
    "tags": []
   },
   "source": [
    "# **Modeling with MLFlow**"
   ]
  },
  {
   "cell_type": "code",
   "execution_count": 20,
   "id": "07a5bded-416a-4b88-a6c0-7ed3b8df179a",
   "metadata": {
    "tags": []
   },
   "outputs": [],
   "source": [
    "if train==True: # Train if True\n",
    "    print(\"Let's train\")"
   ]
  },
  {
   "cell_type": "code",
   "execution_count": 21,
   "id": "5cf81236-46a0-4f15-97a6-e1d4b376a4a8",
   "metadata": {
    "tags": []
   },
   "outputs": [],
   "source": [
    "y_train = df_train_clean['price']\n",
    "X_train = df_train_clean.drop(columns = 'price')\n",
    "\n",
    "y_val = df_validation_clean['price']\n",
    "X_val = df_validation_clean.drop(columns = 'price')\n",
    "\n",
    "y_test = df_test_clean['price']\n",
    "X_test = df_test_clean.drop(columns = 'price')"
   ]
  },
  {
   "cell_type": "markdown",
   "id": "9bb22404-519e-4100-9563-e41c324dace4",
   "metadata": {},
   "source": [
    "## _Dummy_"
   ]
  },
  {
   "cell_type": "markdown",
   "id": "8a6785d3-f195-4cdf-a6da-123e93e52370",
   "metadata": {},
   "source": [
    "Dummy variables for categorical features"
   ]
  },
  {
   "cell_type": "code",
   "execution_count": 22,
   "id": "bd0c9374-42e7-463b-807a-2bfad6acca75",
   "metadata": {
    "tags": []
   },
   "outputs": [
    {
     "data": {
      "text/html": [
       "<style>#sk-container-id-1 {color: black;background-color: white;}#sk-container-id-1 pre{padding: 0;}#sk-container-id-1 div.sk-toggleable {background-color: white;}#sk-container-id-1 label.sk-toggleable__label {cursor: pointer;display: block;width: 100%;margin-bottom: 0;padding: 0.3em;box-sizing: border-box;text-align: center;}#sk-container-id-1 label.sk-toggleable__label-arrow:before {content: \"▸\";float: left;margin-right: 0.25em;color: #696969;}#sk-container-id-1 label.sk-toggleable__label-arrow:hover:before {color: black;}#sk-container-id-1 div.sk-estimator:hover label.sk-toggleable__label-arrow:before {color: black;}#sk-container-id-1 div.sk-toggleable__content {max-height: 0;max-width: 0;overflow: hidden;text-align: left;background-color: #f0f8ff;}#sk-container-id-1 div.sk-toggleable__content pre {margin: 0.2em;color: black;border-radius: 0.25em;background-color: #f0f8ff;}#sk-container-id-1 input.sk-toggleable__control:checked~div.sk-toggleable__content {max-height: 200px;max-width: 100%;overflow: auto;}#sk-container-id-1 input.sk-toggleable__control:checked~label.sk-toggleable__label-arrow:before {content: \"▾\";}#sk-container-id-1 div.sk-estimator input.sk-toggleable__control:checked~label.sk-toggleable__label {background-color: #d4ebff;}#sk-container-id-1 div.sk-label input.sk-toggleable__control:checked~label.sk-toggleable__label {background-color: #d4ebff;}#sk-container-id-1 input.sk-hidden--visually {border: 0;clip: rect(1px 1px 1px 1px);clip: rect(1px, 1px, 1px, 1px);height: 1px;margin: -1px;overflow: hidden;padding: 0;position: absolute;width: 1px;}#sk-container-id-1 div.sk-estimator {font-family: monospace;background-color: #f0f8ff;border: 1px dotted black;border-radius: 0.25em;box-sizing: border-box;margin-bottom: 0.5em;}#sk-container-id-1 div.sk-estimator:hover {background-color: #d4ebff;}#sk-container-id-1 div.sk-parallel-item::after {content: \"\";width: 100%;border-bottom: 1px solid gray;flex-grow: 1;}#sk-container-id-1 div.sk-label:hover label.sk-toggleable__label {background-color: #d4ebff;}#sk-container-id-1 div.sk-serial::before {content: \"\";position: absolute;border-left: 1px solid gray;box-sizing: border-box;top: 0;bottom: 0;left: 50%;z-index: 0;}#sk-container-id-1 div.sk-serial {display: flex;flex-direction: column;align-items: center;background-color: white;padding-right: 0.2em;padding-left: 0.2em;position: relative;}#sk-container-id-1 div.sk-item {position: relative;z-index: 1;}#sk-container-id-1 div.sk-parallel {display: flex;align-items: stretch;justify-content: center;background-color: white;position: relative;}#sk-container-id-1 div.sk-item::before, #sk-container-id-1 div.sk-parallel-item::before {content: \"\";position: absolute;border-left: 1px solid gray;box-sizing: border-box;top: 0;bottom: 0;left: 50%;z-index: -1;}#sk-container-id-1 div.sk-parallel-item {display: flex;flex-direction: column;z-index: 1;position: relative;background-color: white;}#sk-container-id-1 div.sk-parallel-item:first-child::after {align-self: flex-end;width: 50%;}#sk-container-id-1 div.sk-parallel-item:last-child::after {align-self: flex-start;width: 50%;}#sk-container-id-1 div.sk-parallel-item:only-child::after {width: 0;}#sk-container-id-1 div.sk-dashed-wrapped {border: 1px dashed gray;margin: 0 0.4em 0.5em 0.4em;box-sizing: border-box;padding-bottom: 0.4em;background-color: white;}#sk-container-id-1 div.sk-label label {font-family: monospace;font-weight: bold;display: inline-block;line-height: 1.2em;}#sk-container-id-1 div.sk-label-container {text-align: center;}#sk-container-id-1 div.sk-container {/* jupyter's `normalize.less` sets `[hidden] { display: none; }` but bootstrap.min.css set `[hidden] { display: none !important; }` so we also need the `!important` here to be able to override the default hidden behavior on the sphinx rendered scikit-learn.org. See: https://github.com/scikit-learn/scikit-learn/issues/21755 */display: inline-block !important;position: relative;}#sk-container-id-1 div.sk-text-repr-fallback {display: none;}</style><div id=\"sk-container-id-1\" class=\"sk-top-container\"><div class=\"sk-text-repr-fallback\"><pre>ColumnTransformer(remainder=&#x27;passthrough&#x27;,\n",
       "                  transformers=[(&#x27;onehotencoder&#x27;,\n",
       "                                 OneHotEncoder(handle_unknown=&#x27;ignore&#x27;),\n",
       "                                 [&#x27;city&#x27;, &#x27;state&#x27;])])</pre><b>In a Jupyter environment, please rerun this cell to show the HTML representation or trust the notebook. <br />On GitHub, the HTML representation is unable to render, please try loading this page with nbviewer.org.</b></div><div class=\"sk-container\" hidden><div class=\"sk-item sk-dashed-wrapped\"><div class=\"sk-label-container\"><div class=\"sk-label sk-toggleable\"><input class=\"sk-toggleable__control sk-hidden--visually\" id=\"sk-estimator-id-1\" type=\"checkbox\" ><label for=\"sk-estimator-id-1\" class=\"sk-toggleable__label sk-toggleable__label-arrow\">ColumnTransformer</label><div class=\"sk-toggleable__content\"><pre>ColumnTransformer(remainder=&#x27;passthrough&#x27;,\n",
       "                  transformers=[(&#x27;onehotencoder&#x27;,\n",
       "                                 OneHotEncoder(handle_unknown=&#x27;ignore&#x27;),\n",
       "                                 [&#x27;city&#x27;, &#x27;state&#x27;])])</pre></div></div></div><div class=\"sk-parallel\"><div class=\"sk-parallel-item\"><div class=\"sk-item\"><div class=\"sk-label-container\"><div class=\"sk-label sk-toggleable\"><input class=\"sk-toggleable__control sk-hidden--visually\" id=\"sk-estimator-id-2\" type=\"checkbox\" ><label for=\"sk-estimator-id-2\" class=\"sk-toggleable__label sk-toggleable__label-arrow\">onehotencoder</label><div class=\"sk-toggleable__content\"><pre>[&#x27;city&#x27;, &#x27;state&#x27;]</pre></div></div></div><div class=\"sk-serial\"><div class=\"sk-item\"><div class=\"sk-estimator sk-toggleable\"><input class=\"sk-toggleable__control sk-hidden--visually\" id=\"sk-estimator-id-3\" type=\"checkbox\" ><label for=\"sk-estimator-id-3\" class=\"sk-toggleable__label sk-toggleable__label-arrow\">OneHotEncoder</label><div class=\"sk-toggleable__content\"><pre>OneHotEncoder(handle_unknown=&#x27;ignore&#x27;)</pre></div></div></div></div></div></div><div class=\"sk-parallel-item\"><div class=\"sk-item\"><div class=\"sk-label-container\"><div class=\"sk-label sk-toggleable\"><input class=\"sk-toggleable__control sk-hidden--visually\" id=\"sk-estimator-id-4\" type=\"checkbox\" ><label for=\"sk-estimator-id-4\" class=\"sk-toggleable__label sk-toggleable__label-arrow\">remainder</label><div class=\"sk-toggleable__content\"><pre></pre></div></div></div><div class=\"sk-serial\"><div class=\"sk-item\"><div class=\"sk-estimator sk-toggleable\"><input class=\"sk-toggleable__control sk-hidden--visually\" id=\"sk-estimator-id-5\" type=\"checkbox\" ><label for=\"sk-estimator-id-5\" class=\"sk-toggleable__label sk-toggleable__label-arrow\">passthrough</label><div class=\"sk-toggleable__content\"><pre>passthrough</pre></div></div></div></div></div></div></div></div></div></div>"
      ],
      "text/plain": [
       "ColumnTransformer(remainder='passthrough',\n",
       "                  transformers=[('onehotencoder',\n",
       "                                 OneHotEncoder(handle_unknown='ignore'),\n",
       "                                 ['city', 'state'])])"
      ]
     },
     "execution_count": 22,
     "metadata": {},
     "output_type": "execute_result"
    }
   ],
   "source": [
    "column_trans = make_column_transformer((OneHotEncoder(handle_unknown='ignore'),\n",
    "                                        [\"city\", \"state\"]),\n",
    "                                      remainder='passthrough') # pass all the numeric values through the pipeline without any changes.\n",
    "\n",
    "column_trans"
   ]
  },
  {
   "cell_type": "markdown",
   "id": "618c12c7-e825-4042-80a1-6f1d0f84f007",
   "metadata": {},
   "source": [
    "## _Standarization_"
   ]
  },
  {
   "cell_type": "code",
   "execution_count": 23,
   "id": "6e9a4a18-ef94-429e-afcd-2e66963e256f",
   "metadata": {
    "tags": []
   },
   "outputs": [
    {
     "data": {
      "text/html": [
       "<style>#sk-container-id-2 {color: black;background-color: white;}#sk-container-id-2 pre{padding: 0;}#sk-container-id-2 div.sk-toggleable {background-color: white;}#sk-container-id-2 label.sk-toggleable__label {cursor: pointer;display: block;width: 100%;margin-bottom: 0;padding: 0.3em;box-sizing: border-box;text-align: center;}#sk-container-id-2 label.sk-toggleable__label-arrow:before {content: \"▸\";float: left;margin-right: 0.25em;color: #696969;}#sk-container-id-2 label.sk-toggleable__label-arrow:hover:before {color: black;}#sk-container-id-2 div.sk-estimator:hover label.sk-toggleable__label-arrow:before {color: black;}#sk-container-id-2 div.sk-toggleable__content {max-height: 0;max-width: 0;overflow: hidden;text-align: left;background-color: #f0f8ff;}#sk-container-id-2 div.sk-toggleable__content pre {margin: 0.2em;color: black;border-radius: 0.25em;background-color: #f0f8ff;}#sk-container-id-2 input.sk-toggleable__control:checked~div.sk-toggleable__content {max-height: 200px;max-width: 100%;overflow: auto;}#sk-container-id-2 input.sk-toggleable__control:checked~label.sk-toggleable__label-arrow:before {content: \"▾\";}#sk-container-id-2 div.sk-estimator input.sk-toggleable__control:checked~label.sk-toggleable__label {background-color: #d4ebff;}#sk-container-id-2 div.sk-label input.sk-toggleable__control:checked~label.sk-toggleable__label {background-color: #d4ebff;}#sk-container-id-2 input.sk-hidden--visually {border: 0;clip: rect(1px 1px 1px 1px);clip: rect(1px, 1px, 1px, 1px);height: 1px;margin: -1px;overflow: hidden;padding: 0;position: absolute;width: 1px;}#sk-container-id-2 div.sk-estimator {font-family: monospace;background-color: #f0f8ff;border: 1px dotted black;border-radius: 0.25em;box-sizing: border-box;margin-bottom: 0.5em;}#sk-container-id-2 div.sk-estimator:hover {background-color: #d4ebff;}#sk-container-id-2 div.sk-parallel-item::after {content: \"\";width: 100%;border-bottom: 1px solid gray;flex-grow: 1;}#sk-container-id-2 div.sk-label:hover label.sk-toggleable__label {background-color: #d4ebff;}#sk-container-id-2 div.sk-serial::before {content: \"\";position: absolute;border-left: 1px solid gray;box-sizing: border-box;top: 0;bottom: 0;left: 50%;z-index: 0;}#sk-container-id-2 div.sk-serial {display: flex;flex-direction: column;align-items: center;background-color: white;padding-right: 0.2em;padding-left: 0.2em;position: relative;}#sk-container-id-2 div.sk-item {position: relative;z-index: 1;}#sk-container-id-2 div.sk-parallel {display: flex;align-items: stretch;justify-content: center;background-color: white;position: relative;}#sk-container-id-2 div.sk-item::before, #sk-container-id-2 div.sk-parallel-item::before {content: \"\";position: absolute;border-left: 1px solid gray;box-sizing: border-box;top: 0;bottom: 0;left: 50%;z-index: -1;}#sk-container-id-2 div.sk-parallel-item {display: flex;flex-direction: column;z-index: 1;position: relative;background-color: white;}#sk-container-id-2 div.sk-parallel-item:first-child::after {align-self: flex-end;width: 50%;}#sk-container-id-2 div.sk-parallel-item:last-child::after {align-self: flex-start;width: 50%;}#sk-container-id-2 div.sk-parallel-item:only-child::after {width: 0;}#sk-container-id-2 div.sk-dashed-wrapped {border: 1px dashed gray;margin: 0 0.4em 0.5em 0.4em;box-sizing: border-box;padding-bottom: 0.4em;background-color: white;}#sk-container-id-2 div.sk-label label {font-family: monospace;font-weight: bold;display: inline-block;line-height: 1.2em;}#sk-container-id-2 div.sk-label-container {text-align: center;}#sk-container-id-2 div.sk-container {/* jupyter's `normalize.less` sets `[hidden] { display: none; }` but bootstrap.min.css set `[hidden] { display: none !important; }` so we also need the `!important` here to be able to override the default hidden behavior on the sphinx rendered scikit-learn.org. See: https://github.com/scikit-learn/scikit-learn/issues/21755 */display: inline-block !important;position: relative;}#sk-container-id-2 div.sk-text-repr-fallback {display: none;}</style><div id=\"sk-container-id-2\" class=\"sk-top-container\"><div class=\"sk-text-repr-fallback\"><pre>Pipeline(steps=[(&#x27;column_trans&#x27;,\n",
       "                 ColumnTransformer(remainder=&#x27;passthrough&#x27;,\n",
       "                                   transformers=[(&#x27;onehotencoder&#x27;,\n",
       "                                                  OneHotEncoder(handle_unknown=&#x27;ignore&#x27;),\n",
       "                                                  [&#x27;city&#x27;, &#x27;state&#x27;])])),\n",
       "                (&#x27;scaler&#x27;, StandardScaler(with_mean=False)),\n",
       "                (&#x27;RandomForestRegressor&#x27;, RandomForestRegressor())])</pre><b>In a Jupyter environment, please rerun this cell to show the HTML representation or trust the notebook. <br />On GitHub, the HTML representation is unable to render, please try loading this page with nbviewer.org.</b></div><div class=\"sk-container\" hidden><div class=\"sk-item sk-dashed-wrapped\"><div class=\"sk-label-container\"><div class=\"sk-label sk-toggleable\"><input class=\"sk-toggleable__control sk-hidden--visually\" id=\"sk-estimator-id-6\" type=\"checkbox\" ><label for=\"sk-estimator-id-6\" class=\"sk-toggleable__label sk-toggleable__label-arrow\">Pipeline</label><div class=\"sk-toggleable__content\"><pre>Pipeline(steps=[(&#x27;column_trans&#x27;,\n",
       "                 ColumnTransformer(remainder=&#x27;passthrough&#x27;,\n",
       "                                   transformers=[(&#x27;onehotencoder&#x27;,\n",
       "                                                  OneHotEncoder(handle_unknown=&#x27;ignore&#x27;),\n",
       "                                                  [&#x27;city&#x27;, &#x27;state&#x27;])])),\n",
       "                (&#x27;scaler&#x27;, StandardScaler(with_mean=False)),\n",
       "                (&#x27;RandomForestRegressor&#x27;, RandomForestRegressor())])</pre></div></div></div><div class=\"sk-serial\"><div class=\"sk-item sk-dashed-wrapped\"><div class=\"sk-label-container\"><div class=\"sk-label sk-toggleable\"><input class=\"sk-toggleable__control sk-hidden--visually\" id=\"sk-estimator-id-7\" type=\"checkbox\" ><label for=\"sk-estimator-id-7\" class=\"sk-toggleable__label sk-toggleable__label-arrow\">column_trans: ColumnTransformer</label><div class=\"sk-toggleable__content\"><pre>ColumnTransformer(remainder=&#x27;passthrough&#x27;,\n",
       "                  transformers=[(&#x27;onehotencoder&#x27;,\n",
       "                                 OneHotEncoder(handle_unknown=&#x27;ignore&#x27;),\n",
       "                                 [&#x27;city&#x27;, &#x27;state&#x27;])])</pre></div></div></div><div class=\"sk-parallel\"><div class=\"sk-parallel-item\"><div class=\"sk-item\"><div class=\"sk-label-container\"><div class=\"sk-label sk-toggleable\"><input class=\"sk-toggleable__control sk-hidden--visually\" id=\"sk-estimator-id-8\" type=\"checkbox\" ><label for=\"sk-estimator-id-8\" class=\"sk-toggleable__label sk-toggleable__label-arrow\">onehotencoder</label><div class=\"sk-toggleable__content\"><pre>[&#x27;city&#x27;, &#x27;state&#x27;]</pre></div></div></div><div class=\"sk-serial\"><div class=\"sk-item\"><div class=\"sk-estimator sk-toggleable\"><input class=\"sk-toggleable__control sk-hidden--visually\" id=\"sk-estimator-id-9\" type=\"checkbox\" ><label for=\"sk-estimator-id-9\" class=\"sk-toggleable__label sk-toggleable__label-arrow\">OneHotEncoder</label><div class=\"sk-toggleable__content\"><pre>OneHotEncoder(handle_unknown=&#x27;ignore&#x27;)</pre></div></div></div></div></div></div><div class=\"sk-parallel-item\"><div class=\"sk-item\"><div class=\"sk-label-container\"><div class=\"sk-label sk-toggleable\"><input class=\"sk-toggleable__control sk-hidden--visually\" id=\"sk-estimator-id-10\" type=\"checkbox\" ><label for=\"sk-estimator-id-10\" class=\"sk-toggleable__label sk-toggleable__label-arrow\">remainder</label><div class=\"sk-toggleable__content\"><pre></pre></div></div></div><div class=\"sk-serial\"><div class=\"sk-item\"><div class=\"sk-estimator sk-toggleable\"><input class=\"sk-toggleable__control sk-hidden--visually\" id=\"sk-estimator-id-11\" type=\"checkbox\" ><label for=\"sk-estimator-id-11\" class=\"sk-toggleable__label sk-toggleable__label-arrow\">passthrough</label><div class=\"sk-toggleable__content\"><pre>passthrough</pre></div></div></div></div></div></div></div></div><div class=\"sk-item\"><div class=\"sk-estimator sk-toggleable\"><input class=\"sk-toggleable__control sk-hidden--visually\" id=\"sk-estimator-id-12\" type=\"checkbox\" ><label for=\"sk-estimator-id-12\" class=\"sk-toggleable__label sk-toggleable__label-arrow\">StandardScaler</label><div class=\"sk-toggleable__content\"><pre>StandardScaler(with_mean=False)</pre></div></div></div><div class=\"sk-item\"><div class=\"sk-estimator sk-toggleable\"><input class=\"sk-toggleable__control sk-hidden--visually\" id=\"sk-estimator-id-13\" type=\"checkbox\" ><label for=\"sk-estimator-id-13\" class=\"sk-toggleable__label sk-toggleable__label-arrow\">RandomForestRegressor</label><div class=\"sk-toggleable__content\"><pre>RandomForestRegressor()</pre></div></div></div></div></div></div></div>"
      ],
      "text/plain": [
       "Pipeline(steps=[('column_trans',\n",
       "                 ColumnTransformer(remainder='passthrough',\n",
       "                                   transformers=[('onehotencoder',\n",
       "                                                  OneHotEncoder(handle_unknown='ignore'),\n",
       "                                                  ['city', 'state'])])),\n",
       "                ('scaler', StandardScaler(with_mean=False)),\n",
       "                ('RandomForestRegressor', RandomForestRegressor())])"
      ]
     },
     "execution_count": 23,
     "metadata": {},
     "output_type": "execute_result"
    }
   ],
   "source": [
    "pipe = Pipeline(steps=[\n",
    "    (\"column_trans\", column_trans),\n",
    "    (\"scaler\", StandardScaler(with_mean=False)),\n",
    "    (\"RandomForestRegressor\", RandomForestRegressor())\n",
    "])\n",
    "\n",
    "pipe"
   ]
  },
  {
   "cell_type": "markdown",
   "id": "57ce1aa1-646c-4067-a09b-aae7dac8b459",
   "metadata": {},
   "source": [
    "Hyperparameters"
   ]
  },
  {
   "cell_type": "code",
   "execution_count": 24,
   "id": "9b251bed-066c-4c17-8d66-79d1db0aa9d9",
   "metadata": {
    "tags": []
   },
   "outputs": [
    {
     "data": {
      "text/html": [
       "<style>#sk-container-id-3 {color: black;background-color: white;}#sk-container-id-3 pre{padding: 0;}#sk-container-id-3 div.sk-toggleable {background-color: white;}#sk-container-id-3 label.sk-toggleable__label {cursor: pointer;display: block;width: 100%;margin-bottom: 0;padding: 0.3em;box-sizing: border-box;text-align: center;}#sk-container-id-3 label.sk-toggleable__label-arrow:before {content: \"▸\";float: left;margin-right: 0.25em;color: #696969;}#sk-container-id-3 label.sk-toggleable__label-arrow:hover:before {color: black;}#sk-container-id-3 div.sk-estimator:hover label.sk-toggleable__label-arrow:before {color: black;}#sk-container-id-3 div.sk-toggleable__content {max-height: 0;max-width: 0;overflow: hidden;text-align: left;background-color: #f0f8ff;}#sk-container-id-3 div.sk-toggleable__content pre {margin: 0.2em;color: black;border-radius: 0.25em;background-color: #f0f8ff;}#sk-container-id-3 input.sk-toggleable__control:checked~div.sk-toggleable__content {max-height: 200px;max-width: 100%;overflow: auto;}#sk-container-id-3 input.sk-toggleable__control:checked~label.sk-toggleable__label-arrow:before {content: \"▾\";}#sk-container-id-3 div.sk-estimator input.sk-toggleable__control:checked~label.sk-toggleable__label {background-color: #d4ebff;}#sk-container-id-3 div.sk-label input.sk-toggleable__control:checked~label.sk-toggleable__label {background-color: #d4ebff;}#sk-container-id-3 input.sk-hidden--visually {border: 0;clip: rect(1px 1px 1px 1px);clip: rect(1px, 1px, 1px, 1px);height: 1px;margin: -1px;overflow: hidden;padding: 0;position: absolute;width: 1px;}#sk-container-id-3 div.sk-estimator {font-family: monospace;background-color: #f0f8ff;border: 1px dotted black;border-radius: 0.25em;box-sizing: border-box;margin-bottom: 0.5em;}#sk-container-id-3 div.sk-estimator:hover {background-color: #d4ebff;}#sk-container-id-3 div.sk-parallel-item::after {content: \"\";width: 100%;border-bottom: 1px solid gray;flex-grow: 1;}#sk-container-id-3 div.sk-label:hover label.sk-toggleable__label {background-color: #d4ebff;}#sk-container-id-3 div.sk-serial::before {content: \"\";position: absolute;border-left: 1px solid gray;box-sizing: border-box;top: 0;bottom: 0;left: 50%;z-index: 0;}#sk-container-id-3 div.sk-serial {display: flex;flex-direction: column;align-items: center;background-color: white;padding-right: 0.2em;padding-left: 0.2em;position: relative;}#sk-container-id-3 div.sk-item {position: relative;z-index: 1;}#sk-container-id-3 div.sk-parallel {display: flex;align-items: stretch;justify-content: center;background-color: white;position: relative;}#sk-container-id-3 div.sk-item::before, #sk-container-id-3 div.sk-parallel-item::before {content: \"\";position: absolute;border-left: 1px solid gray;box-sizing: border-box;top: 0;bottom: 0;left: 50%;z-index: -1;}#sk-container-id-3 div.sk-parallel-item {display: flex;flex-direction: column;z-index: 1;position: relative;background-color: white;}#sk-container-id-3 div.sk-parallel-item:first-child::after {align-self: flex-end;width: 50%;}#sk-container-id-3 div.sk-parallel-item:last-child::after {align-self: flex-start;width: 50%;}#sk-container-id-3 div.sk-parallel-item:only-child::after {width: 0;}#sk-container-id-3 div.sk-dashed-wrapped {border: 1px dashed gray;margin: 0 0.4em 0.5em 0.4em;box-sizing: border-box;padding-bottom: 0.4em;background-color: white;}#sk-container-id-3 div.sk-label label {font-family: monospace;font-weight: bold;display: inline-block;line-height: 1.2em;}#sk-container-id-3 div.sk-label-container {text-align: center;}#sk-container-id-3 div.sk-container {/* jupyter's `normalize.less` sets `[hidden] { display: none; }` but bootstrap.min.css set `[hidden] { display: none !important; }` so we also need the `!important` here to be able to override the default hidden behavior on the sphinx rendered scikit-learn.org. See: https://github.com/scikit-learn/scikit-learn/issues/21755 */display: inline-block !important;position: relative;}#sk-container-id-3 div.sk-text-repr-fallback {display: none;}</style><div id=\"sk-container-id-3\" class=\"sk-top-container\"><div class=\"sk-text-repr-fallback\"><pre>GridSearchCV(cv=10,\n",
       "             estimator=Pipeline(steps=[(&#x27;column_trans&#x27;,\n",
       "                                        ColumnTransformer(remainder=&#x27;passthrough&#x27;,\n",
       "                                                          transformers=[(&#x27;onehotencoder&#x27;,\n",
       "                                                                         OneHotEncoder(handle_unknown=&#x27;ignore&#x27;),\n",
       "                                                                         [&#x27;city&#x27;,\n",
       "                                                                          &#x27;state&#x27;])])),\n",
       "                                       (&#x27;scaler&#x27;,\n",
       "                                        StandardScaler(with_mean=False)),\n",
       "                                       (&#x27;RandomForestRegressor&#x27;,\n",
       "                                        RandomForestRegressor())]),\n",
       "             n_jobs=2,\n",
       "             param_grid={&#x27;RandomForestRegressor__max_depth&#x27;: [1, 2, 3],\n",
       "                         &#x27;RandomForestRegressor__n_estimators&#x27;: [10, 11]})</pre><b>In a Jupyter environment, please rerun this cell to show the HTML representation or trust the notebook. <br />On GitHub, the HTML representation is unable to render, please try loading this page with nbviewer.org.</b></div><div class=\"sk-container\" hidden><div class=\"sk-item sk-dashed-wrapped\"><div class=\"sk-label-container\"><div class=\"sk-label sk-toggleable\"><input class=\"sk-toggleable__control sk-hidden--visually\" id=\"sk-estimator-id-14\" type=\"checkbox\" ><label for=\"sk-estimator-id-14\" class=\"sk-toggleable__label sk-toggleable__label-arrow\">GridSearchCV</label><div class=\"sk-toggleable__content\"><pre>GridSearchCV(cv=10,\n",
       "             estimator=Pipeline(steps=[(&#x27;column_trans&#x27;,\n",
       "                                        ColumnTransformer(remainder=&#x27;passthrough&#x27;,\n",
       "                                                          transformers=[(&#x27;onehotencoder&#x27;,\n",
       "                                                                         OneHotEncoder(handle_unknown=&#x27;ignore&#x27;),\n",
       "                                                                         [&#x27;city&#x27;,\n",
       "                                                                          &#x27;state&#x27;])])),\n",
       "                                       (&#x27;scaler&#x27;,\n",
       "                                        StandardScaler(with_mean=False)),\n",
       "                                       (&#x27;RandomForestRegressor&#x27;,\n",
       "                                        RandomForestRegressor())]),\n",
       "             n_jobs=2,\n",
       "             param_grid={&#x27;RandomForestRegressor__max_depth&#x27;: [1, 2, 3],\n",
       "                         &#x27;RandomForestRegressor__n_estimators&#x27;: [10, 11]})</pre></div></div></div><div class=\"sk-parallel\"><div class=\"sk-parallel-item\"><div class=\"sk-item\"><div class=\"sk-label-container\"><div class=\"sk-label sk-toggleable\"><input class=\"sk-toggleable__control sk-hidden--visually\" id=\"sk-estimator-id-15\" type=\"checkbox\" ><label for=\"sk-estimator-id-15\" class=\"sk-toggleable__label sk-toggleable__label-arrow\">estimator: Pipeline</label><div class=\"sk-toggleable__content\"><pre>Pipeline(steps=[(&#x27;column_trans&#x27;,\n",
       "                 ColumnTransformer(remainder=&#x27;passthrough&#x27;,\n",
       "                                   transformers=[(&#x27;onehotencoder&#x27;,\n",
       "                                                  OneHotEncoder(handle_unknown=&#x27;ignore&#x27;),\n",
       "                                                  [&#x27;city&#x27;, &#x27;state&#x27;])])),\n",
       "                (&#x27;scaler&#x27;, StandardScaler(with_mean=False)),\n",
       "                (&#x27;RandomForestRegressor&#x27;, RandomForestRegressor())])</pre></div></div></div><div class=\"sk-serial\"><div class=\"sk-item\"><div class=\"sk-serial\"><div class=\"sk-item sk-dashed-wrapped\"><div class=\"sk-label-container\"><div class=\"sk-label sk-toggleable\"><input class=\"sk-toggleable__control sk-hidden--visually\" id=\"sk-estimator-id-16\" type=\"checkbox\" ><label for=\"sk-estimator-id-16\" class=\"sk-toggleable__label sk-toggleable__label-arrow\">column_trans: ColumnTransformer</label><div class=\"sk-toggleable__content\"><pre>ColumnTransformer(remainder=&#x27;passthrough&#x27;,\n",
       "                  transformers=[(&#x27;onehotencoder&#x27;,\n",
       "                                 OneHotEncoder(handle_unknown=&#x27;ignore&#x27;),\n",
       "                                 [&#x27;city&#x27;, &#x27;state&#x27;])])</pre></div></div></div><div class=\"sk-parallel\"><div class=\"sk-parallel-item\"><div class=\"sk-item\"><div class=\"sk-label-container\"><div class=\"sk-label sk-toggleable\"><input class=\"sk-toggleable__control sk-hidden--visually\" id=\"sk-estimator-id-17\" type=\"checkbox\" ><label for=\"sk-estimator-id-17\" class=\"sk-toggleable__label sk-toggleable__label-arrow\">onehotencoder</label><div class=\"sk-toggleable__content\"><pre>[&#x27;city&#x27;, &#x27;state&#x27;]</pre></div></div></div><div class=\"sk-serial\"><div class=\"sk-item\"><div class=\"sk-estimator sk-toggleable\"><input class=\"sk-toggleable__control sk-hidden--visually\" id=\"sk-estimator-id-18\" type=\"checkbox\" ><label for=\"sk-estimator-id-18\" class=\"sk-toggleable__label sk-toggleable__label-arrow\">OneHotEncoder</label><div class=\"sk-toggleable__content\"><pre>OneHotEncoder(handle_unknown=&#x27;ignore&#x27;)</pre></div></div></div></div></div></div><div class=\"sk-parallel-item\"><div class=\"sk-item\"><div class=\"sk-label-container\"><div class=\"sk-label sk-toggleable\"><input class=\"sk-toggleable__control sk-hidden--visually\" id=\"sk-estimator-id-19\" type=\"checkbox\" ><label for=\"sk-estimator-id-19\" class=\"sk-toggleable__label sk-toggleable__label-arrow\">remainder</label><div class=\"sk-toggleable__content\"><pre></pre></div></div></div><div class=\"sk-serial\"><div class=\"sk-item\"><div class=\"sk-estimator sk-toggleable\"><input class=\"sk-toggleable__control sk-hidden--visually\" id=\"sk-estimator-id-20\" type=\"checkbox\" ><label for=\"sk-estimator-id-20\" class=\"sk-toggleable__label sk-toggleable__label-arrow\">passthrough</label><div class=\"sk-toggleable__content\"><pre>passthrough</pre></div></div></div></div></div></div></div></div><div class=\"sk-item\"><div class=\"sk-estimator sk-toggleable\"><input class=\"sk-toggleable__control sk-hidden--visually\" id=\"sk-estimator-id-21\" type=\"checkbox\" ><label for=\"sk-estimator-id-21\" class=\"sk-toggleable__label sk-toggleable__label-arrow\">StandardScaler</label><div class=\"sk-toggleable__content\"><pre>StandardScaler(with_mean=False)</pre></div></div></div><div class=\"sk-item\"><div class=\"sk-estimator sk-toggleable\"><input class=\"sk-toggleable__control sk-hidden--visually\" id=\"sk-estimator-id-22\" type=\"checkbox\" ><label for=\"sk-estimator-id-22\" class=\"sk-toggleable__label sk-toggleable__label-arrow\">RandomForestRegressor</label><div class=\"sk-toggleable__content\"><pre>RandomForestRegressor()</pre></div></div></div></div></div></div></div></div></div></div></div></div>"
      ],
      "text/plain": [
       "GridSearchCV(cv=10,\n",
       "             estimator=Pipeline(steps=[('column_trans',\n",
       "                                        ColumnTransformer(remainder='passthrough',\n",
       "                                                          transformers=[('onehotencoder',\n",
       "                                                                         OneHotEncoder(handle_unknown='ignore'),\n",
       "                                                                         ['city',\n",
       "                                                                          'state'])])),\n",
       "                                       ('scaler',\n",
       "                                        StandardScaler(with_mean=False)),\n",
       "                                       ('RandomForestRegressor',\n",
       "                                        RandomForestRegressor())]),\n",
       "             n_jobs=2,\n",
       "             param_grid={'RandomForestRegressor__max_depth': [1, 2, 3],\n",
       "                         'RandomForestRegressor__n_estimators': [10, 11]})"
      ]
     },
     "execution_count": 24,
     "metadata": {},
     "output_type": "execute_result"
    }
   ],
   "source": [
    "param_grid =  dict()\n",
    "param_grid[\"RandomForestRegressor__max_depth\"] = [1,2,3] \n",
    "param_grid['RandomForestRegressor__n_estimators'] = [10,11]\n",
    "\n",
    "search = GridSearchCV(pipe, param_grid, cv=10, n_jobs=2)\n",
    "search"
   ]
  },
  {
   "cell_type": "code",
   "execution_count": 25,
   "id": "8eebc6d5-a130-4abf-80fd-e376ff386bcf",
   "metadata": {
    "tags": []
   },
   "outputs": [
    {
     "data": {
      "text/plain": [
       "<Experiment: artifact_location='s3://project4bucket/1', creation_time=1716000437420, experiment_id='1', last_update_time=1716000437420, lifecycle_stage='active', name='mlflow_project_4', tags={}>"
      ]
     },
     "execution_count": 25,
     "metadata": {},
     "output_type": "execute_result"
    }
   ],
   "source": [
    "# YOU MUST TAKE THE API NOT THE WEBAPP IN MY CASE IT WAS \"http://0.0.0.0:8083\" BUT API \"9000\"\n",
    "# WE ARE ALSO TAKING THE NETWORK VALUE NEVERTHELESS YOU CAN USE THE CONTEINER NAME (IN OUR CASE S3)\n",
    "\n",
    "os.environ['MLFLOW_S3_ENDPOINT_URL'] = \"http://s3:8084\" \n",
    "os.environ['AWS_ACCESS_KEY_ID'] = 'admin'\n",
    "os.environ['AWS_SECRET_ACCESS_KEY'] = 'supersecret'\n",
    "\n",
    "# connect to mlflow\n",
    "mlflow.set_tracking_uri(\"http://mlflow:8087\") # \"http://0.0.0.0:8087\")\n",
    "mlflow.set_experiment(\"mlflow_project_4\")\n",
    "\n",
    "#mlflow.sklearn.autolog(log_model_signatures=True, log_input_examples=True, registered_model_name=\"modelo1\")\n",
    "\n",
    "#with mlflow.start_run(run_name=\"autolog_pipe_model_reg\") as run:\n",
    "#    search.fit(X_train, y_train)\n",
    "#print(\"fin\")"
   ]
  },
  {
   "cell_type": "code",
   "execution_count": 26,
   "id": "c5bcb93c-7733-4c5f-81c2-0768a492b41a",
   "metadata": {
    "tags": []
   },
   "outputs": [
    {
     "name": "stdout",
     "output_type": "stream",
     "text": [
      "51239.357588167964 3929641605.7299347\n"
     ]
    }
   ],
   "source": [
    "search.fit(X_train, y_train)\n",
    "# Mejor estimador después de la búsqueda\n",
    "best_estimator = search.best_estimator_\n",
    "\n",
    "# Uso del conjunto de prueba para evaluar el modelo final\n",
    "y_pred = best_estimator.predict(X_val)\n",
    "mse = mean_squared_error(y_val, y_pred)\n",
    "mae = mean_absolute_error(y_val, y_pred)\n",
    "print(mae, mse)"
   ]
  },
  {
   "cell_type": "code",
   "execution_count": 27,
   "id": "942c8f71-4e5c-4d77-b395-23c705b4fb13",
   "metadata": {
    "tags": []
   },
   "outputs": [
    {
     "name": "stderr",
     "output_type": "stream",
     "text": [
      "Registered model 'model_final_project' already exists. Creating a new version of this model...\n",
      "2024/05/18 03:31:33 INFO mlflow.tracking._model_registry.client: Waiting up to 300 seconds for model version to finish creation. Model name: model_final_project, version 3\n",
      "Created version '3' of model 'model_final_project'.\n"
     ]
    }
   ],
   "source": [
    "# Log en MLflow\n",
    "with mlflow.start_run(run_name=\"autolog_pipe_model_reg\") as run:\n",
    "    mlflow.log_metric(\"mse\", mse)\n",
    "    mlflow.log_metric(\"mae\", mae)\n",
    "    mlflow.sklearn.log_model(best_estimator, \"model1\")\n",
    "    model_uri = f\"runs:/{run.info.run_id}/model1\"\n",
    "    model_details = mlflow.register_model(model_uri=model_uri, name=\"model_final_project\")"
   ]
  },
  {
   "cell_type": "code",
   "execution_count": 38,
   "id": "88fb58f1-41bd-48c8-91ae-c8505ed20522",
   "metadata": {
    "tags": []
   },
   "outputs": [
    {
     "name": "stdout",
     "output_type": "stream",
     "text": [
      "models:/model_final_project/production\n",
      "3932533242.514909\n",
      "models:/model_final_project/production\n",
      "3929641605.7299347\n",
      "models:/model_final_project/production\n",
      "4095477994.572927\n"
     ]
    }
   ],
   "source": [
    "# Determinar el mejor modelo\n",
    "client = mlflow.tracking.MlflowClient()\n",
    "filter_string = \"name='model_final_project'\"\n",
    "all_model_versions = client.search_model_versions(filter_string)\n",
    "best_model = None\n",
    "best_mse = float(\"Inf\")\n",
    "\n",
    "# Select best model\n",
    "for selected_model in all_model_versions:\n",
    "    client.transition_model_version_stage(\n",
    "        name=\"model_final_project\",\n",
    "        version=selected_model.version,\n",
    "        stage=\"Production\",\n",
    "        archive_existing_versions=True\n",
    "    )\n",
    "    for model in all_model_versions:\n",
    "        if model.version != selected_model.version:\n",
    "            client.transition_model_version_stage(\n",
    "                name=\"model_final_project\",\n",
    "                version=model.version,\n",
    "                stage=\"Staging\"\n",
    "            )\n",
    "    # YOU MUST TAKE THE API NOT THE WEBAPP IN MY CASE IT WAS \"http://0.0.0.0:8083\" BUT API \"9000\"\n",
    "    # WE ARE ALSO TAKING THE NETWORK VALUE NEVERTHELESS YOU CAN USE THE CONTEINER NAME (IN OUR CASE S3)\n",
    "\n",
    "    os.environ['MLFLOW_S3_ENDPOINT_URL'] = \"http://s3:8084\" # YOU MUST TAKE THE API NOT THE WEBAPP IN MY CASE IT WAS \"http://0.0.0.0:8083\" BUT API \"9000\"\n",
    "    os.environ['AWS_ACCESS_KEY_ID'] = 'admin'\n",
    "    os.environ['AWS_SECRET_ACCESS_KEY'] = 'supersecret'\n",
    "\n",
    "    # connect to mlflow\n",
    "    mlflow.set_tracking_uri(\"http://mlflow:8087\") # \"http://0.0.0.0:8087\")\n",
    "\n",
    "    model_name = \"model_final_project\"\n",
    "\n",
    "    # logged_model = 'runs:/71428bebed2b4feb9635714ea3cdb562/model'\n",
    "    model_production_uri = \"models:/{model_name}/production\".format(model_name=model_name)\n",
    "\n",
    "    print(model_production_uri)\n",
    "\n",
    "    # Load model as a PyFuncModel.\n",
    "    loaded_model = mlflow.pyfunc.load_model(model_uri=model_production_uri)\n",
    "    y_pred = loaded_model.predict(X_val)\n",
    "\n",
    "    test_mse = mean_squared_error(y_val, y_pred)\n",
    "    \n",
    "    if test_mse < best_mse:\n",
    "        best_mse = test_mse\n",
    "        best_model = selected_model\n",
    "\n",
    "    print(f\"{test_mse}\")\n",
    "\n",
    "# add into production best model selected\n",
    "if best_model:\n",
    "    client.transition_model_version_stage(\n",
    "        name=\"model_final_project\",\n",
    "        version=best_model.version,\n",
    "        stage=\"Production\",\n",
    "        archive_existing_versions=True\n",
    "    )\n",
    "    for model in all_model_versions:\n",
    "        if model.version != best_model.version:\n",
    "            client.transition_model_version_stage(\n",
    "                name=\"model_final_project\",\n",
    "                version=model.version,\n",
    "                stage=\"Staging\"\n",
    "            )"
   ]
  },
  {
   "cell_type": "code",
   "execution_count": 39,
   "id": "bf2ce3c7-5245-43e7-9f1f-ffc074e720db",
   "metadata": {
    "tags": []
   },
   "outputs": [
    {
     "name": "stdout",
     "output_type": "stream",
     "text": [
      "tracking uri: http://mlflow:8087\n",
      "artifact uri: s3://project4bucket/1/010311de304a428cbf25b49df0757d4d/artifacts\n"
     ]
    }
   ],
   "source": [
    "print('tracking uri:', mlflow.get_tracking_uri())\n",
    "print('artifact uri:', mlflow.get_artifact_uri())"
   ]
  },
  {
   "cell_type": "code",
   "execution_count": null,
   "id": "bfdc0610-213b-47ab-ba4a-48fbf03b1af6",
   "metadata": {},
   "outputs": [],
   "source": []
  },
  {
   "cell_type": "markdown",
   "id": "28a70ef2-2c37-428d-9610-683a437b7518",
   "metadata": {
    "tags": []
   },
   "source": [
    "# **Evaluation**"
   ]
  },
  {
   "cell_type": "code",
   "execution_count": 40,
   "id": "a8cbe1bb-90ef-4519-a8d8-f79a7cf8e83e",
   "metadata": {
    "tags": []
   },
   "outputs": [
    {
     "name": "stdout",
     "output_type": "stream",
     "text": [
      "models:/model_final_project/production\n",
      "Best model has an mse of 3975818620.319927 and mae of 51600.63748929935 in test\n"
     ]
    }
   ],
   "source": [
    "# YOU MUST TAKE THE API NOT THE WEBAPP IN MY CASE IT WAS \"http://0.0.0.0:8083\" BUT API \"9000\"\n",
    "# WE ARE ALSO TAKING THE NETWORK VALUE NEVERTHELESS YOU CAN USE THE CONTEINER NAME (IN OUR CASE S3)\n",
    "\n",
    "os.environ['MLFLOW_S3_ENDPOINT_URL'] = \"http://s3:8084\" # YOU MUST TAKE THE API NOT THE WEBAPP IN MY CASE IT WAS \"http://0.0.0.0:8083\" BUT API \"9000\"\n",
    "os.environ['AWS_ACCESS_KEY_ID'] = 'admin'\n",
    "os.environ['AWS_SECRET_ACCESS_KEY'] = 'supersecret'\n",
    "\n",
    "# connect to mlflow\n",
    "mlflow.set_tracking_uri(\"http://mlflow:8087\") # \"http://0.0.0.0:8087\")\n",
    "\n",
    "model_name = \"model_final_project\"\n",
    "\n",
    "# logged_model = 'runs:/71428bebed2b4feb9635714ea3cdb562/model'\n",
    "model_production_uri = \"models:/{model_name}/production\".format(model_name=model_name)\n",
    "\n",
    "print(model_production_uri)\n",
    "\n",
    "# Load model as a PyFuncModel.\n",
    "loaded_model = mlflow.pyfunc.load_model(model_uri=model_production_uri)\n",
    "y_pred = loaded_model.predict(X_test)\n",
    "\n",
    "test_mse = mean_squared_error(y_test, y_pred)\n",
    "test_mae = mean_absolute_error(y_test, y_pred)\n",
    "\n",
    "print(f\"Best model has an mse of {test_mse} and mae of {test_mae} in test\")"
   ]
  },
  {
   "cell_type": "code",
   "execution_count": 41,
   "id": "1482f8a9-4311-4069-bada-1da33f2390d8",
   "metadata": {
    "tags": []
   },
   "outputs": [
    {
     "data": {
      "text/plain": [
       "{'bed': [2.9617287434161024],\n",
       " 'bath': [1.912728868823677],\n",
       " 'acre_lot': [14.474914503386007],\n",
       " 'street': [925707.5042074241],\n",
       " 'house_size': [1527.862543892651],\n",
       " 'city': [11689],\n",
       " 'state': [51],\n",
       " 'len_dataset': [318960],\n",
       " 'mse': [4159699378],\n",
       " 'mae': [52316]}"
      ]
     },
     "execution_count": 41,
     "metadata": {},
     "output_type": "execute_result"
    }
   ],
   "source": [
    "# Parameters\n",
    "DB_HOST = \"mysql\" # \"10.43.101.158\" # \"localhost\" \"10.43.101.158\"  # Using INTERNET!\n",
    "DB_USER = \"root\"\n",
    "DB_PASSWORD = \"airflow\" \n",
    "DB_NAME = \"project_4\"\n",
    "PORT= 3306\n",
    "\n",
    "# Connect to MySQL\n",
    "engine = sqlalchemy.create_engine(f'mysql+pymysql://{DB_USER}:{DB_PASSWORD}@{DB_HOST}:{PORT}/{DB_NAME}')\n",
    "table_name = \"metrics_retraining_to_be_saved\"\n",
    "\n",
    "with engine.begin() as conn:\n",
    "    query = sqlalchemy.text(f\"\"\"SELECT * FROM {table_name}\"\"\")\n",
    "    df = pd.read_sql_query(query, conn)\n",
    "    df = df.tail(1)\n",
    "dict_load = df.to_dict(orient=\"list\")\n",
    "dict_load"
   ]
  },
  {
   "cell_type": "code",
   "execution_count": 42,
   "id": "2f0ae834-40ed-420d-b5a1-81c9e6481453",
   "metadata": {
    "tags": []
   },
   "outputs": [
    {
     "data": {
      "text/plain": [
       "1"
      ]
     },
     "execution_count": 42,
     "metadata": {},
     "output_type": "execute_result"
    }
   ],
   "source": [
    "dict_load[\"mse\"] = [test_mse]\n",
    "dict_load[\"mae\"] = [test_mae]\n",
    "table_metrics = pd.DataFrame(dict_load)\n",
    "# Save data, if exits append into the current table\n",
    "table_metrics.to_sql(table_name, con=engine, if_exists='append', index=False)"
   ]
  },
  {
   "cell_type": "markdown",
   "id": "08fe3dfe-d6de-493d-bd10-ba8d0b696738",
   "metadata": {},
   "source": [
    "# **Save parameters from prediction**"
   ]
  },
  {
   "cell_type": "code",
   "execution_count": 32,
   "id": "6510326a-def5-4732-921a-5d08119987d2",
   "metadata": {
    "tags": []
   },
   "outputs": [],
   "source": [
    "def pre_process(value_to_predict):\n",
    "    unique_columns_to_use = [\"bed\", \"bath\", \"acre_lot\", \"street\", \"city\", \"state\", \"house_size\"] # \"price\"\n",
    "    value_to_predict = value_to_predict[unique_columns_to_use]\n",
    "    return value_to_predict"
   ]
  },
  {
   "cell_type": "code",
   "execution_count": 44,
   "id": "4c0dd915-aa9e-4b7c-b3cd-f7926dda357a",
   "metadata": {
    "tags": []
   },
   "outputs": [
    {
     "data": {
      "text/html": [
       "<div>\n",
       "<style scoped>\n",
       "    .dataframe tbody tr th:only-of-type {\n",
       "        vertical-align: middle;\n",
       "    }\n",
       "\n",
       "    .dataframe tbody tr th {\n",
       "        vertical-align: top;\n",
       "    }\n",
       "\n",
       "    .dataframe thead th {\n",
       "        text-align: right;\n",
       "    }\n",
       "</style>\n",
       "<table border=\"1\" class=\"dataframe\">\n",
       "  <thead>\n",
       "    <tr style=\"text-align: right;\">\n",
       "      <th></th>\n",
       "      <th>brokered_by</th>\n",
       "      <th>status</th>\n",
       "      <th>price</th>\n",
       "      <th>bed</th>\n",
       "      <th>bath</th>\n",
       "      <th>acre_lot</th>\n",
       "      <th>street</th>\n",
       "      <th>city</th>\n",
       "      <th>state</th>\n",
       "      <th>zip_code</th>\n",
       "      <th>house_size</th>\n",
       "      <th>prev_sold_date</th>\n",
       "    </tr>\n",
       "  </thead>\n",
       "  <tbody>\n",
       "    <tr>\n",
       "      <th>10000</th>\n",
       "      <td>10481.0</td>\n",
       "      <td>for_sale</td>\n",
       "      <td>229000.0</td>\n",
       "      <td>3.0</td>\n",
       "      <td>2.0</td>\n",
       "      <td>1.0</td>\n",
       "      <td>1612297.0</td>\n",
       "      <td>Airville</td>\n",
       "      <td>Pennsylvania</td>\n",
       "      <td>17302.0</td>\n",
       "      <td>1792.0</td>\n",
       "      <td>2013-07-12</td>\n",
       "    </tr>\n",
       "  </tbody>\n",
       "</table>\n",
       "</div>"
      ],
      "text/plain": [
       "      brokered_by    status     price  bed bath acre_lot     street      city  \\\n",
       "10000     10481.0  for_sale  229000.0  3.0  2.0      1.0  1612297.0  Airville   \n",
       "\n",
       "              state zip_code house_size prev_sold_date  \n",
       "10000  Pennsylvania  17302.0     1792.0     2013-07-12  "
      ]
     },
     "execution_count": 44,
     "metadata": {},
     "output_type": "execute_result"
    }
   ],
   "source": []
  },
  {
   "cell_type": "code",
   "execution_count": 51,
   "id": "779cd9d2-2a61-4394-be7d-5f33f3893535",
   "metadata": {
    "tags": []
   },
   "outputs": [
    {
     "name": "stdout",
     "output_type": "stream",
     "text": [
      "models:/model_final_project/production\n"
     ]
    },
    {
     "data": {
      "text/html": [
       "<div>\n",
       "<style scoped>\n",
       "    .dataframe tbody tr th:only-of-type {\n",
       "        vertical-align: middle;\n",
       "    }\n",
       "\n",
       "    .dataframe tbody tr th {\n",
       "        vertical-align: top;\n",
       "    }\n",
       "\n",
       "    .dataframe thead th {\n",
       "        text-align: right;\n",
       "    }\n",
       "</style>\n",
       "<table border=\"1\" class=\"dataframe\">\n",
       "  <thead>\n",
       "    <tr style=\"text-align: right;\">\n",
       "      <th></th>\n",
       "      <th>brokered_by</th>\n",
       "      <th>status</th>\n",
       "      <th>bed</th>\n",
       "      <th>bath</th>\n",
       "      <th>acre_lot</th>\n",
       "      <th>street</th>\n",
       "      <th>city</th>\n",
       "      <th>state</th>\n",
       "      <th>zip_code</th>\n",
       "      <th>house_size</th>\n",
       "      <th>prev_sold_date</th>\n",
       "      <th>price</th>\n",
       "    </tr>\n",
       "  </thead>\n",
       "  <tbody>\n",
       "    <tr>\n",
       "      <th>0</th>\n",
       "      <td>10481.0</td>\n",
       "      <td>for_sale</td>\n",
       "      <td>3.0</td>\n",
       "      <td>2.0</td>\n",
       "      <td>1.0</td>\n",
       "      <td>1612297.0</td>\n",
       "      <td>Airville</td>\n",
       "      <td>Pennsylvania</td>\n",
       "      <td>17302.0</td>\n",
       "      <td>1792.0</td>\n",
       "      <td>2013-07-12</td>\n",
       "      <td>219306.792294</td>\n",
       "    </tr>\n",
       "  </tbody>\n",
       "</table>\n",
       "</div>"
      ],
      "text/plain": [
       "  brokered_by    status  bed bath acre_lot     street      city         state  \\\n",
       "0     10481.0  for_sale  3.0  2.0      1.0  1612297.0  Airville  Pennsylvania   \n",
       "\n",
       "  zip_code house_size prev_sold_date          price  \n",
       "0  17302.0     1792.0     2013-07-12  219306.792294  "
      ]
     },
     "execution_count": 51,
     "metadata": {},
     "output_type": "execute_result"
    }
   ],
   "source": [
    "X_input = pd.DataFrame(df.iloc[10000, :]).T.copy().reset_index(drop=True)\n",
    "X_input = X_input.drop([\"price\"], axis=1)\n",
    "X_prediction = pre_process(X_input)\n",
    "\n",
    "os.environ['MLFLOW_S3_ENDPOINT_URL'] = \"http://s3:8084\" # YOU MUST TAKE THE API NOT THE WEBAPP IN MY CASE IT WAS \"http://0.0.0.0:8083\" BUT API \"9000\"\n",
    "os.environ['AWS_ACCESS_KEY_ID'] = 'admin'\n",
    "os.environ['AWS_SECRET_ACCESS_KEY'] = 'supersecret'\n",
    "\n",
    "# connect to mlflow\n",
    "mlflow.set_tracking_uri(\"http://mlflow:8087\") # \"http://0.0.0.0:8087\")\n",
    "\n",
    "model_name = \"model_final_project\"\n",
    "\n",
    "# logged_model = 'runs:/71428bebed2b4feb9635714ea3cdb562/model'\n",
    "model_production_uri = \"models:/{model_name}/production\".format(model_name=model_name)\n",
    "\n",
    "print(model_production_uri)\n",
    "\n",
    "# Load model as a PyFuncModel.\n",
    "loaded_model = mlflow.pyfunc.load_model(model_uri=model_production_uri)\n",
    "y_pred = loaded_model.predict(X_prediction)\n",
    "\n",
    "y_pred = pd.DataFrame(y_pred, columns=[\"price\"])\n",
    "\n",
    "df_upload_predictions = pd.concat([X_input, y_pred], axis=1)\n",
    "\n",
    "df_upload_predictions"
   ]
  },
  {
   "cell_type": "code",
   "execution_count": 52,
   "id": "18445033-b68f-47bc-81ff-63e4122b4b3a",
   "metadata": {
    "tags": []
   },
   "outputs": [
    {
     "data": {
      "text/plain": [
       "1"
      ]
     },
     "execution_count": 52,
     "metadata": {},
     "output_type": "execute_result"
    }
   ],
   "source": [
    "# Parameters\n",
    "DB_HOST = \"mysql\" # \"10.43.101.158\" # \"localhost\" \"10.43.101.158\"  # Using INTERNET!\n",
    "DB_USER = \"root\"\n",
    "DB_PASSWORD = \"airflow\" \n",
    "DB_NAME = \"project_4\"\n",
    "PORT= 3306\n",
    "\n",
    "# Connect to MySQL\n",
    "engine = sqlalchemy.create_engine(f'mysql+pymysql://{DB_USER}:{DB_PASSWORD}@{DB_HOST}:{PORT}/{DB_NAME}')\n",
    "\n",
    "\n",
    "# Save data, if exits append into the current table\n",
    "df_upload_predictions.to_sql('raw_data', con=engine, if_exists='append', index=False)"
   ]
  }
 ],
 "metadata": {
  "kernelspec": {
   "display_name": "Python 3 (ipykernel)",
   "language": "python",
   "name": "python3"
  },
  "language_info": {
   "codemirror_mode": {
    "name": "ipython",
    "version": 3
   },
   "file_extension": ".py",
   "mimetype": "text/x-python",
   "name": "python",
   "nbconvert_exporter": "python",
   "pygments_lexer": "ipython3",
   "version": "3.9.19"
  }
 },
 "nbformat": 4,
 "nbformat_minor": 5
}
