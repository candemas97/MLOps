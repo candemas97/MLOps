{
 "cells": [
  {
   "cell_type": "code",
   "execution_count": 6,
   "metadata": {},
   "outputs": [],
   "source": [
    "import requests\n",
    "import pandas as pd"
   ]
  },
  {
   "cell_type": "code",
   "execution_count": 2,
   "metadata": {},
   "outputs": [],
   "source": [
    "patient_data = {\n",
    "    \"race\": [\"Caucasian\"],\n",
    "    \"gender\": [\"Female\"],\n",
    "    \"age\": [\"High level\"],\n",
    "    \"admission_type_id\": [\"2\"],\n",
    "    \"discharge_disposition_id\": [\"1\"],\n",
    "    \"admission_source_id\": [\"1\"],\n",
    "    \"time_in_hospital\": [10],\n",
    "    \"num_lab_procedures\": [36],\n",
    "    \"num_procedures\": [3],\n",
    "    \"num_medications\": [16],\n",
    "    \"number_outpatient\": [0],\n",
    "    \"number_emergency\": [0],\n",
    "    \"number_inpatient\": [1],\n",
    "    \"number_diagnoses\": [5],\n",
    "    \"metformin\": [\"No\"],\n",
    "    \"repaglinide\": [\"No\"],\n",
    "    \"nateglinide\": [\"No\"],\n",
    "    \"chlorpropamide\": [\"No\"],\n",
    "    \"glimepiride\": [\"No\"],\n",
    "    \"acetohexamide\": [\"No\"],\n",
    "    \"glipizide\": [\"No\"],\n",
    "    \"glyburide\": [\"No\"],\n",
    "    \"tolbutamide\": [\"No\"],\n",
    "    \"pioglitazone\": [\"No\"],\n",
    "    \"rosiglitazone\": [\"No\"],\n",
    "    \"acarbose\": [\"No\"],\n",
    "    \"miglitol\": [\"No\"],\n",
    "    \"troglitazone\": [\"No\"],\n",
    "    \"tolazamide\": [\"No\"],\n",
    "    \"examide\": [\"No\"],\n",
    "    \"citoglipton\": [\"No\"],\n",
    "    \"insulin\": [\"Steady\"],\n",
    "    \"glyburide-metformin\": [\"No\"],\n",
    "    \"glipizide-metformin\": [\"No\"],\n",
    "    \"glimepiride-pioglitazone\": [\"No\"],\n",
    "    \"metformin-rosiglitazone\": [\"No\"],\n",
    "    \"metformin-pioglitazone\": [\"No\"],\n",
    "    \"change\": [\"No\"],\n",
    "    \"diabetesMed\": [\"Yes\"],\n",
    "    \"diag_1_group\": [\"Other\"],\n",
    "    \"readmitted\": [\"NO\"]\n",
    "}\n"
   ]
  },
  {
   "cell_type": "code",
   "execution_count": 5,
   "metadata": {},
   "outputs": [
    {
     "data": {
      "text/plain": [
       "<Response [200]>"
      ]
     },
     "execution_count": 5,
     "metadata": {},
     "output_type": "execute_result"
    }
   ],
   "source": [
    "IP = \"localhost\"  # \"10.43.101.158\"  # \"localhost\"\n",
    "\n",
    "url_request_api = f\"http://{IP}:8085/prediction-readmission/\"\n",
    "respuesta = requests.post(url_request_api, json=patient_data)\n",
    "respuesta"
   ]
  },
  {
   "cell_type": "code",
   "execution_count": 8,
   "metadata": {},
   "outputs": [
    {
     "data": {
      "text/html": [
       "<div>\n",
       "<style scoped>\n",
       "    .dataframe tbody tr th:only-of-type {\n",
       "        vertical-align: middle;\n",
       "    }\n",
       "\n",
       "    .dataframe tbody tr th {\n",
       "        vertical-align: top;\n",
       "    }\n",
       "\n",
       "    .dataframe thead th {\n",
       "        text-align: right;\n",
       "    }\n",
       "</style>\n",
       "<table border=\"1\" class=\"dataframe\">\n",
       "  <thead>\n",
       "    <tr style=\"text-align: right;\">\n",
       "      <th></th>\n",
       "      <th>readmission</th>\n",
       "    </tr>\n",
       "  </thead>\n",
       "  <tbody>\n",
       "    <tr>\n",
       "      <th>Prediction</th>\n",
       "      <td>NO</td>\n",
       "    </tr>\n",
       "  </tbody>\n",
       "</table>\n",
       "</div>"
      ],
      "text/plain": [
       "           readmission\n",
       "Prediction          NO"
      ]
     },
     "execution_count": 8,
     "metadata": {},
     "output_type": "execute_result"
    }
   ],
   "source": [
    "respuesta_json = respuesta.json()\n",
    "df = pd.DataFrame(respuesta_json, index=[\"Prediction\"])\n",
    "df"
   ]
  }
 ],
 "metadata": {
  "kernelspec": {
   "display_name": "Python 3",
   "language": "python",
   "name": "python3"
  },
  "language_info": {
   "codemirror_mode": {
    "name": "ipython",
    "version": 3
   },
   "file_extension": ".py",
   "mimetype": "text/x-python",
   "name": "python",
   "nbconvert_exporter": "python",
   "pygments_lexer": "ipython3",
   "version": "3.11.2"
  }
 },
 "nbformat": 4,
 "nbformat_minor": 2
}
